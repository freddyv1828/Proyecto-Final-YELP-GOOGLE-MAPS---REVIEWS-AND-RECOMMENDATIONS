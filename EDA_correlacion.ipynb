{
  "nbformat": 4,
  "nbformat_minor": 0,
  "metadata": {
    "colab": {
      "name": "BigQuery table",
      "cell_execution_strategy": "setup",
      "provenance": []
    },
    "kernelspec": {
      "name": "python3",
      "display_name": "Python 3"
    },
    "language_info": {
      "name": "python"
    }
  },
  "cells": [
    {
      "cell_type": "code",
      "source": [
        "import bigframes.pandas as bf\n",
        "\n",
        "# Cerrar la sesión actual, si está abierta\n",
        "bf.close_session()\n",
        "\n",
        "# Configurar opciones de BigQuery\n",
        "bf.options.bigquery.location = \"us-central1\"\n",
        "bf.options.bigquery.project = \"eminent-cycle-415715\"\n",
        "\n",
        "# Iniciar una nueva sesión y cargar los datos de la tabla business\n",
        "df_business = bf.read_gbq(\"SELECT * FROM `eminent-cycle-415715.prueba_ai_ML.business`\")\n",
        "\n",
        "# Visualizar las primeras 20 filas del DataFrame\n",
        "df_business.head(20)"
      ],
      "metadata": {
        "colab": {
          "base_uri": "https://localhost:8080/",
          "height": 1000
        },
        "id": "hwfbHo8c2pfI",
        "executionInfo": {
          "status": "ok",
          "timestamp": 1710524409023,
          "user_tz": 180,
          "elapsed": 14364,
          "user": {
            "displayName": "",
            "userId": ""
          }
        },
        "outputId": "8ebb2bca-945f-4079-eb33-d5327738dbff"
      },
      "execution_count": 1,
      "outputs": [
        {
          "output_type": "display_data",
          "data": {
            "text/plain": [
              "<IPython.core.display.HTML object>"
            ],
            "text/html": [
              "Query job e03aa9cf-e173-4e07-a3d1-db3a3f311576 is DONE. 6.5 MB processed. <a target=\"_blank\" href=\"https://console.cloud.google.com/bigquery?project=eminent-cycle-415715&j=bq:us-central1:e03aa9cf-e173-4e07-a3d1-db3a3f311576&page=queryresults\">Open Job</a>"
            ]
          },
          "metadata": {}
        },
        {
          "output_type": "display_data",
          "data": {
            "text/plain": [
              "<IPython.core.display.HTML object>"
            ],
            "text/html": [
              "Query job d6cf6e30-9e1a-47d2-99fe-cf4b398b4ad6 is DONE. 6.5 MB processed. <a target=\"_blank\" href=\"https://console.cloud.google.com/bigquery?project=eminent-cycle-415715&j=bq:us-central1:d6cf6e30-9e1a-47d2-99fe-cf4b398b4ad6&page=queryresults\">Open Job</a>"
            ]
          },
          "metadata": {}
        },
        {
          "output_type": "display_data",
          "data": {
            "text/plain": [
              "<IPython.core.display.HTML object>"
            ],
            "text/html": [
              "Query job a410104c-df17-4c7b-bdfa-c7d2aa896d42 is DONE. 0 Bytes processed. <a target=\"_blank\" href=\"https://console.cloud.google.com/bigquery?project=eminent-cycle-415715&j=bq:us-central1:a410104c-df17-4c7b-bdfa-c7d2aa896d42&page=queryresults\">Open Job</a>"
            ]
          },
          "metadata": {}
        },
        {
          "output_type": "display_data",
          "data": {
            "text/plain": [
              "<IPython.core.display.HTML object>"
            ],
            "text/html": [
              "Query job c08b0e79-7e85-4dd5-aec4-cfffc0ef945b is DONE. 5.2 kB processed. <a target=\"_blank\" href=\"https://console.cloud.google.com/bigquery?project=eminent-cycle-415715&j=bq:us-central1:c08b0e79-7e85-4dd5-aec4-cfffc0ef945b&page=queryresults\">Open Job</a>"
            ]
          },
          "metadata": {}
        },
        {
          "output_type": "execute_result",
          "data": {
            "text/plain": [
              "    int64_field_0                            business_id  \\\n",
              "0            1423  0x88e4277435b92343:0x4b21af8287138210   \n",
              "1            7606  0x88d9b75d2c5adaab:0xbc9edce5dcd7e292   \n",
              "2           18601                 ekZqjxHCtN1cFkaj-W-8Dg   \n",
              "3            5903  0x80dd31a20629ed97:0x5bd1e3c329f56b77   \n",
              "4           28290                 L-mMtwcJwHlg4Vt4O1MaXQ   \n",
              "5           18519                 apmw_lkLdwWbeYiI9ysdJg   \n",
              "6            1317  0x88d9b719c26d0a43:0x7299af59d39b2297   \n",
              "7            7520  0x80dbff96b109bed5:0x2e7f90f1b1dd91f3   \n",
              "8            6839  0x80c2d8feea053b55:0x3d04800de4f0970f   \n",
              "9           28146                 j_9oCefv9fBm2kg_-zCnSA   \n",
              "10           1379  0x88de0d3165ae8107:0x17c2935fb4401629   \n",
              "11          15844                 xkTjLbBC7uB-rAIDqAm-sw   \n",
              "12          14269  0x88c2fb8575d8d323:0xbdf137cfc5058888   \n",
              "13           3153  0x80dce7fc62fa7acb:0xe842a7b6d2f9c952   \n",
              "14          27098                 xOJy0o-qdWh8qFpEwLpooQ   \n",
              "15          12093  0x80c32f3a13b5bf73:0xa3d41c6c19a833a6   \n",
              "16          10797  0x88d9079238530e57:0x7caae4ce76538b9c   \n",
              "17          13213  0x80dd285e08bba857:0x8f9e1aaaeb5fcc89   \n",
              "18          20547                 RgWE83xEpRBms1HMuxutDw   \n",
              "19          20974                 f9EcjCMakeDJMRR7nKH6zw   \n",
              "\n",
              "                              name  \\\n",
              "0                            MBQue   \n",
              "1     Namaste Miami Indian Cuisine   \n",
              "2          Prime Time Sports Grill   \n",
              "3        Taqueria Los Tres Garcias   \n",
              "4     Santa Barbara Tourist Hostel   \n",
              "5                           Bar 29   \n",
              "6                Chatos Night Club   \n",
              "7                       K. Cuisine   \n",
              "8   Kabayan Filipino Food & Market   \n",
              "9     Jimmy's Boulevard Restaurant   \n",
              "10  T & B's Corner Diner and Grill   \n",
              "11                   Los Comparres   \n",
              "12                       Starbucks   \n",
              "13                 Pressed Juicery   \n",
              "14                       Pizza Hut   \n",
              "15     Zendejas Mexican Restaurant   \n",
              "16                   Tijuana Flats   \n",
              "17           Arabisc Hookah Lounge   \n",
              "18                   JB Mapes & Co   \n",
              "19                      McDonald's   \n",
              "\n",
              "                                              address   latitude   longitude  \\\n",
              "0   MBQue, 604 Anastasia Blvd, St. Augustine, FL 3...  29.889782  -81.292916   \n",
              "1   Namaste Miami Indian Cuisine, 221 Navarre Ave,...  25.754553  -80.259204   \n",
              "2                              14404 N Dale Mabry Hwy  28.078977  -82.507865   \n",
              "3     Taqueria Los Tres Garcias, Long Beach, CA 90804  33.782608 -118.150009   \n",
              "4                                      134 Chapala St  34.413094 -119.692407   \n",
              "5                                     1134 Chapala St  34.422291 -119.705339   \n",
              "6   Chatos Night Club, 2917 NW 7th St, Miami, FL 3...   25.77969  -80.242296   \n",
              "7   K. Cuisine, 4688 Convoy St #112, San Diego, CA...  32.826335 -117.155602   \n",
              "8   Kabayan Filipino Food & Market, 1743 E Hunting...  34.140007  -117.96741   \n",
              "9                                     6211 Grand Blvd  28.248841  -82.720026   \n",
              "10  T & B's Corner Diner and Grill, 3555 Bayside L...  27.948321  -80.658985   \n",
              "11                                 5305 N Armenia Ave  27.995155   -82.48414   \n",
              "12  Starbucks, 7398 Seminole Blvd, Seminole, FL 33...  27.839167  -82.787516   \n",
              "13  Pressed Juicery, 808 Spectrum Center Dr, Irvin...  33.648948 -117.742303   \n",
              "14                                  33505 US Hwy 19 N  28.077294  -82.738367   \n",
              "15  Zendejas Mexican Restaurant, 665 W Arrow Hwy, ...  34.106111 -117.818333   \n",
              "16  Tijuana Flats, 1371 S University Dr, Plantatio...  26.103018  -80.251341   \n",
              "17  Arabisc Hookah Lounge, 9562 Chapman Ave, Garde...  33.788122 -117.966253   \n",
              "18                            50 N Sierra St, Ste 103    39.5252 -119.814042   \n",
              "19                                2675 Roosevelt Blvd  27.915742  -82.726435   \n",
              "\n",
              "      category  stars  review_count  price noiselevel    parking  \\\n",
              "0   Restaurant    4.1            18   <NA>  sin datos  sin datos   \n",
              "1   Restaurant    4.8            97    2.0  sin datos  sin datos   \n",
              "2   Restaurant    4.0           111   <NA>    average       True   \n",
              "3   Restaurant    4.6            48   <NA>  sin datos  sin datos   \n",
              "4        Hotel    2.5            29   <NA>  sin datos      False   \n",
              "5   Restaurant    4.5           106   <NA>    average       True   \n",
              "6   Restaurant    3.9            68   <NA>  sin datos  sin datos   \n",
              "7   Restaurant    4.4            38   <NA>  sin datos  sin datos   \n",
              "8   Restaurant    4.1            18   <NA>  sin datos  sin datos   \n",
              "9   Restaurant    4.0            21   <NA>    average       True   \n",
              "10  Restaurant    4.5            18   <NA>  sin datos  sin datos   \n",
              "11  Restaurant    4.5           339   <NA>    average       True   \n",
              "12  Restaurant    4.2           662    2.0  sin datos  sin datos   \n",
              "13  Restaurant    4.4            65    2.0  sin datos  sin datos   \n",
              "14  Restaurant    2.0             9   <NA>  very_loud      False   \n",
              "15  Restaurant    4.0           778    2.0  sin datos  sin datos   \n",
              "16  Restaurant    4.4           438    1.0  sin datos  sin datos   \n",
              "17  Restaurant    3.9            24    2.0  sin datos  sin datos   \n",
              "18  Restaurant    3.5            39   <NA>    average       True   \n",
              "19  Restaurant    1.5            38   <NA>  sin datos      False   \n",
              "\n",
              "   accepts_credit_cards       wifi restaurant_delivery     has_tv  \\\n",
              "0             sin datos  sin datos           sin datos  sin datos   \n",
              "1             sin datos  sin datos           sin datos  sin datos   \n",
              "2                  True       Free                True       True   \n",
              "3             sin datos  sin datos           sin datos  sin datos   \n",
              "4                  True       Free               False      False   \n",
              "5                  True       Free                True      False   \n",
              "6             sin datos  sin datos           sin datos  sin datos   \n",
              "7             sin datos  sin datos           sin datos  sin datos   \n",
              "8             sin datos  sin datos           sin datos  sin datos   \n",
              "9                  True         No               False       True   \n",
              "10            sin datos  sin datos           sin datos  sin datos   \n",
              "11                 True         No                True       True   \n",
              "12            sin datos  sin datos           sin datos  sin datos   \n",
              "13            sin datos  sin datos           sin datos  sin datos   \n",
              "14                 True         No                True       True   \n",
              "15            sin datos  sin datos           sin datos  sin datos   \n",
              "16            sin datos  sin datos           sin datos  sin datos   \n",
              "17            sin datos  sin datos           sin datos  sin datos   \n",
              "18                 True         No               False      False   \n",
              "19                 True       Free                True       True   \n",
              "\n",
              "   restaurant_takeout       state                 city  \n",
              "0           sin datos     Florida      Saint Augustine  \n",
              "1           sin datos     Florida         Coral Gables  \n",
              "2                True     Florida  Carrollwood Village  \n",
              "3           sin datos  California          Signal Hill  \n",
              "4               False  California        Santa Barbara  \n",
              "5                True  California        Santa Barbara  \n",
              "6           sin datos     Florida           Allapattah  \n",
              "7           sin datos  California            San Diego  \n",
              "8           sin datos  California             Bradbury  \n",
              "9                True     Florida      New Port Richey  \n",
              "10          sin datos     Florida       Grant-Valkaria  \n",
              "11               True     Florida      Egypt Lake-Leto  \n",
              "12          sin datos     Florida             Seminole  \n",
              "13          sin datos  California         Laguna Woods  \n",
              "14               True     Florida         Saint George  \n",
              "15          sin datos  California            San Dimas  \n",
              "16          sin datos     Florida    Pine Island Ridge  \n",
              "17          sin datos  California         Garden Grove  \n",
              "18               True      Nevada                 Reno  \n",
              "19               True     Florida      South Highpoint  \n",
              "\n",
              "[20 rows x 19 columns]"
            ],
            "text/html": [
              "<div>\n",
              "<style scoped>\n",
              "    .dataframe tbody tr th:only-of-type {\n",
              "        vertical-align: middle;\n",
              "    }\n",
              "\n",
              "    .dataframe tbody tr th {\n",
              "        vertical-align: top;\n",
              "    }\n",
              "\n",
              "    .dataframe thead th {\n",
              "        text-align: right;\n",
              "    }\n",
              "</style>\n",
              "<table border=\"1\" class=\"dataframe\">\n",
              "  <thead>\n",
              "    <tr style=\"text-align: right;\">\n",
              "      <th></th>\n",
              "      <th>int64_field_0</th>\n",
              "      <th>business_id</th>\n",
              "      <th>name</th>\n",
              "      <th>address</th>\n",
              "      <th>latitude</th>\n",
              "      <th>longitude</th>\n",
              "      <th>category</th>\n",
              "      <th>stars</th>\n",
              "      <th>review_count</th>\n",
              "      <th>price</th>\n",
              "      <th>noiselevel</th>\n",
              "      <th>parking</th>\n",
              "      <th>accepts_credit_cards</th>\n",
              "      <th>wifi</th>\n",
              "      <th>restaurant_delivery</th>\n",
              "      <th>has_tv</th>\n",
              "      <th>restaurant_takeout</th>\n",
              "      <th>state</th>\n",
              "      <th>city</th>\n",
              "    </tr>\n",
              "  </thead>\n",
              "  <tbody>\n",
              "    <tr>\n",
              "      <th>0</th>\n",
              "      <td>1423</td>\n",
              "      <td>0x88e4277435b92343:0x4b21af8287138210</td>\n",
              "      <td>MBQue</td>\n",
              "      <td>MBQue, 604 Anastasia Blvd, St. Augustine, FL 3...</td>\n",
              "      <td>29.889782</td>\n",
              "      <td>-81.292916</td>\n",
              "      <td>Restaurant</td>\n",
              "      <td>4.1</td>\n",
              "      <td>18</td>\n",
              "      <td>&lt;NA&gt;</td>\n",
              "      <td>sin datos</td>\n",
              "      <td>sin datos</td>\n",
              "      <td>sin datos</td>\n",
              "      <td>sin datos</td>\n",
              "      <td>sin datos</td>\n",
              "      <td>sin datos</td>\n",
              "      <td>sin datos</td>\n",
              "      <td>Florida</td>\n",
              "      <td>Saint Augustine</td>\n",
              "    </tr>\n",
              "    <tr>\n",
              "      <th>1</th>\n",
              "      <td>7606</td>\n",
              "      <td>0x88d9b75d2c5adaab:0xbc9edce5dcd7e292</td>\n",
              "      <td>Namaste Miami Indian Cuisine</td>\n",
              "      <td>Namaste Miami Indian Cuisine, 221 Navarre Ave,...</td>\n",
              "      <td>25.754553</td>\n",
              "      <td>-80.259204</td>\n",
              "      <td>Restaurant</td>\n",
              "      <td>4.8</td>\n",
              "      <td>97</td>\n",
              "      <td>2.0</td>\n",
              "      <td>sin datos</td>\n",
              "      <td>sin datos</td>\n",
              "      <td>sin datos</td>\n",
              "      <td>sin datos</td>\n",
              "      <td>sin datos</td>\n",
              "      <td>sin datos</td>\n",
              "      <td>sin datos</td>\n",
              "      <td>Florida</td>\n",
              "      <td>Coral Gables</td>\n",
              "    </tr>\n",
              "    <tr>\n",
              "      <th>2</th>\n",
              "      <td>18601</td>\n",
              "      <td>ekZqjxHCtN1cFkaj-W-8Dg</td>\n",
              "      <td>Prime Time Sports Grill</td>\n",
              "      <td>14404 N Dale Mabry Hwy</td>\n",
              "      <td>28.078977</td>\n",
              "      <td>-82.507865</td>\n",
              "      <td>Restaurant</td>\n",
              "      <td>4.0</td>\n",
              "      <td>111</td>\n",
              "      <td>&lt;NA&gt;</td>\n",
              "      <td>average</td>\n",
              "      <td>True</td>\n",
              "      <td>True</td>\n",
              "      <td>Free</td>\n",
              "      <td>True</td>\n",
              "      <td>True</td>\n",
              "      <td>True</td>\n",
              "      <td>Florida</td>\n",
              "      <td>Carrollwood Village</td>\n",
              "    </tr>\n",
              "    <tr>\n",
              "      <th>3</th>\n",
              "      <td>5903</td>\n",
              "      <td>0x80dd31a20629ed97:0x5bd1e3c329f56b77</td>\n",
              "      <td>Taqueria Los Tres Garcias</td>\n",
              "      <td>Taqueria Los Tres Garcias, Long Beach, CA 90804</td>\n",
              "      <td>33.782608</td>\n",
              "      <td>-118.150009</td>\n",
              "      <td>Restaurant</td>\n",
              "      <td>4.6</td>\n",
              "      <td>48</td>\n",
              "      <td>&lt;NA&gt;</td>\n",
              "      <td>sin datos</td>\n",
              "      <td>sin datos</td>\n",
              "      <td>sin datos</td>\n",
              "      <td>sin datos</td>\n",
              "      <td>sin datos</td>\n",
              "      <td>sin datos</td>\n",
              "      <td>sin datos</td>\n",
              "      <td>California</td>\n",
              "      <td>Signal Hill</td>\n",
              "    </tr>\n",
              "    <tr>\n",
              "      <th>4</th>\n",
              "      <td>28290</td>\n",
              "      <td>L-mMtwcJwHlg4Vt4O1MaXQ</td>\n",
              "      <td>Santa Barbara Tourist Hostel</td>\n",
              "      <td>134 Chapala St</td>\n",
              "      <td>34.413094</td>\n",
              "      <td>-119.692407</td>\n",
              "      <td>Hotel</td>\n",
              "      <td>2.5</td>\n",
              "      <td>29</td>\n",
              "      <td>&lt;NA&gt;</td>\n",
              "      <td>sin datos</td>\n",
              "      <td>False</td>\n",
              "      <td>True</td>\n",
              "      <td>Free</td>\n",
              "      <td>False</td>\n",
              "      <td>False</td>\n",
              "      <td>False</td>\n",
              "      <td>California</td>\n",
              "      <td>Santa Barbara</td>\n",
              "    </tr>\n",
              "    <tr>\n",
              "      <th>5</th>\n",
              "      <td>18519</td>\n",
              "      <td>apmw_lkLdwWbeYiI9ysdJg</td>\n",
              "      <td>Bar 29</td>\n",
              "      <td>1134 Chapala St</td>\n",
              "      <td>34.422291</td>\n",
              "      <td>-119.705339</td>\n",
              "      <td>Restaurant</td>\n",
              "      <td>4.5</td>\n",
              "      <td>106</td>\n",
              "      <td>&lt;NA&gt;</td>\n",
              "      <td>average</td>\n",
              "      <td>True</td>\n",
              "      <td>True</td>\n",
              "      <td>Free</td>\n",
              "      <td>True</td>\n",
              "      <td>False</td>\n",
              "      <td>True</td>\n",
              "      <td>California</td>\n",
              "      <td>Santa Barbara</td>\n",
              "    </tr>\n",
              "    <tr>\n",
              "      <th>6</th>\n",
              "      <td>1317</td>\n",
              "      <td>0x88d9b719c26d0a43:0x7299af59d39b2297</td>\n",
              "      <td>Chatos Night Club</td>\n",
              "      <td>Chatos Night Club, 2917 NW 7th St, Miami, FL 3...</td>\n",
              "      <td>25.77969</td>\n",
              "      <td>-80.242296</td>\n",
              "      <td>Restaurant</td>\n",
              "      <td>3.9</td>\n",
              "      <td>68</td>\n",
              "      <td>&lt;NA&gt;</td>\n",
              "      <td>sin datos</td>\n",
              "      <td>sin datos</td>\n",
              "      <td>sin datos</td>\n",
              "      <td>sin datos</td>\n",
              "      <td>sin datos</td>\n",
              "      <td>sin datos</td>\n",
              "      <td>sin datos</td>\n",
              "      <td>Florida</td>\n",
              "      <td>Allapattah</td>\n",
              "    </tr>\n",
              "    <tr>\n",
              "      <th>7</th>\n",
              "      <td>7520</td>\n",
              "      <td>0x80dbff96b109bed5:0x2e7f90f1b1dd91f3</td>\n",
              "      <td>K. Cuisine</td>\n",
              "      <td>K. Cuisine, 4688 Convoy St #112, San Diego, CA...</td>\n",
              "      <td>32.826335</td>\n",
              "      <td>-117.155602</td>\n",
              "      <td>Restaurant</td>\n",
              "      <td>4.4</td>\n",
              "      <td>38</td>\n",
              "      <td>&lt;NA&gt;</td>\n",
              "      <td>sin datos</td>\n",
              "      <td>sin datos</td>\n",
              "      <td>sin datos</td>\n",
              "      <td>sin datos</td>\n",
              "      <td>sin datos</td>\n",
              "      <td>sin datos</td>\n",
              "      <td>sin datos</td>\n",
              "      <td>California</td>\n",
              "      <td>San Diego</td>\n",
              "    </tr>\n",
              "    <tr>\n",
              "      <th>8</th>\n",
              "      <td>6839</td>\n",
              "      <td>0x80c2d8feea053b55:0x3d04800de4f0970f</td>\n",
              "      <td>Kabayan Filipino Food &amp; Market</td>\n",
              "      <td>Kabayan Filipino Food &amp; Market, 1743 E Hunting...</td>\n",
              "      <td>34.140007</td>\n",
              "      <td>-117.96741</td>\n",
              "      <td>Restaurant</td>\n",
              "      <td>4.1</td>\n",
              "      <td>18</td>\n",
              "      <td>&lt;NA&gt;</td>\n",
              "      <td>sin datos</td>\n",
              "      <td>sin datos</td>\n",
              "      <td>sin datos</td>\n",
              "      <td>sin datos</td>\n",
              "      <td>sin datos</td>\n",
              "      <td>sin datos</td>\n",
              "      <td>sin datos</td>\n",
              "      <td>California</td>\n",
              "      <td>Bradbury</td>\n",
              "    </tr>\n",
              "    <tr>\n",
              "      <th>9</th>\n",
              "      <td>28146</td>\n",
              "      <td>j_9oCefv9fBm2kg_-zCnSA</td>\n",
              "      <td>Jimmy's Boulevard Restaurant</td>\n",
              "      <td>6211 Grand Blvd</td>\n",
              "      <td>28.248841</td>\n",
              "      <td>-82.720026</td>\n",
              "      <td>Restaurant</td>\n",
              "      <td>4.0</td>\n",
              "      <td>21</td>\n",
              "      <td>&lt;NA&gt;</td>\n",
              "      <td>average</td>\n",
              "      <td>True</td>\n",
              "      <td>True</td>\n",
              "      <td>No</td>\n",
              "      <td>False</td>\n",
              "      <td>True</td>\n",
              "      <td>True</td>\n",
              "      <td>Florida</td>\n",
              "      <td>New Port Richey</td>\n",
              "    </tr>\n",
              "    <tr>\n",
              "      <th>10</th>\n",
              "      <td>1379</td>\n",
              "      <td>0x88de0d3165ae8107:0x17c2935fb4401629</td>\n",
              "      <td>T &amp; B's Corner Diner and Grill</td>\n",
              "      <td>T &amp; B's Corner Diner and Grill, 3555 Bayside L...</td>\n",
              "      <td>27.948321</td>\n",
              "      <td>-80.658985</td>\n",
              "      <td>Restaurant</td>\n",
              "      <td>4.5</td>\n",
              "      <td>18</td>\n",
              "      <td>&lt;NA&gt;</td>\n",
              "      <td>sin datos</td>\n",
              "      <td>sin datos</td>\n",
              "      <td>sin datos</td>\n",
              "      <td>sin datos</td>\n",
              "      <td>sin datos</td>\n",
              "      <td>sin datos</td>\n",
              "      <td>sin datos</td>\n",
              "      <td>Florida</td>\n",
              "      <td>Grant-Valkaria</td>\n",
              "    </tr>\n",
              "    <tr>\n",
              "      <th>11</th>\n",
              "      <td>15844</td>\n",
              "      <td>xkTjLbBC7uB-rAIDqAm-sw</td>\n",
              "      <td>Los Comparres</td>\n",
              "      <td>5305 N Armenia Ave</td>\n",
              "      <td>27.995155</td>\n",
              "      <td>-82.48414</td>\n",
              "      <td>Restaurant</td>\n",
              "      <td>4.5</td>\n",
              "      <td>339</td>\n",
              "      <td>&lt;NA&gt;</td>\n",
              "      <td>average</td>\n",
              "      <td>True</td>\n",
              "      <td>True</td>\n",
              "      <td>No</td>\n",
              "      <td>True</td>\n",
              "      <td>True</td>\n",
              "      <td>True</td>\n",
              "      <td>Florida</td>\n",
              "      <td>Egypt Lake-Leto</td>\n",
              "    </tr>\n",
              "    <tr>\n",
              "      <th>12</th>\n",
              "      <td>14269</td>\n",
              "      <td>0x88c2fb8575d8d323:0xbdf137cfc5058888</td>\n",
              "      <td>Starbucks</td>\n",
              "      <td>Starbucks, 7398 Seminole Blvd, Seminole, FL 33...</td>\n",
              "      <td>27.839167</td>\n",
              "      <td>-82.787516</td>\n",
              "      <td>Restaurant</td>\n",
              "      <td>4.2</td>\n",
              "      <td>662</td>\n",
              "      <td>2.0</td>\n",
              "      <td>sin datos</td>\n",
              "      <td>sin datos</td>\n",
              "      <td>sin datos</td>\n",
              "      <td>sin datos</td>\n",
              "      <td>sin datos</td>\n",
              "      <td>sin datos</td>\n",
              "      <td>sin datos</td>\n",
              "      <td>Florida</td>\n",
              "      <td>Seminole</td>\n",
              "    </tr>\n",
              "    <tr>\n",
              "      <th>13</th>\n",
              "      <td>3153</td>\n",
              "      <td>0x80dce7fc62fa7acb:0xe842a7b6d2f9c952</td>\n",
              "      <td>Pressed Juicery</td>\n",
              "      <td>Pressed Juicery, 808 Spectrum Center Dr, Irvin...</td>\n",
              "      <td>33.648948</td>\n",
              "      <td>-117.742303</td>\n",
              "      <td>Restaurant</td>\n",
              "      <td>4.4</td>\n",
              "      <td>65</td>\n",
              "      <td>2.0</td>\n",
              "      <td>sin datos</td>\n",
              "      <td>sin datos</td>\n",
              "      <td>sin datos</td>\n",
              "      <td>sin datos</td>\n",
              "      <td>sin datos</td>\n",
              "      <td>sin datos</td>\n",
              "      <td>sin datos</td>\n",
              "      <td>California</td>\n",
              "      <td>Laguna Woods</td>\n",
              "    </tr>\n",
              "    <tr>\n",
              "      <th>14</th>\n",
              "      <td>27098</td>\n",
              "      <td>xOJy0o-qdWh8qFpEwLpooQ</td>\n",
              "      <td>Pizza Hut</td>\n",
              "      <td>33505 US Hwy 19 N</td>\n",
              "      <td>28.077294</td>\n",
              "      <td>-82.738367</td>\n",
              "      <td>Restaurant</td>\n",
              "      <td>2.0</td>\n",
              "      <td>9</td>\n",
              "      <td>&lt;NA&gt;</td>\n",
              "      <td>very_loud</td>\n",
              "      <td>False</td>\n",
              "      <td>True</td>\n",
              "      <td>No</td>\n",
              "      <td>True</td>\n",
              "      <td>True</td>\n",
              "      <td>True</td>\n",
              "      <td>Florida</td>\n",
              "      <td>Saint George</td>\n",
              "    </tr>\n",
              "    <tr>\n",
              "      <th>15</th>\n",
              "      <td>12093</td>\n",
              "      <td>0x80c32f3a13b5bf73:0xa3d41c6c19a833a6</td>\n",
              "      <td>Zendejas Mexican Restaurant</td>\n",
              "      <td>Zendejas Mexican Restaurant, 665 W Arrow Hwy, ...</td>\n",
              "      <td>34.106111</td>\n",
              "      <td>-117.818333</td>\n",
              "      <td>Restaurant</td>\n",
              "      <td>4.0</td>\n",
              "      <td>778</td>\n",
              "      <td>2.0</td>\n",
              "      <td>sin datos</td>\n",
              "      <td>sin datos</td>\n",
              "      <td>sin datos</td>\n",
              "      <td>sin datos</td>\n",
              "      <td>sin datos</td>\n",
              "      <td>sin datos</td>\n",
              "      <td>sin datos</td>\n",
              "      <td>California</td>\n",
              "      <td>San Dimas</td>\n",
              "    </tr>\n",
              "    <tr>\n",
              "      <th>16</th>\n",
              "      <td>10797</td>\n",
              "      <td>0x88d9079238530e57:0x7caae4ce76538b9c</td>\n",
              "      <td>Tijuana Flats</td>\n",
              "      <td>Tijuana Flats, 1371 S University Dr, Plantatio...</td>\n",
              "      <td>26.103018</td>\n",
              "      <td>-80.251341</td>\n",
              "      <td>Restaurant</td>\n",
              "      <td>4.4</td>\n",
              "      <td>438</td>\n",
              "      <td>1.0</td>\n",
              "      <td>sin datos</td>\n",
              "      <td>sin datos</td>\n",
              "      <td>sin datos</td>\n",
              "      <td>sin datos</td>\n",
              "      <td>sin datos</td>\n",
              "      <td>sin datos</td>\n",
              "      <td>sin datos</td>\n",
              "      <td>Florida</td>\n",
              "      <td>Pine Island Ridge</td>\n",
              "    </tr>\n",
              "    <tr>\n",
              "      <th>17</th>\n",
              "      <td>13213</td>\n",
              "      <td>0x80dd285e08bba857:0x8f9e1aaaeb5fcc89</td>\n",
              "      <td>Arabisc Hookah Lounge</td>\n",
              "      <td>Arabisc Hookah Lounge, 9562 Chapman Ave, Garde...</td>\n",
              "      <td>33.788122</td>\n",
              "      <td>-117.966253</td>\n",
              "      <td>Restaurant</td>\n",
              "      <td>3.9</td>\n",
              "      <td>24</td>\n",
              "      <td>2.0</td>\n",
              "      <td>sin datos</td>\n",
              "      <td>sin datos</td>\n",
              "      <td>sin datos</td>\n",
              "      <td>sin datos</td>\n",
              "      <td>sin datos</td>\n",
              "      <td>sin datos</td>\n",
              "      <td>sin datos</td>\n",
              "      <td>California</td>\n",
              "      <td>Garden Grove</td>\n",
              "    </tr>\n",
              "    <tr>\n",
              "      <th>18</th>\n",
              "      <td>20547</td>\n",
              "      <td>RgWE83xEpRBms1HMuxutDw</td>\n",
              "      <td>JB Mapes &amp; Co</td>\n",
              "      <td>50 N Sierra St, Ste 103</td>\n",
              "      <td>39.5252</td>\n",
              "      <td>-119.814042</td>\n",
              "      <td>Restaurant</td>\n",
              "      <td>3.5</td>\n",
              "      <td>39</td>\n",
              "      <td>&lt;NA&gt;</td>\n",
              "      <td>average</td>\n",
              "      <td>True</td>\n",
              "      <td>True</td>\n",
              "      <td>No</td>\n",
              "      <td>False</td>\n",
              "      <td>False</td>\n",
              "      <td>True</td>\n",
              "      <td>Nevada</td>\n",
              "      <td>Reno</td>\n",
              "    </tr>\n",
              "    <tr>\n",
              "      <th>19</th>\n",
              "      <td>20974</td>\n",
              "      <td>f9EcjCMakeDJMRR7nKH6zw</td>\n",
              "      <td>McDonald's</td>\n",
              "      <td>2675 Roosevelt Blvd</td>\n",
              "      <td>27.915742</td>\n",
              "      <td>-82.726435</td>\n",
              "      <td>Restaurant</td>\n",
              "      <td>1.5</td>\n",
              "      <td>38</td>\n",
              "      <td>&lt;NA&gt;</td>\n",
              "      <td>sin datos</td>\n",
              "      <td>False</td>\n",
              "      <td>True</td>\n",
              "      <td>Free</td>\n",
              "      <td>True</td>\n",
              "      <td>True</td>\n",
              "      <td>True</td>\n",
              "      <td>Florida</td>\n",
              "      <td>South Highpoint</td>\n",
              "    </tr>\n",
              "  </tbody>\n",
              "</table>\n",
              "<p>20 rows × 19 columns</p>\n",
              "</div>[20 rows x 19 columns in total]"
            ]
          },
          "metadata": {},
          "execution_count": 1
        }
      ]
    },
    {
      "cell_type": "code",
      "source": [
        "import bigframes.pandas as bf\n",
        "\n",
        "# Configurar opciones de BigQuery\n",
        "bf.options.bigquery.location = \"us-central1\"\n",
        "bf.options.bigquery.project = \"eminent-cycle-415715\"\n",
        "\n",
        "# Cargar los datos de la tabla checkin\n",
        "df_checkin = bf.read_gbq(\"SELECT * FROM `eminent-cycle-415715.prueba_ai_ML.checkin`\")\n",
        "\n",
        "# Visualizar las primeras 20 filas del DataFrame\n",
        "df_checkin.head(20)"
      ],
      "metadata": {
        "colab": {
          "base_uri": "https://localhost:8080/",
          "height": 793
        },
        "id": "yziQsooR4AYa",
        "executionInfo": {
          "status": "ok",
          "timestamp": 1710451867607,
          "user_tz": 180,
          "elapsed": 10953,
          "user": {
            "displayName": "",
            "userId": ""
          }
        },
        "outputId": "760b28f3-e148-4fd3-d476-9c05feb61052"
      },
      "execution_count": 21,
      "outputs": [
        {
          "output_type": "display_data",
          "data": {
            "text/plain": [
              "<IPython.core.display.HTML object>"
            ],
            "text/html": [
              "Query job a6ea738d-9e90-4f2f-ab6a-b345a7a3ff30 is DONE. 22.3 MB processed. <a target=\"_blank\" href=\"https://console.cloud.google.com/bigquery?project=eminent-cycle-415715&j=bq:us-central1:a6ea738d-9e90-4f2f-ab6a-b345a7a3ff30&page=queryresults\">Open Job</a>"
            ]
          },
          "metadata": {}
        },
        {
          "output_type": "display_data",
          "data": {
            "text/plain": [
              "<IPython.core.display.HTML object>"
            ],
            "text/html": [
              "Query job e298be9c-e782-4e6b-b349-67fcae85880f is DONE. 22.3 MB processed. <a target=\"_blank\" href=\"https://console.cloud.google.com/bigquery?project=eminent-cycle-415715&j=bq:us-central1:e298be9c-e782-4e6b-b349-67fcae85880f&page=queryresults\">Open Job</a>"
            ]
          },
          "metadata": {}
        },
        {
          "output_type": "display_data",
          "data": {
            "text/plain": [
              "<IPython.core.display.HTML object>"
            ],
            "text/html": [
              "Query job e6bfa110-bf01-4f05-a7f4-bcd52d707b5d is DONE. 0 Bytes processed. <a target=\"_blank\" href=\"https://console.cloud.google.com/bigquery?project=eminent-cycle-415715&j=bq:us-central1:e6bfa110-bf01-4f05-a7f4-bcd52d707b5d&page=queryresults\">Open Job</a>"
            ]
          },
          "metadata": {}
        },
        {
          "output_type": "display_data",
          "data": {
            "text/plain": [
              "<IPython.core.display.HTML object>"
            ],
            "text/html": [
              "Query job f154fcda-fad7-40dc-bdc9-a6e45ad2e68d is DONE. 75.4 kB processed. <a target=\"_blank\" href=\"https://console.cloud.google.com/bigquery?project=eminent-cycle-415715&j=bq:us-central1:f154fcda-fad7-40dc-bdc9-a6e45ad2e68d&page=queryresults\">Open Job</a>"
            ]
          },
          "metadata": {}
        },
        {
          "output_type": "execute_result",
          "data": {
            "text/plain": [
              "               business_id                                               date  \\\n",
              "0   -VHgGQzPP5UWg46cmqztYA  ['2010-11-15 19:25:22', '2011-01-23 18:09:27',...   \n",
              "1   qEGWsxf9t2YbHCv0n2M4qQ  ['2011-09-14 16:27:27', '2012-09-21 21:28:00',...   \n",
              "2   3SNNs-aAO1P6_LX7-lzr9g  ['2011-12-15 16:38:03', '2011-12-16 13:45:50',...   \n",
              "3   pTUbmjUB2yAG9S63vMzISg                            ['2013-01-07 20:38:11']   \n",
              "4   cAbdvzqtFLaAAMFIyPf2AA  ['2010-03-21 03:20:51', '2010-03-21 03:20:54',...   \n",
              "5   jBEpbsG4ZLfPaZ3pCr2jZQ  ['2011-03-16 22:48:14', '2011-04-05 19:36:36',...   \n",
              "6   9qSeYLlh-vOHk9XX7v1LHA  ['2019-04-25 15:19:49', '2019-06-24 14:57:48',...   \n",
              "7   QH4h7s7PsSM9wsDTqOoM7Q  ['2017-01-05 22:58:42', '2017-06-05 20:49:30',...   \n",
              "8   Vqc-ibXU4ilVer_L8YbWJg  ['2011-01-28 23:33:24', '2011-06-26 00:38:43',...   \n",
              "9   LRTU8SUyCXRhQrqRlJCr6A  ['2010-02-17 18:30:35', '2010-03-24 16:14:41',...   \n",
              "10  OXpYyvWPTb_l02GfswFdHQ  ['2011-01-20 00:55:46', '2011-06-07 14:57:07',...   \n",
              "11  -veGIq3SvwFMi5ZwMSIqkg  ['2014-05-11 02:57:18', '2015-03-26 03:16:14',...   \n",
              "12  o62XMPkOG8sjEvcKi5HFCw  ['2013-03-25 04:34:50', '2013-03-25 07:29:56',...   \n",
              "13  pV0xgMdZED5M3ukcH36aJA  ['2014-05-16 15:57:37', '2014-06-27 17:57:08',...   \n",
              "14  bK8QVY9eZ66ANC_Kzph6ng  ['2011-07-04 23:09:15', '2012-09-22 19:38:18',...   \n",
              "15  whUZtCYYcYvWu5Q37B76Pw     ['2014-07-15 17:06:14', '2014-07-16 11:17:29']   \n",
              "16  ent_M5k2xHY9FNskAobpow  ['2012-05-18 14:06:13', '2012-10-07 15:04:48',...   \n",
              "17  xX66v8dVyQ4JdGgPWEDufA  ['2014-01-22 18:26:29', '2014-01-27 15:24:10',...   \n",
              "18  IYzqGs1e28misAwcZvf8yg  ['2010-04-09 18:24:45', '2010-05-08 19:48:36',...   \n",
              "19  P7Nf3Wl4fAIJ9O67RT6Cyw  ['2012-10-18 00:40:21', '2012-10-22 19:51:13',...   \n",
              "\n",
              "    count  \n",
              "0      58  \n",
              "1      22  \n",
              "2      55  \n",
              "3       1  \n",
              "4     971  \n",
              "5     163  \n",
              "6       3  \n",
              "7       3  \n",
              "8      61  \n",
              "9     136  \n",
              "10     43  \n",
              "11      5  \n",
              "12     38  \n",
              "13     19  \n",
              "14      5  \n",
              "15      2  \n",
              "16     47  \n",
              "17      9  \n",
              "18   1548  \n",
              "19     45  \n",
              "\n",
              "[20 rows x 3 columns]"
            ],
            "text/html": [
              "<div>\n",
              "<style scoped>\n",
              "    .dataframe tbody tr th:only-of-type {\n",
              "        vertical-align: middle;\n",
              "    }\n",
              "\n",
              "    .dataframe tbody tr th {\n",
              "        vertical-align: top;\n",
              "    }\n",
              "\n",
              "    .dataframe thead th {\n",
              "        text-align: right;\n",
              "    }\n",
              "</style>\n",
              "<table border=\"1\" class=\"dataframe\">\n",
              "  <thead>\n",
              "    <tr style=\"text-align: right;\">\n",
              "      <th></th>\n",
              "      <th>business_id</th>\n",
              "      <th>date</th>\n",
              "      <th>count</th>\n",
              "    </tr>\n",
              "  </thead>\n",
              "  <tbody>\n",
              "    <tr>\n",
              "      <th>0</th>\n",
              "      <td>-VHgGQzPP5UWg46cmqztYA</td>\n",
              "      <td>['2010-11-15 19:25:22', '2011-01-23 18:09:27',...</td>\n",
              "      <td>58</td>\n",
              "    </tr>\n",
              "    <tr>\n",
              "      <th>1</th>\n",
              "      <td>qEGWsxf9t2YbHCv0n2M4qQ</td>\n",
              "      <td>['2011-09-14 16:27:27', '2012-09-21 21:28:00',...</td>\n",
              "      <td>22</td>\n",
              "    </tr>\n",
              "    <tr>\n",
              "      <th>2</th>\n",
              "      <td>3SNNs-aAO1P6_LX7-lzr9g</td>\n",
              "      <td>['2011-12-15 16:38:03', '2011-12-16 13:45:50',...</td>\n",
              "      <td>55</td>\n",
              "    </tr>\n",
              "    <tr>\n",
              "      <th>3</th>\n",
              "      <td>pTUbmjUB2yAG9S63vMzISg</td>\n",
              "      <td>['2013-01-07 20:38:11']</td>\n",
              "      <td>1</td>\n",
              "    </tr>\n",
              "    <tr>\n",
              "      <th>4</th>\n",
              "      <td>cAbdvzqtFLaAAMFIyPf2AA</td>\n",
              "      <td>['2010-03-21 03:20:51', '2010-03-21 03:20:54',...</td>\n",
              "      <td>971</td>\n",
              "    </tr>\n",
              "    <tr>\n",
              "      <th>5</th>\n",
              "      <td>jBEpbsG4ZLfPaZ3pCr2jZQ</td>\n",
              "      <td>['2011-03-16 22:48:14', '2011-04-05 19:36:36',...</td>\n",
              "      <td>163</td>\n",
              "    </tr>\n",
              "    <tr>\n",
              "      <th>6</th>\n",
              "      <td>9qSeYLlh-vOHk9XX7v1LHA</td>\n",
              "      <td>['2019-04-25 15:19:49', '2019-06-24 14:57:48',...</td>\n",
              "      <td>3</td>\n",
              "    </tr>\n",
              "    <tr>\n",
              "      <th>7</th>\n",
              "      <td>QH4h7s7PsSM9wsDTqOoM7Q</td>\n",
              "      <td>['2017-01-05 22:58:42', '2017-06-05 20:49:30',...</td>\n",
              "      <td>3</td>\n",
              "    </tr>\n",
              "    <tr>\n",
              "      <th>8</th>\n",
              "      <td>Vqc-ibXU4ilVer_L8YbWJg</td>\n",
              "      <td>['2011-01-28 23:33:24', '2011-06-26 00:38:43',...</td>\n",
              "      <td>61</td>\n",
              "    </tr>\n",
              "    <tr>\n",
              "      <th>9</th>\n",
              "      <td>LRTU8SUyCXRhQrqRlJCr6A</td>\n",
              "      <td>['2010-02-17 18:30:35', '2010-03-24 16:14:41',...</td>\n",
              "      <td>136</td>\n",
              "    </tr>\n",
              "    <tr>\n",
              "      <th>10</th>\n",
              "      <td>OXpYyvWPTb_l02GfswFdHQ</td>\n",
              "      <td>['2011-01-20 00:55:46', '2011-06-07 14:57:07',...</td>\n",
              "      <td>43</td>\n",
              "    </tr>\n",
              "    <tr>\n",
              "      <th>11</th>\n",
              "      <td>-veGIq3SvwFMi5ZwMSIqkg</td>\n",
              "      <td>['2014-05-11 02:57:18', '2015-03-26 03:16:14',...</td>\n",
              "      <td>5</td>\n",
              "    </tr>\n",
              "    <tr>\n",
              "      <th>12</th>\n",
              "      <td>o62XMPkOG8sjEvcKi5HFCw</td>\n",
              "      <td>['2013-03-25 04:34:50', '2013-03-25 07:29:56',...</td>\n",
              "      <td>38</td>\n",
              "    </tr>\n",
              "    <tr>\n",
              "      <th>13</th>\n",
              "      <td>pV0xgMdZED5M3ukcH36aJA</td>\n",
              "      <td>['2014-05-16 15:57:37', '2014-06-27 17:57:08',...</td>\n",
              "      <td>19</td>\n",
              "    </tr>\n",
              "    <tr>\n",
              "      <th>14</th>\n",
              "      <td>bK8QVY9eZ66ANC_Kzph6ng</td>\n",
              "      <td>['2011-07-04 23:09:15', '2012-09-22 19:38:18',...</td>\n",
              "      <td>5</td>\n",
              "    </tr>\n",
              "    <tr>\n",
              "      <th>15</th>\n",
              "      <td>whUZtCYYcYvWu5Q37B76Pw</td>\n",
              "      <td>['2014-07-15 17:06:14', '2014-07-16 11:17:29']</td>\n",
              "      <td>2</td>\n",
              "    </tr>\n",
              "    <tr>\n",
              "      <th>16</th>\n",
              "      <td>ent_M5k2xHY9FNskAobpow</td>\n",
              "      <td>['2012-05-18 14:06:13', '2012-10-07 15:04:48',...</td>\n",
              "      <td>47</td>\n",
              "    </tr>\n",
              "    <tr>\n",
              "      <th>17</th>\n",
              "      <td>xX66v8dVyQ4JdGgPWEDufA</td>\n",
              "      <td>['2014-01-22 18:26:29', '2014-01-27 15:24:10',...</td>\n",
              "      <td>9</td>\n",
              "    </tr>\n",
              "    <tr>\n",
              "      <th>18</th>\n",
              "      <td>IYzqGs1e28misAwcZvf8yg</td>\n",
              "      <td>['2010-04-09 18:24:45', '2010-05-08 19:48:36',...</td>\n",
              "      <td>1548</td>\n",
              "    </tr>\n",
              "    <tr>\n",
              "      <th>19</th>\n",
              "      <td>P7Nf3Wl4fAIJ9O67RT6Cyw</td>\n",
              "      <td>['2012-10-18 00:40:21', '2012-10-22 19:51:13',...</td>\n",
              "      <td>45</td>\n",
              "    </tr>\n",
              "  </tbody>\n",
              "</table>\n",
              "<p>20 rows × 3 columns</p>\n",
              "</div>[20 rows x 3 columns in total]"
            ]
          },
          "metadata": {},
          "execution_count": 21
        }
      ]
    },
    {
      "cell_type": "code",
      "source": [
        "import bigframes.pandas as bf\n",
        "\n",
        "# Configurar opciones de BigQuery\n",
        "bf.options.bigquery.location = \"us-central1\"\n",
        "bf.options.bigquery.project = \"eminent-cycle-415715\"\n",
        "\n",
        "# Cargar los datos de la tabla review\n",
        "df_review = bf.read_gbq(\"SELECT * FROM `eminent-cycle-415715.prueba_ai_ML.review`\")\n",
        "\n",
        "# Visualizar las primeras 20 filas del DataFrame\n",
        "df_review.head(20)"
      ],
      "metadata": {
        "colab": {
          "base_uri": "https://localhost:8080/",
          "height": 1000
        },
        "id": "mSPeJKkh4jop",
        "executionInfo": {
          "status": "ok",
          "timestamp": 1710452024727,
          "user_tz": 180,
          "elapsed": 22652,
          "user": {
            "displayName": "",
            "userId": ""
          }
        },
        "outputId": "c17f0cc9-b721-4d12-e3cd-bace7519fe30"
      },
      "execution_count": 22,
      "outputs": [
        {
          "output_type": "display_data",
          "data": {
            "text/plain": [
              "<IPython.core.display.HTML object>"
            ],
            "text/html": [
              "Query job 95bd7f65-cbae-4dd3-be9f-899164ec2041 is DONE. 172.1 MB processed. <a target=\"_blank\" href=\"https://console.cloud.google.com/bigquery?project=eminent-cycle-415715&j=bq:us-central1:95bd7f65-cbae-4dd3-be9f-899164ec2041&page=queryresults\">Open Job</a>"
            ]
          },
          "metadata": {}
        },
        {
          "output_type": "display_data",
          "data": {
            "text/plain": [
              "<IPython.core.display.HTML object>"
            ],
            "text/html": [
              "Query job 90315003-633a-4cb3-a87c-3fce09b43b75 is DONE. 172.1 MB processed. <a target=\"_blank\" href=\"https://console.cloud.google.com/bigquery?project=eminent-cycle-415715&j=bq:us-central1:90315003-633a-4cb3-a87c-3fce09b43b75&page=queryresults\">Open Job</a>"
            ]
          },
          "metadata": {}
        },
        {
          "output_type": "display_data",
          "data": {
            "text/plain": [
              "<IPython.core.display.HTML object>"
            ],
            "text/html": [
              "Query job f8c309cc-bdf8-4ead-903a-6a124aeb938f is DONE. 0 Bytes processed. <a target=\"_blank\" href=\"https://console.cloud.google.com/bigquery?project=eminent-cycle-415715&j=bq:us-central1:f8c309cc-bdf8-4ead-903a-6a124aeb938f&page=queryresults\">Open Job</a>"
            ]
          },
          "metadata": {}
        },
        {
          "output_type": "display_data",
          "data": {
            "text/plain": [
              "<IPython.core.display.HTML object>"
            ],
            "text/html": [
              "Query job 0a0bb2fb-d04b-4c52-b3f0-54cc8f2e5688 is DONE. 7.9 kB processed. <a target=\"_blank\" href=\"https://console.cloud.google.com/bigquery?project=eminent-cycle-415715&j=bq:us-central1:0a0bb2fb-d04b-4c52-b3f0-54cc8f2e5688&page=queryresults\">Open Job</a>"
            ]
          },
          "metadata": {}
        },
        {
          "output_type": "execute_result",
          "data": {
            "text/plain": [
              "                                date  stars  \\\n",
              "0   1970-01-01 00:27:02.567641+00:00      5   \n",
              "1          2019-04-10 00:32:58+00:00      4   \n",
              "2          2009-06-24 19:39:26+00:00      3   \n",
              "3          2021-04-04 23:22:35+00:00      3   \n",
              "4          2018-07-07 01:23:28+00:00      3   \n",
              "5   1970-01-01 00:27:03.774277+00:00      5   \n",
              "6          2015-06-24 16:24:56+00:00      2   \n",
              "7   1970-01-01 00:27:02.311858+00:00      5   \n",
              "8          2015-08-25 02:37:55+00:00      1   \n",
              "9          2015-05-16 01:20:16+00:00      4   \n",
              "10         2021-10-30 02:02:11+00:00      5   \n",
              "11         2021-07-03 16:25:13+00:00      4   \n",
              "12  1970-01-01 00:26:29.486708+00:00      5   \n",
              "13         2016-01-31 03:04:53+00:00      5   \n",
              "14  1970-01-01 00:27:04.732266+00:00      5   \n",
              "15         2014-05-10 23:29:59+00:00      5   \n",
              "16  1970-01-01 00:27:04.490174+00:00      5   \n",
              "17  1970-01-01 00:26:22.255137+00:00      5   \n",
              "18  1970-01-01 00:26:45.372868+00:00      5   \n",
              "19         2011-01-31 22:11:48+00:00      5   \n",
              "\n",
              "                                                 text  \\\n",
              "0   there's lot bootcamp gym go every coach rememb...   \n",
              "1   dio modern mediterranean (formerly paninoteca)...   \n",
              "2   agree first reviewer quality food. everything ...   \n",
              "3   tried gluten free vegetarian pizza, different ...   \n",
              "4   restaurant need find soul. seaweed challenge a...   \n",
              "5   dr. linda best. explains everything thoroughly...   \n",
              "6   girlfriend took last night bachelorette weeken...   \n",
              "7                service promised quality workmanship   \n",
              "8   realize came like 9pm, never walked restaurant...   \n",
              "9   since going vallarta restaurant temple terrace...   \n",
              "10  best jidori chicken know. chef carl know what'...   \n",
              "11  enjoyed meal last night. outdoor seating state...   \n",
              "12  2004 chevy trailblazer taken care amir. profes...   \n",
              "13  ate based yelp rating article local paper. vis...   \n",
              "14  (translated google) excellent lawyer, first cl...   \n",
              "15  great mexican casual fun night out. try margar...   \n",
              "16  always good cutting hair. also niece braid wit...   \n",
              "17                loving people wonderful atmosphere.   \n",
              "18  shabby chic boutique filled amazing clothes gr...   \n",
              "19  cannot wait back eagle inn--i live glendale go...   \n",
              "\n",
              "                              business_id    pos    neg    neu  \n",
              "0   0x80c299eeef498061:0xda191efa2390f6d0  0.524    0.0  0.476  \n",
              "1                  rBE5TT_ndOOczNBrbRnJwA  0.246  0.068  0.687  \n",
              "2                  hgPKpBdUOx2hVyGrzY70yQ  0.286  0.032  0.682  \n",
              "3                  XyYsl2OyoMi6OMvzsdcVoQ  0.201    0.0  0.799  \n",
              "4                  eR2cpqWj58kFeHBJ1ob0MQ  0.242  0.025  0.733  \n",
              "5   0x808e33d7904fa559:0xb9e52754e2d24f4e  0.452    0.0  0.548  \n",
              "6                  l_slvEnh4v3W8BXF1gYlcQ  0.311   0.07  0.619  \n",
              "7   0x88d9a12dd631cc23:0x628d35a8f99b0735  0.455    0.0  0.545  \n",
              "8                  laIi1mYcEBif7cU8A_kLew  0.132  0.063  0.805  \n",
              "9                  93P7EZuTWD-eRmjUthhHpA  0.395    0.0  0.605  \n",
              "10                 -FM4CxOg4XXmX_Ebky_SiQ  0.435  0.133  0.431  \n",
              "11                 XyYsl2OyoMi6OMvzsdcVoQ  0.274  0.026  0.699  \n",
              "12  0x808fbf9a5948893f:0xc7fb79bce5e0ae82  0.596    0.0  0.404  \n",
              "13                 gqmQA9TIdmKz3tCnz6DqFA  0.355    0.0  0.645  \n",
              "14  0x88d9c7fb9ebab7b1:0x2bdb6e5da3a7662d  0.236    0.0  0.764  \n",
              "15                 zFuduzariW5hqFMJaQVW_A  0.619    0.0  0.381  \n",
              "16  0x80c3149a6e162e61:0x6ecb17eef07a8f19  0.177  0.091  0.732  \n",
              "17  0x88c33c648fde1bcf:0xca9ff76872bfee6b  0.792    0.0  0.208  \n",
              "18  0x88c2e1506b589c65:0x29f28040133fb443  0.636    0.0  0.364  \n",
              "19                 bjsBMTS4RD7Bs35ugv_fPA  0.444    0.0  0.556  \n",
              "\n",
              "[20 rows x 7 columns]"
            ],
            "text/html": [
              "<div>\n",
              "<style scoped>\n",
              "    .dataframe tbody tr th:only-of-type {\n",
              "        vertical-align: middle;\n",
              "    }\n",
              "\n",
              "    .dataframe tbody tr th {\n",
              "        vertical-align: top;\n",
              "    }\n",
              "\n",
              "    .dataframe thead th {\n",
              "        text-align: right;\n",
              "    }\n",
              "</style>\n",
              "<table border=\"1\" class=\"dataframe\">\n",
              "  <thead>\n",
              "    <tr style=\"text-align: right;\">\n",
              "      <th></th>\n",
              "      <th>date</th>\n",
              "      <th>stars</th>\n",
              "      <th>text</th>\n",
              "      <th>business_id</th>\n",
              "      <th>pos</th>\n",
              "      <th>neg</th>\n",
              "      <th>neu</th>\n",
              "    </tr>\n",
              "  </thead>\n",
              "  <tbody>\n",
              "    <tr>\n",
              "      <th>0</th>\n",
              "      <td>1970-01-01 00:27:02.567641+00:00</td>\n",
              "      <td>5</td>\n",
              "      <td>there's lot bootcamp gym go every coach rememb...</td>\n",
              "      <td>0x80c299eeef498061:0xda191efa2390f6d0</td>\n",
              "      <td>0.524</td>\n",
              "      <td>0.0</td>\n",
              "      <td>0.476</td>\n",
              "    </tr>\n",
              "    <tr>\n",
              "      <th>1</th>\n",
              "      <td>2019-04-10 00:32:58+00:00</td>\n",
              "      <td>4</td>\n",
              "      <td>dio modern mediterranean (formerly paninoteca)...</td>\n",
              "      <td>rBE5TT_ndOOczNBrbRnJwA</td>\n",
              "      <td>0.246</td>\n",
              "      <td>0.068</td>\n",
              "      <td>0.687</td>\n",
              "    </tr>\n",
              "    <tr>\n",
              "      <th>2</th>\n",
              "      <td>2009-06-24 19:39:26+00:00</td>\n",
              "      <td>3</td>\n",
              "      <td>agree first reviewer quality food. everything ...</td>\n",
              "      <td>hgPKpBdUOx2hVyGrzY70yQ</td>\n",
              "      <td>0.286</td>\n",
              "      <td>0.032</td>\n",
              "      <td>0.682</td>\n",
              "    </tr>\n",
              "    <tr>\n",
              "      <th>3</th>\n",
              "      <td>2021-04-04 23:22:35+00:00</td>\n",
              "      <td>3</td>\n",
              "      <td>tried gluten free vegetarian pizza, different ...</td>\n",
              "      <td>XyYsl2OyoMi6OMvzsdcVoQ</td>\n",
              "      <td>0.201</td>\n",
              "      <td>0.0</td>\n",
              "      <td>0.799</td>\n",
              "    </tr>\n",
              "    <tr>\n",
              "      <th>4</th>\n",
              "      <td>2018-07-07 01:23:28+00:00</td>\n",
              "      <td>3</td>\n",
              "      <td>restaurant need find soul. seaweed challenge a...</td>\n",
              "      <td>eR2cpqWj58kFeHBJ1ob0MQ</td>\n",
              "      <td>0.242</td>\n",
              "      <td>0.025</td>\n",
              "      <td>0.733</td>\n",
              "    </tr>\n",
              "    <tr>\n",
              "      <th>5</th>\n",
              "      <td>1970-01-01 00:27:03.774277+00:00</td>\n",
              "      <td>5</td>\n",
              "      <td>dr. linda best. explains everything thoroughly...</td>\n",
              "      <td>0x808e33d7904fa559:0xb9e52754e2d24f4e</td>\n",
              "      <td>0.452</td>\n",
              "      <td>0.0</td>\n",
              "      <td>0.548</td>\n",
              "    </tr>\n",
              "    <tr>\n",
              "      <th>6</th>\n",
              "      <td>2015-06-24 16:24:56+00:00</td>\n",
              "      <td>2</td>\n",
              "      <td>girlfriend took last night bachelorette weeken...</td>\n",
              "      <td>l_slvEnh4v3W8BXF1gYlcQ</td>\n",
              "      <td>0.311</td>\n",
              "      <td>0.07</td>\n",
              "      <td>0.619</td>\n",
              "    </tr>\n",
              "    <tr>\n",
              "      <th>7</th>\n",
              "      <td>1970-01-01 00:27:02.311858+00:00</td>\n",
              "      <td>5</td>\n",
              "      <td>service promised quality workmanship</td>\n",
              "      <td>0x88d9a12dd631cc23:0x628d35a8f99b0735</td>\n",
              "      <td>0.455</td>\n",
              "      <td>0.0</td>\n",
              "      <td>0.545</td>\n",
              "    </tr>\n",
              "    <tr>\n",
              "      <th>8</th>\n",
              "      <td>2015-08-25 02:37:55+00:00</td>\n",
              "      <td>1</td>\n",
              "      <td>realize came like 9pm, never walked restaurant...</td>\n",
              "      <td>laIi1mYcEBif7cU8A_kLew</td>\n",
              "      <td>0.132</td>\n",
              "      <td>0.063</td>\n",
              "      <td>0.805</td>\n",
              "    </tr>\n",
              "    <tr>\n",
              "      <th>9</th>\n",
              "      <td>2015-05-16 01:20:16+00:00</td>\n",
              "      <td>4</td>\n",
              "      <td>since going vallarta restaurant temple terrace...</td>\n",
              "      <td>93P7EZuTWD-eRmjUthhHpA</td>\n",
              "      <td>0.395</td>\n",
              "      <td>0.0</td>\n",
              "      <td>0.605</td>\n",
              "    </tr>\n",
              "    <tr>\n",
              "      <th>10</th>\n",
              "      <td>2021-10-30 02:02:11+00:00</td>\n",
              "      <td>5</td>\n",
              "      <td>best jidori chicken know. chef carl know what'...</td>\n",
              "      <td>-FM4CxOg4XXmX_Ebky_SiQ</td>\n",
              "      <td>0.435</td>\n",
              "      <td>0.133</td>\n",
              "      <td>0.431</td>\n",
              "    </tr>\n",
              "    <tr>\n",
              "      <th>11</th>\n",
              "      <td>2021-07-03 16:25:13+00:00</td>\n",
              "      <td>4</td>\n",
              "      <td>enjoyed meal last night. outdoor seating state...</td>\n",
              "      <td>XyYsl2OyoMi6OMvzsdcVoQ</td>\n",
              "      <td>0.274</td>\n",
              "      <td>0.026</td>\n",
              "      <td>0.699</td>\n",
              "    </tr>\n",
              "    <tr>\n",
              "      <th>12</th>\n",
              "      <td>1970-01-01 00:26:29.486708+00:00</td>\n",
              "      <td>5</td>\n",
              "      <td>2004 chevy trailblazer taken care amir. profes...</td>\n",
              "      <td>0x808fbf9a5948893f:0xc7fb79bce5e0ae82</td>\n",
              "      <td>0.596</td>\n",
              "      <td>0.0</td>\n",
              "      <td>0.404</td>\n",
              "    </tr>\n",
              "    <tr>\n",
              "      <th>13</th>\n",
              "      <td>2016-01-31 03:04:53+00:00</td>\n",
              "      <td>5</td>\n",
              "      <td>ate based yelp rating article local paper. vis...</td>\n",
              "      <td>gqmQA9TIdmKz3tCnz6DqFA</td>\n",
              "      <td>0.355</td>\n",
              "      <td>0.0</td>\n",
              "      <td>0.645</td>\n",
              "    </tr>\n",
              "    <tr>\n",
              "      <th>14</th>\n",
              "      <td>1970-01-01 00:27:04.732266+00:00</td>\n",
              "      <td>5</td>\n",
              "      <td>(translated google) excellent lawyer, first cl...</td>\n",
              "      <td>0x88d9c7fb9ebab7b1:0x2bdb6e5da3a7662d</td>\n",
              "      <td>0.236</td>\n",
              "      <td>0.0</td>\n",
              "      <td>0.764</td>\n",
              "    </tr>\n",
              "    <tr>\n",
              "      <th>15</th>\n",
              "      <td>2014-05-10 23:29:59+00:00</td>\n",
              "      <td>5</td>\n",
              "      <td>great mexican casual fun night out. try margar...</td>\n",
              "      <td>zFuduzariW5hqFMJaQVW_A</td>\n",
              "      <td>0.619</td>\n",
              "      <td>0.0</td>\n",
              "      <td>0.381</td>\n",
              "    </tr>\n",
              "    <tr>\n",
              "      <th>16</th>\n",
              "      <td>1970-01-01 00:27:04.490174+00:00</td>\n",
              "      <td>5</td>\n",
              "      <td>always good cutting hair. also niece braid wit...</td>\n",
              "      <td>0x80c3149a6e162e61:0x6ecb17eef07a8f19</td>\n",
              "      <td>0.177</td>\n",
              "      <td>0.091</td>\n",
              "      <td>0.732</td>\n",
              "    </tr>\n",
              "    <tr>\n",
              "      <th>17</th>\n",
              "      <td>1970-01-01 00:26:22.255137+00:00</td>\n",
              "      <td>5</td>\n",
              "      <td>loving people wonderful atmosphere.</td>\n",
              "      <td>0x88c33c648fde1bcf:0xca9ff76872bfee6b</td>\n",
              "      <td>0.792</td>\n",
              "      <td>0.0</td>\n",
              "      <td>0.208</td>\n",
              "    </tr>\n",
              "    <tr>\n",
              "      <th>18</th>\n",
              "      <td>1970-01-01 00:26:45.372868+00:00</td>\n",
              "      <td>5</td>\n",
              "      <td>shabby chic boutique filled amazing clothes gr...</td>\n",
              "      <td>0x88c2e1506b589c65:0x29f28040133fb443</td>\n",
              "      <td>0.636</td>\n",
              "      <td>0.0</td>\n",
              "      <td>0.364</td>\n",
              "    </tr>\n",
              "    <tr>\n",
              "      <th>19</th>\n",
              "      <td>2011-01-31 22:11:48+00:00</td>\n",
              "      <td>5</td>\n",
              "      <td>cannot wait back eagle inn--i live glendale go...</td>\n",
              "      <td>bjsBMTS4RD7Bs35ugv_fPA</td>\n",
              "      <td>0.444</td>\n",
              "      <td>0.0</td>\n",
              "      <td>0.556</td>\n",
              "    </tr>\n",
              "  </tbody>\n",
              "</table>\n",
              "<p>20 rows × 7 columns</p>\n",
              "</div>[20 rows x 7 columns in total]"
            ]
          },
          "metadata": {},
          "execution_count": 22
        }
      ]
    },
    {
      "cell_type": "code",
      "source": [
        "import bigframes.pandas as bf\n",
        "import pandas as pd\n",
        "\n",
        "# Configurar opciones de BigQuery\n",
        "bf.options.bigquery.location = \"us-central1\"\n",
        "bf.options.bigquery.project = \"eminent-cycle-415715\"\n",
        "\n",
        "# Cargar los datos de la tabla 'business'\n",
        "df_business = bf.read_gbq(\"eminent-cycle-415715.prueba_ai_ML.business\")\n",
        "\n",
        "# Seleccionar las columnas relevantes\n",
        "relevant_columns_business = ['business_id', 'stars', 'review_count', 'price', 'parking', 'wifi']\n",
        "df_business_filtered = df_business[relevant_columns_business]\n",
        "\n",
        "# Cargar los datos de la tabla 'review'\n",
        "df_review = bf.read_gbq(\"eminent-cycle-415715.prueba_ai_ML.review\")\n",
        "\n",
        "# Seleccionar las columnas relevantes\n",
        "relevant_columns_review = ['business_id', 'stars', 'pos', 'neg', 'neu']\n",
        "df_review_filtered = df_review[relevant_columns_review]\n",
        "\n",
        "# Convertir DataFrames de bigframes a DataFrames de Pandas\n",
        "df_business_pd = df_business_filtered.to_pandas()\n",
        "df_review_pd = df_review_filtered.to_pandas()\n",
        "\n",
        "# Fusionar los DataFrames de Pandas en función de 'business_id'\n",
        "df_merged = pd.merge(df_business_pd, df_review_pd, on='business_id', how='inner')\n",
        "\n",
        "# Calcular la matriz de correlación\n",
        "correlation_matrix = df_merged.corr(numeric_only=True)"
      ],
      "metadata": {
        "colab": {
          "base_uri": "https://localhost:8080/",
          "height": 52
        },
        "id": "gINXK8Wa5Ww1",
        "executionInfo": {
          "status": "ok",
          "timestamp": 1710452710442,
          "user_tz": 180,
          "elapsed": 12274,
          "user": {
            "displayName": "",
            "userId": ""
          }
        },
        "outputId": "35596dd7-07f8-4511-82a8-d4698a64f76e"
      },
      "execution_count": 29,
      "outputs": [
        {
          "output_type": "display_data",
          "data": {
            "text/plain": [
              "<IPython.core.display.HTML object>"
            ],
            "text/html": [
              "Query job 0631c699-0fbf-4c07-a18c-65258278f465 is DONE. 6.5 MB processed. <a target=\"_blank\" href=\"https://console.cloud.google.com/bigquery?project=eminent-cycle-415715&j=bq:us-central1:0631c699-0fbf-4c07-a18c-65258278f465&page=queryresults\">Open Job</a>"
            ]
          },
          "metadata": {}
        },
        {
          "output_type": "display_data",
          "data": {
            "text/plain": [
              "<IPython.core.display.HTML object>"
            ],
            "text/html": [
              "Query job 7c03ca77-6d29-42c9-abd8-7725ebc6835b is DONE. 172.1 MB processed. <a target=\"_blank\" href=\"https://console.cloud.google.com/bigquery?project=eminent-cycle-415715&j=bq:us-central1:7c03ca77-6d29-42c9-abd8-7725ebc6835b&page=queryresults\">Open Job</a>"
            ]
          },
          "metadata": {}
        }
      ]
    },
    {
      "cell_type": "code",
      "source": [
        "# 1. Importar las librerías necesarias\n",
        "import matplotlib.pyplot as plt\n",
        "import seaborn as sns\n",
        "\n",
        "# 2. Visualizar la matriz de correlación mediante un mapa de calor\n",
        "plt.figure(figsize=(12, 8))\n",
        "sns.heatmap(correlation_matrix, annot=True, cmap='coolwarm', fmt=\".2f\")\n",
        "plt.title('Matriz de Correlación')\n",
        "plt.show()\n",
        "\n",
        "# 3. Justificación para el modelo de regresión logística\n",
        "print(\"Justificación para el modelo de regresión logística:\")\n",
        "print(\"Considerando el análisis de las tres tablas ('business', 'checkin' y 'review'),\")\n",
        "print(\"podemos seleccionar algunas variables relevantes para el modelo de regresión logística.\")\n",
        "print(\"Aquí hay algunas sugerencias basadas en el contexto proporcionado:\")\n",
        "print(\"- Calificación (stars)\")\n",
        "print(\"- Cantidad de reseñas (review_count)\")\n",
        "print(\"- Precio\")\n",
        "print(\"- Disponibilidad de estacionamiento, aceptación de tarjetas de crédito y WiFi\")\n",
        "print(\"Estas variables podrían proporcionar información útil para predecir el éxito o fracaso de un negocio.\")\n"
      ],
      "metadata": {
        "colab": {
          "base_uri": "https://localhost:8080/",
          "height": 827
        },
        "id": "rgJLiGVH7kq1",
        "executionInfo": {
          "status": "ok",
          "timestamp": 1710452796187,
          "user_tz": 180,
          "elapsed": 1910,
          "user": {
            "displayName": "",
            "userId": ""
          }
        },
        "outputId": "f8350400-41be-405c-a8fd-cd002b4b8c74"
      },
      "execution_count": 30,
      "outputs": [
        {
          "output_type": "display_data",
          "data": {
            "text/plain": [
              "<Figure size 1200x800 with 2 Axes>"
            ],
            "image/png": "[encoded data removed]"
          },
          "metadata": {}
        },
        {
          "output_type": "stream",
          "name": "stdout",
          "text": [
            "Justificación para el modelo de regresión logística:\n",
            "Considerando el análisis de las tres tablas ('business', 'checkin' y 'review'),\n",
            "podemos seleccionar algunas variables relevantes para el modelo de regresión logística.\n",
            "Aquí hay algunas sugerencias basadas en el contexto proporcionado:\n",
            "- Calificación (stars)\n",
            "- Cantidad de reseñas (review_count)\n",
            "- Precio\n",
            "- Disponibilidad de estacionamiento, aceptación de tarjetas de crédito y WiFi\n",
            "Estas variables podrían proporcionar información útil para predecir el éxito o fracaso de un negocio.\n"
          ]
        }
      ]
    },
    {
      "cell_type": "code",
      "source": [
        "# Fusionar los DataFrames en función de 'business_id'\n",
        "df_merged = pd.merge(df_business_pd, df_review_pd, on='business_id', how='inner')\n",
        "\n",
        "# Visualizar las primeras filas del DataFrame fusionado para confirmar la fusión\n",
        "print(df_merged.head())"
      ],
      "metadata": {
        "colab": {
          "base_uri": "https://localhost:8080/"
        },
        "id": "0y1p2uZpAKvB",
        "executionInfo": {
          "status": "ok",
          "timestamp": 1710454202430,
          "user_tz": 180,
          "elapsed": 437,
          "user": {
            "displayName": "",
            "userId": ""
          }
        },
        "outputId": "e60cb738-412e-471d-f872-4b0ca88e94e5"
      },
      "execution_count": 34,
      "outputs": [
        {
          "output_type": "stream",
          "name": "stdout",
          "text": [
            "                             business_id  stars_x  review_count  price  \\\n",
            "0  0x88e4277435b92343:0x4b21af8287138210      4.1            18   <NA>   \n",
            "1  0x88d9b75d2c5adaab:0xbc9edce5dcd7e292      4.8            97    2.0   \n",
            "2                 ekZqjxHCtN1cFkaj-W-8Dg      4.0           111   <NA>   \n",
            "3                 ekZqjxHCtN1cFkaj-W-8Dg      4.0           111   <NA>   \n",
            "4                 ekZqjxHCtN1cFkaj-W-8Dg      4.0           111   <NA>   \n",
            "\n",
            "     parking       wifi  stars_y    pos    neg    neu  \n",
            "0  sin datos  sin datos        4    0.0  0.437  0.563  \n",
            "1  sin datos  sin datos        5  0.629  0.046  0.325  \n",
            "2       True       Free        3  0.292    0.0  0.708  \n",
            "3       True       Free        4  0.544    0.0  0.456  \n",
            "4       True       Free        4  0.525    0.0  0.475  \n"
          ]
        }
      ]
    },
    {
      "cell_type": "code",
      "source": [
        "# Definir la variable objetivo 'successful'\n",
        "# Opción 1: Se define un negocio exitoso como aquellos con una calificación de estrellas igual o mayor a 4 y un número de reseñas igual o mayor a 100.\n",
        "df_merged['successful'] = (df_merged['stars_x'] >= 4) & (df_merged['review_count'] >= 100)\n",
        "\n",
        "# Visualizar las primeras filas del DataFrame con la nueva variable objetivo\n",
        "print(df_merged.head())"
      ],
      "metadata": {
        "colab": {
          "base_uri": "https://localhost:8080/"
        },
        "id": "ZzG43msdBEu5",
        "executionInfo": {
          "status": "ok",
          "timestamp": 1710454235421,
          "user_tz": 180,
          "elapsed": 420,
          "user": {
            "displayName": "",
            "userId": ""
          }
        },
        "outputId": "28f72e02-3cb0-48ef-bebd-65e7802bbc68"
      },
      "execution_count": 35,
      "outputs": [
        {
          "output_type": "stream",
          "name": "stdout",
          "text": [
            "                             business_id  stars_x  review_count  price  \\\n",
            "0  0x88e4277435b92343:0x4b21af8287138210      4.1            18   <NA>   \n",
            "1  0x88d9b75d2c5adaab:0xbc9edce5dcd7e292      4.8            97    2.0   \n",
            "2                 ekZqjxHCtN1cFkaj-W-8Dg      4.0           111   <NA>   \n",
            "3                 ekZqjxHCtN1cFkaj-W-8Dg      4.0           111   <NA>   \n",
            "4                 ekZqjxHCtN1cFkaj-W-8Dg      4.0           111   <NA>   \n",
            "\n",
            "     parking       wifi  stars_y    pos    neg    neu  successful  \n",
            "0  sin datos  sin datos        4    0.0  0.437  0.563       False  \n",
            "1  sin datos  sin datos        5  0.629  0.046  0.325       False  \n",
            "2       True       Free        3  0.292    0.0  0.708        True  \n",
            "3       True       Free        4  0.544    0.0  0.456        True  \n",
            "4       True       Free        4  0.525    0.0  0.475        True  \n"
          ]
        }
      ]
    },
    {
      "cell_type": "code",
      "source": [
        "# Importar la función train_test_split de scikit-learn\n",
        "from sklearn.model_selection import train_test_split\n",
        "\n",
        "# División del conjunto de datos en conjuntos de entrenamiento y prueba\n",
        "X = df_merged.drop(columns=['successful'])  # Variables predictoras (todo excepto 'successful')\n",
        "y = df_merged['successful']  # Variable objetivo\n",
        "X_train, X_test, y_train, y_test = train_test_split(X, y, test_size=0.2, random_state=42)"
      ],
      "metadata": {
        "id": "9KBleIMhBTnC",
        "executionInfo": {
          "status": "ok",
          "timestamp": 1710454298089,
          "user_tz": 180,
          "elapsed": 505,
          "user": {
            "displayName": "",
            "userId": ""
          }
        }
      },
      "execution_count": 36,
      "outputs": []
    },
    {
      "cell_type": "code",
      "source": [
        "from sklearn.linear_model import LogisticRegression\n",
        "\n",
        "# Crear una instancia del modelo de regresión logística con un número máximo de iteraciones más alto\n",
        "logistic_regression_model = LogisticRegression(max_iter=1000)\n",
        "\n",
        "# Entrenar el modelo con los datos imputados\n",
        "logistic_regression_model.fit(X_train_imputed, y_train)\n",
        "\n",
        "# Aplicar la misma imputación a X_test\n",
        "X_test_imputed = imputer.transform(X_test)\n",
        "\n",
        "# Realizar predicciones sobre el conjunto de prueba\n",
        "y_pred = logistic_regression_model.predict(X_test_imputed)"
      ],
      "metadata": {
        "id": "I6voOoyiBnvM",
        "executionInfo": {
          "status": "ok",
          "timestamp": 1710454535864,
          "user_tz": 180,
          "elapsed": 19893,
          "user": {
            "displayName": "",
            "userId": ""
          }
        }
      },
      "execution_count": 40,
      "outputs": []
    },
    {
      "cell_type": "code",
      "source": [
        "from sklearn.impute import SimpleImputer\n",
        "\n",
        "# Crear un imputador que reemplace los valores faltantes con la media de la columna\n",
        "imputer = SimpleImputer(strategy='mean')\n",
        "\n",
        "# Aplicar el imputador al conjunto de entrenamiento y de prueba\n",
        "X_train_imputed = imputer.fit_transform(X_train)\n",
        "X_test_imputed = imputer.transform(X_test)"
      ],
      "metadata": {
        "id": "2I8HTdnCCmsu",
        "executionInfo": {
          "status": "ok",
          "timestamp": 1710454877632,
          "user_tz": 180,
          "elapsed": 544,
          "user": {
            "displayName": "",
            "userId": ""
          }
        }
      },
      "execution_count": 42,
      "outputs": []
    },
    {
      "cell_type": "code",
      "source": [
        "from sklearn.metrics import accuracy_score, precision_score, recall_score, f1_score, confusion_matrix\n",
        "\n",
        "# Realizar predicciones sobre el conjunto de prueba\n",
        "y_pred = logistic_regression_model.predict(X_test_imputed)\n",
        "\n",
        "# Calcular métricas de evaluación\n",
        "accuracy = accuracy_score(y_test, y_pred)\n",
        "precision = precision_score(y_test, y_pred)\n",
        "recall = recall_score(y_test, y_pred)\n",
        "f1 = f1_score(y_test, y_pred)\n",
        "conf_matrix = confusion_matrix(y_test, y_pred)\n",
        "\n",
        "# Imprimir las métricas de evaluación\n",
        "print(\"Accuracy:\", accuracy)\n",
        "print(\"Precision:\", precision)\n",
        "print(\"Recall:\", recall)\n",
        "print(\"F1-score:\", f1)\n",
        "print(\"\\nConfusion Matrix:\\n\", conf_matrix)"
      ],
      "metadata": {
        "colab": {
          "base_uri": "https://localhost:8080/"
        },
        "id": "elrtzw-7DpgX",
        "executionInfo": {
          "status": "ok",
          "timestamp": 1710454910715,
          "user_tz": 180,
          "elapsed": 5,
          "user": {
            "displayName": "",
            "userId": ""
          }
        },
        "outputId": "ffca9309-0dd5-4f0a-9186-c217f0ddb13d"
      },
      "execution_count": 43,
      "outputs": [
        {
          "output_type": "stream",
          "name": "stdout",
          "text": [
            "Accuracy: 0.8840889649272883\n",
            "Precision: 0.8766162199940862\n",
            "Recall: 0.9020773975823628\n",
            "F1-score: 0.8891645762896717\n",
            "\n",
            "Confusion Matrix:\n",
            " [[29399  4590]\n",
            " [ 3540 32611]]\n"
          ]
        }
      ]
    },
    {
      "cell_type": "code",
      "source": [
        "from joblib import dump\n",
        "\n",
        "# Guardar el modelo entrenado en un archivo\n",
        "dump(logistic_regression_model, 'logistic_regression_model.joblib')"
      ],
      "metadata": {
        "colab": {
          "base_uri": "https://localhost:8080/"
        },
        "id": "Q4Z0eVRyJQl3",
        "executionInfo": {
          "status": "ok",
          "timestamp": 1710456381891,
          "user_tz": 180,
          "elapsed": 445,
          "user": {
            "displayName": "",
            "userId": ""
          }
        },
        "outputId": "0b307b2c-43ad-492e-afac-ff1b9d322dad"
      },
      "execution_count": 44,
      "outputs": [
        {
          "output_type": "execute_result",
          "data": {
            "text/plain": [
              "['logistic_regression_model.joblib']"
            ]
          },
          "metadata": {},
          "execution_count": 44
        }
      ]
    },
    {
      "cell_type": "code",
      "source": [
        "import os\n",
        "\n",
        "# Obtener el directorio actual\n",
        "current_directory = os.getcwd()\n",
        "\n",
        "# Imprimir la ruta completa del archivo guardado\n",
        "print(\"Ruta del archivo guardado:\", os.path.join(current_directory, 'logistic_regression_model.joblib'))"
      ],
      "metadata": {
        "colab": {
          "base_uri": "https://localhost:8080/"
        },
        "id": "IQJNrx3sJiLs",
        "executionInfo": {
          "status": "ok",
          "timestamp": 1710456452318,
          "user_tz": 180,
          "elapsed": 755,
          "user": {
            "displayName": "",
            "userId": ""
          }
        },
        "outputId": "8e8aa504-cfe5-4c23-b929-ba87b4c46bf2"
      },
      "execution_count": 45,
      "outputs": [
        {
          "output_type": "stream",
          "name": "stdout",
          "text": [
            "Ruta del archivo guardado: /content/logistic_regression_model.joblib\n"
          ]
        }
      ]
    },
    {
      "cell_type": "code",
      "source": [
        "print(df_business_filtered.dtypes)"
      ],
      "metadata": {
        "colab": {
          "base_uri": "https://localhost:8080/"
        },
        "id": "hjLrPAJbQx0c",
        "executionInfo": {
          "status": "ok",
          "timestamp": 1710458356045,
          "user_tz": 180,
          "elapsed": 4,
          "user": {
            "displayName": "",
            "userId": ""
          }
        },
        "outputId": "0999c54b-e411-4531-bf5a-748114c53e8f"
      },
      "execution_count": 47,
      "outputs": [
        {
          "output_type": "stream",
          "name": "stdout",
          "text": [
            "business_id      object\n",
            "stars           float64\n",
            "review_count      Int64\n",
            "price           float64\n",
            "parking          object\n",
            "wifi             object\n",
            "dtype: object\n"
          ]
        }
      ]
    },
    {
      "cell_type": "code",
      "source": [
        "import bigframes.pandas as bf\n",
        "\n",
        "# Configurar opciones de BigQuery\n",
        "bf.options.bigquery.location = \"us-central1\"\n",
        "bf.options.bigquery.project = \"eminent-cycle-415715\"\n",
        "\n",
        "# Iniciar una nueva sesión y cargar los datos de la tabla business\n",
        "df_business = bf.read_gbq(\"SELECT * FROM `eminent-cycle-415715.prueba_ai_ML.business`\")\n",
        "\n",
        "# Visualizar las primeras 20 filas del DataFrame\n",
        "df_business.head(20)"
      ],
      "metadata": {
        "colab": {
          "base_uri": "https://localhost:8080/",
          "height": 1000
        },
        "id": "1x4X6Uz1XVPS",
        "executionInfo": {
          "status": "ok",
          "timestamp": 1710460078613,
          "user_tz": 180,
          "elapsed": 9472,
          "user": {
            "displayName": "",
            "userId": ""
          }
        },
        "outputId": "d8864aa5-e9f4-49c7-beb5-f94081bee7ab"
      },
      "execution_count": 63,
      "outputs": [
        {
          "output_type": "display_data",
          "data": {
            "text/plain": [
              "<IPython.core.display.HTML object>"
            ],
            "text/html": [
              "Query job 14f3de21-0cd6-44da-a15b-623d44493630 is DONE. 6.5 MB processed. <a target=\"_blank\" href=\"https://console.cloud.google.com/bigquery?project=eminent-cycle-415715&j=bq:us-central1:14f3de21-0cd6-44da-a15b-623d44493630&page=queryresults\">Open Job</a>"
            ]
          },
          "metadata": {}
        },
        {
          "output_type": "display_data",
          "data": {
            "text/plain": [
              "<IPython.core.display.HTML object>"
            ],
            "text/html": [
              "Query job 6fa0c321-6795-4ddc-b672-8c251a3c2373 is DONE. 6.5 MB processed. <a target=\"_blank\" href=\"https://console.cloud.google.com/bigquery?project=eminent-cycle-415715&j=bq:us-central1:6fa0c321-6795-4ddc-b672-8c251a3c2373&page=queryresults\">Open Job</a>"
            ]
          },
          "metadata": {}
        },
        {
          "output_type": "display_data",
          "data": {
            "text/plain": [
              "<IPython.core.display.HTML object>"
            ],
            "text/html": [
              "Query job 650da5c5-6f18-4179-947a-a2ab73ec6f5b is DONE. 0 Bytes processed. <a target=\"_blank\" href=\"https://console.cloud.google.com/bigquery?project=eminent-cycle-415715&j=bq:us-central1:650da5c5-6f18-4179-947a-a2ab73ec6f5b&page=queryresults\">Open Job</a>"
            ]
          },
          "metadata": {}
        },
        {
          "output_type": "display_data",
          "data": {
            "text/plain": [
              "<IPython.core.display.HTML object>"
            ],
            "text/html": [
              "Query job edd2ba80-0d56-4b98-bd85-207ecb41aa9b is DONE. 5.2 kB processed. <a target=\"_blank\" href=\"https://console.cloud.google.com/bigquery?project=eminent-cycle-415715&j=bq:us-central1:edd2ba80-0d56-4b98-bd85-207ecb41aa9b&page=queryresults\">Open Job</a>"
            ]
          },
          "metadata": {}
        },
        {
          "output_type": "execute_result",
          "data": {
            "text/plain": [
              "    int64_field_0                            business_id  \\\n",
              "0            1423  0x88e4277435b92343:0x4b21af8287138210   \n",
              "1            7606  0x88d9b75d2c5adaab:0xbc9edce5dcd7e292   \n",
              "2           18601                 ekZqjxHCtN1cFkaj-W-8Dg   \n",
              "3            5903  0x80dd31a20629ed97:0x5bd1e3c329f56b77   \n",
              "4           28290                 L-mMtwcJwHlg4Vt4O1MaXQ   \n",
              "5           18519                 apmw_lkLdwWbeYiI9ysdJg   \n",
              "6            1317  0x88d9b719c26d0a43:0x7299af59d39b2297   \n",
              "7            7520  0x80dbff96b109bed5:0x2e7f90f1b1dd91f3   \n",
              "8            6839  0x80c2d8feea053b55:0x3d04800de4f0970f   \n",
              "9           28146                 j_9oCefv9fBm2kg_-zCnSA   \n",
              "10           1379  0x88de0d3165ae8107:0x17c2935fb4401629   \n",
              "11          15844                 xkTjLbBC7uB-rAIDqAm-sw   \n",
              "12          14269  0x88c2fb8575d8d323:0xbdf137cfc5058888   \n",
              "13           3153  0x80dce7fc62fa7acb:0xe842a7b6d2f9c952   \n",
              "14          27098                 xOJy0o-qdWh8qFpEwLpooQ   \n",
              "15          12093  0x80c32f3a13b5bf73:0xa3d41c6c19a833a6   \n",
              "16          10797  0x88d9079238530e57:0x7caae4ce76538b9c   \n",
              "17          13213  0x80dd285e08bba857:0x8f9e1aaaeb5fcc89   \n",
              "18          20547                 RgWE83xEpRBms1HMuxutDw   \n",
              "19          20974                 f9EcjCMakeDJMRR7nKH6zw   \n",
              "\n",
              "                              name  \\\n",
              "0                            MBQue   \n",
              "1     Namaste Miami Indian Cuisine   \n",
              "2          Prime Time Sports Grill   \n",
              "3        Taqueria Los Tres Garcias   \n",
              "4     Santa Barbara Tourist Hostel   \n",
              "5                           Bar 29   \n",
              "6                Chatos Night Club   \n",
              "7                       K. Cuisine   \n",
              "8   Kabayan Filipino Food & Market   \n",
              "9     Jimmy's Boulevard Restaurant   \n",
              "10  T & B's Corner Diner and Grill   \n",
              "11                   Los Comparres   \n",
              "12                       Starbucks   \n",
              "13                 Pressed Juicery   \n",
              "14                       Pizza Hut   \n",
              "15     Zendejas Mexican Restaurant   \n",
              "16                   Tijuana Flats   \n",
              "17           Arabisc Hookah Lounge   \n",
              "18                   JB Mapes & Co   \n",
              "19                      McDonald's   \n",
              "\n",
              "                                              address   latitude   longitude  \\\n",
              "0   MBQue, 604 Anastasia Blvd, St. Augustine, FL 3...  29.889782  -81.292916   \n",
              "1   Namaste Miami Indian Cuisine, 221 Navarre Ave,...  25.754553  -80.259204   \n",
              "2                              14404 N Dale Mabry Hwy  28.078977  -82.507865   \n",
              "3     Taqueria Los Tres Garcias, Long Beach, CA 90804  33.782608 -118.150009   \n",
              "4                                      134 Chapala St  34.413094 -119.692407   \n",
              "5                                     1134 Chapala St  34.422291 -119.705339   \n",
              "6   Chatos Night Club, 2917 NW 7th St, Miami, FL 3...   25.77969  -80.242296   \n",
              "7   K. Cuisine, 4688 Convoy St #112, San Diego, CA...  32.826335 -117.155602   \n",
              "8   Kabayan Filipino Food & Market, 1743 E Hunting...  34.140007  -117.96741   \n",
              "9                                     6211 Grand Blvd  28.248841  -82.720026   \n",
              "10  T & B's Corner Diner and Grill, 3555 Bayside L...  27.948321  -80.658985   \n",
              "11                                 5305 N Armenia Ave  27.995155   -82.48414   \n",
              "12  Starbucks, 7398 Seminole Blvd, Seminole, FL 33...  27.839167  -82.787516   \n",
              "13  Pressed Juicery, 808 Spectrum Center Dr, Irvin...  33.648948 -117.742303   \n",
              "14                                  33505 US Hwy 19 N  28.077294  -82.738367   \n",
              "15  Zendejas Mexican Restaurant, 665 W Arrow Hwy, ...  34.106111 -117.818333   \n",
              "16  Tijuana Flats, 1371 S University Dr, Plantatio...  26.103018  -80.251341   \n",
              "17  Arabisc Hookah Lounge, 9562 Chapman Ave, Garde...  33.788122 -117.966253   \n",
              "18                            50 N Sierra St, Ste 103    39.5252 -119.814042   \n",
              "19                                2675 Roosevelt Blvd  27.915742  -82.726435   \n",
              "\n",
              "      category  stars  review_count  price noiselevel    parking  \\\n",
              "0   Restaurant    4.1            18   <NA>  sin datos  sin datos   \n",
              "1   Restaurant    4.8            97    2.0  sin datos  sin datos   \n",
              "2   Restaurant    4.0           111   <NA>    average       True   \n",
              "3   Restaurant    4.6            48   <NA>  sin datos  sin datos   \n",
              "4        Hotel    2.5            29   <NA>  sin datos      False   \n",
              "5   Restaurant    4.5           106   <NA>    average       True   \n",
              "6   Restaurant    3.9            68   <NA>  sin datos  sin datos   \n",
              "7   Restaurant    4.4            38   <NA>  sin datos  sin datos   \n",
              "8   Restaurant    4.1            18   <NA>  sin datos  sin datos   \n",
              "9   Restaurant    4.0            21   <NA>    average       True   \n",
              "10  Restaurant    4.5            18   <NA>  sin datos  sin datos   \n",
              "11  Restaurant    4.5           339   <NA>    average       True   \n",
              "12  Restaurant    4.2           662    2.0  sin datos  sin datos   \n",
              "13  Restaurant    4.4            65    2.0  sin datos  sin datos   \n",
              "14  Restaurant    2.0             9   <NA>  very_loud      False   \n",
              "15  Restaurant    4.0           778    2.0  sin datos  sin datos   \n",
              "16  Restaurant    4.4           438    1.0  sin datos  sin datos   \n",
              "17  Restaurant    3.9            24    2.0  sin datos  sin datos   \n",
              "18  Restaurant    3.5            39   <NA>    average       True   \n",
              "19  Restaurant    1.5            38   <NA>  sin datos      False   \n",
              "\n",
              "   accepts_credit_cards       wifi restaurant_delivery     has_tv  \\\n",
              "0             sin datos  sin datos           sin datos  sin datos   \n",
              "1             sin datos  sin datos           sin datos  sin datos   \n",
              "2                  True       Free                True       True   \n",
              "3             sin datos  sin datos           sin datos  sin datos   \n",
              "4                  True       Free               False      False   \n",
              "5                  True       Free                True      False   \n",
              "6             sin datos  sin datos           sin datos  sin datos   \n",
              "7             sin datos  sin datos           sin datos  sin datos   \n",
              "8             sin datos  sin datos           sin datos  sin datos   \n",
              "9                  True         No               False       True   \n",
              "10            sin datos  sin datos           sin datos  sin datos   \n",
              "11                 True         No                True       True   \n",
              "12            sin datos  sin datos           sin datos  sin datos   \n",
              "13            sin datos  sin datos           sin datos  sin datos   \n",
              "14                 True         No                True       True   \n",
              "15            sin datos  sin datos           sin datos  sin datos   \n",
              "16            sin datos  sin datos           sin datos  sin datos   \n",
              "17            sin datos  sin datos           sin datos  sin datos   \n",
              "18                 True         No               False      False   \n",
              "19                 True       Free                True       True   \n",
              "\n",
              "   restaurant_takeout       state                 city  \n",
              "0           sin datos     Florida      Saint Augustine  \n",
              "1           sin datos     Florida         Coral Gables  \n",
              "2                True     Florida  Carrollwood Village  \n",
              "3           sin datos  California          Signal Hill  \n",
              "4               False  California        Santa Barbara  \n",
              "5                True  California        Santa Barbara  \n",
              "6           sin datos     Florida           Allapattah  \n",
              "7           sin datos  California            San Diego  \n",
              "8           sin datos  California             Bradbury  \n",
              "9                True     Florida      New Port Richey  \n",
              "10          sin datos     Florida       Grant-Valkaria  \n",
              "11               True     Florida      Egypt Lake-Leto  \n",
              "12          sin datos     Florida             Seminole  \n",
              "13          sin datos  California         Laguna Woods  \n",
              "14               True     Florida         Saint George  \n",
              "15          sin datos  California            San Dimas  \n",
              "16          sin datos     Florida    Pine Island Ridge  \n",
              "17          sin datos  California         Garden Grove  \n",
              "18               True      Nevada                 Reno  \n",
              "19               True     Florida      South Highpoint  \n",
              "\n",
              "[20 rows x 19 columns]"
            ],
            "text/html": [
              "<div>\n",
              "<style scoped>\n",
              "    .dataframe tbody tr th:only-of-type {\n",
              "        vertical-align: middle;\n",
              "    }\n",
              "\n",
              "    .dataframe tbody tr th {\n",
              "        vertical-align: top;\n",
              "    }\n",
              "\n",
              "    .dataframe thead th {\n",
              "        text-align: right;\n",
              "    }\n",
              "</style>\n",
              "<table border=\"1\" class=\"dataframe\">\n",
              "  <thead>\n",
              "    <tr style=\"text-align: right;\">\n",
              "      <th></th>\n",
              "      <th>int64_field_0</th>\n",
              "      <th>business_id</th>\n",
              "      <th>name</th>\n",
              "      <th>address</th>\n",
              "      <th>latitude</th>\n",
              "      <th>longitude</th>\n",
              "      <th>category</th>\n",
              "      <th>stars</th>\n",
              "      <th>review_count</th>\n",
              "      <th>price</th>\n",
              "      <th>noiselevel</th>\n",
              "      <th>parking</th>\n",
              "      <th>accepts_credit_cards</th>\n",
              "      <th>wifi</th>\n",
              "      <th>restaurant_delivery</th>\n",
              "      <th>has_tv</th>\n",
              "      <th>restaurant_takeout</th>\n",
              "      <th>state</th>\n",
              "      <th>city</th>\n",
              "    </tr>\n",
              "  </thead>\n",
              "  <tbody>\n",
              "    <tr>\n",
              "      <th>0</th>\n",
              "      <td>1423</td>\n",
              "      <td>0x88e4277435b92343:0x4b21af8287138210</td>\n",
              "      <td>MBQue</td>\n",
              "      <td>MBQue, 604 Anastasia Blvd, St. Augustine, FL 3...</td>\n",
              "      <td>29.889782</td>\n",
              "      <td>-81.292916</td>\n",
              "      <td>Restaurant</td>\n",
              "      <td>4.1</td>\n",
              "      <td>18</td>\n",
              "      <td>&lt;NA&gt;</td>\n",
              "      <td>sin datos</td>\n",
              "      <td>sin datos</td>\n",
              "      <td>sin datos</td>\n",
              "      <td>sin datos</td>\n",
              "      <td>sin datos</td>\n",
              "      <td>sin datos</td>\n",
              "      <td>sin datos</td>\n",
              "      <td>Florida</td>\n",
              "      <td>Saint Augustine</td>\n",
              "    </tr>\n",
              "    <tr>\n",
              "      <th>1</th>\n",
              "      <td>7606</td>\n",
              "      <td>0x88d9b75d2c5adaab:0xbc9edce5dcd7e292</td>\n",
              "      <td>Namaste Miami Indian Cuisine</td>\n",
              "      <td>Namaste Miami Indian Cuisine, 221 Navarre Ave,...</td>\n",
              "      <td>25.754553</td>\n",
              "      <td>-80.259204</td>\n",
              "      <td>Restaurant</td>\n",
              "      <td>4.8</td>\n",
              "      <td>97</td>\n",
              "      <td>2.0</td>\n",
              "      <td>sin datos</td>\n",
              "      <td>sin datos</td>\n",
              "      <td>sin datos</td>\n",
              "      <td>sin datos</td>\n",
              "      <td>sin datos</td>\n",
              "      <td>sin datos</td>\n",
              "      <td>sin datos</td>\n",
              "      <td>Florida</td>\n",
              "      <td>Coral Gables</td>\n",
              "    </tr>\n",
              "    <tr>\n",
              "      <th>2</th>\n",
              "      <td>18601</td>\n",
              "      <td>ekZqjxHCtN1cFkaj-W-8Dg</td>\n",
              "      <td>Prime Time Sports Grill</td>\n",
              "      <td>14404 N Dale Mabry Hwy</td>\n",
              "      <td>28.078977</td>\n",
              "      <td>-82.507865</td>\n",
              "      <td>Restaurant</td>\n",
              "      <td>4.0</td>\n",
              "      <td>111</td>\n",
              "      <td>&lt;NA&gt;</td>\n",
              "      <td>average</td>\n",
              "      <td>True</td>\n",
              "      <td>True</td>\n",
              "      <td>Free</td>\n",
              "      <td>True</td>\n",
              "      <td>True</td>\n",
              "      <td>True</td>\n",
              "      <td>Florida</td>\n",
              "      <td>Carrollwood Village</td>\n",
              "    </tr>\n",
              "    <tr>\n",
              "      <th>3</th>\n",
              "      <td>5903</td>\n",
              "      <td>0x80dd31a20629ed97:0x5bd1e3c329f56b77</td>\n",
              "      <td>Taqueria Los Tres Garcias</td>\n",
              "      <td>Taqueria Los Tres Garcias, Long Beach, CA 90804</td>\n",
              "      <td>33.782608</td>\n",
              "      <td>-118.150009</td>\n",
              "      <td>Restaurant</td>\n",
              "      <td>4.6</td>\n",
              "      <td>48</td>\n",
              "      <td>&lt;NA&gt;</td>\n",
              "      <td>sin datos</td>\n",
              "      <td>sin datos</td>\n",
              "      <td>sin datos</td>\n",
              "      <td>sin datos</td>\n",
              "      <td>sin datos</td>\n",
              "      <td>sin datos</td>\n",
              "      <td>sin datos</td>\n",
              "      <td>California</td>\n",
              "      <td>Signal Hill</td>\n",
              "    </tr>\n",
              "    <tr>\n",
              "      <th>4</th>\n",
              "      <td>28290</td>\n",
              "      <td>L-mMtwcJwHlg4Vt4O1MaXQ</td>\n",
              "      <td>Santa Barbara Tourist Hostel</td>\n",
              "      <td>134 Chapala St</td>\n",
              "      <td>34.413094</td>\n",
              "      <td>-119.692407</td>\n",
              "      <td>Hotel</td>\n",
              "      <td>2.5</td>\n",
              "      <td>29</td>\n",
              "      <td>&lt;NA&gt;</td>\n",
              "      <td>sin datos</td>\n",
              "      <td>False</td>\n",
              "      <td>True</td>\n",
              "      <td>Free</td>\n",
              "      <td>False</td>\n",
              "      <td>False</td>\n",
              "      <td>False</td>\n",
              "      <td>California</td>\n",
              "      <td>Santa Barbara</td>\n",
              "    </tr>\n",
              "    <tr>\n",
              "      <th>5</th>\n",
              "      <td>18519</td>\n",
              "      <td>apmw_lkLdwWbeYiI9ysdJg</td>\n",
              "      <td>Bar 29</td>\n",
              "      <td>1134 Chapala St</td>\n",
              "      <td>34.422291</td>\n",
              "      <td>-119.705339</td>\n",
              "      <td>Restaurant</td>\n",
              "      <td>4.5</td>\n",
              "      <td>106</td>\n",
              "      <td>&lt;NA&gt;</td>\n",
              "      <td>average</td>\n",
              "      <td>True</td>\n",
              "      <td>True</td>\n",
              "      <td>Free</td>\n",
              "      <td>True</td>\n",
              "      <td>False</td>\n",
              "      <td>True</td>\n",
              "      <td>California</td>\n",
              "      <td>Santa Barbara</td>\n",
              "    </tr>\n",
              "    <tr>\n",
              "      <th>6</th>\n",
              "      <td>1317</td>\n",
              "      <td>0x88d9b719c26d0a43:0x7299af59d39b2297</td>\n",
              "      <td>Chatos Night Club</td>\n",
              "      <td>Chatos Night Club, 2917 NW 7th St, Miami, FL 3...</td>\n",
              "      <td>25.77969</td>\n",
              "      <td>-80.242296</td>\n",
              "      <td>Restaurant</td>\n",
              "      <td>3.9</td>\n",
              "      <td>68</td>\n",
              "      <td>&lt;NA&gt;</td>\n",
              "      <td>sin datos</td>\n",
              "      <td>sin datos</td>\n",
              "      <td>sin datos</td>\n",
              "      <td>sin datos</td>\n",
              "      <td>sin datos</td>\n",
              "      <td>sin datos</td>\n",
              "      <td>sin datos</td>\n",
              "      <td>Florida</td>\n",
              "      <td>Allapattah</td>\n",
              "    </tr>\n",
              "    <tr>\n",
              "      <th>7</th>\n",
              "      <td>7520</td>\n",
              "      <td>0x80dbff96b109bed5:0x2e7f90f1b1dd91f3</td>\n",
              "      <td>K. Cuisine</td>\n",
              "      <td>K. Cuisine, 4688 Convoy St #112, San Diego, CA...</td>\n",
              "      <td>32.826335</td>\n",
              "      <td>-117.155602</td>\n",
              "      <td>Restaurant</td>\n",
              "      <td>4.4</td>\n",
              "      <td>38</td>\n",
              "      <td>&lt;NA&gt;</td>\n",
              "      <td>sin datos</td>\n",
              "      <td>sin datos</td>\n",
              "      <td>sin datos</td>\n",
              "      <td>sin datos</td>\n",
              "      <td>sin datos</td>\n",
              "      <td>sin datos</td>\n",
              "      <td>sin datos</td>\n",
              "      <td>California</td>\n",
              "      <td>San Diego</td>\n",
              "    </tr>\n",
              "    <tr>\n",
              "      <th>8</th>\n",
              "      <td>6839</td>\n",
              "      <td>0x80c2d8feea053b55:0x3d04800de4f0970f</td>\n",
              "      <td>Kabayan Filipino Food &amp; Market</td>\n",
              "      <td>Kabayan Filipino Food &amp; Market, 1743 E Hunting...</td>\n",
              "      <td>34.140007</td>\n",
              "      <td>-117.96741</td>\n",
              "      <td>Restaurant</td>\n",
              "      <td>4.1</td>\n",
              "      <td>18</td>\n",
              "      <td>&lt;NA&gt;</td>\n",
              "      <td>sin datos</td>\n",
              "      <td>sin datos</td>\n",
              "      <td>sin datos</td>\n",
              "      <td>sin datos</td>\n",
              "      <td>sin datos</td>\n",
              "      <td>sin datos</td>\n",
              "      <td>sin datos</td>\n",
              "      <td>California</td>\n",
              "      <td>Bradbury</td>\n",
              "    </tr>\n",
              "    <tr>\n",
              "      <th>9</th>\n",
              "      <td>28146</td>\n",
              "      <td>j_9oCefv9fBm2kg_-zCnSA</td>\n",
              "      <td>Jimmy's Boulevard Restaurant</td>\n",
              "      <td>6211 Grand Blvd</td>\n",
              "      <td>28.248841</td>\n",
              "      <td>-82.720026</td>\n",
              "      <td>Restaurant</td>\n",
              "      <td>4.0</td>\n",
              "      <td>21</td>\n",
              "      <td>&lt;NA&gt;</td>\n",
              "      <td>average</td>\n",
              "      <td>True</td>\n",
              "      <td>True</td>\n",
              "      <td>No</td>\n",
              "      <td>False</td>\n",
              "      <td>True</td>\n",
              "      <td>True</td>\n",
              "      <td>Florida</td>\n",
              "      <td>New Port Richey</td>\n",
              "    </tr>\n",
              "    <tr>\n",
              "      <th>10</th>\n",
              "      <td>1379</td>\n",
              "      <td>0x88de0d3165ae8107:0x17c2935fb4401629</td>\n",
              "      <td>T &amp; B's Corner Diner and Grill</td>\n",
              "      <td>T &amp; B's Corner Diner and Grill, 3555 Bayside L...</td>\n",
              "      <td>27.948321</td>\n",
              "      <td>-80.658985</td>\n",
              "      <td>Restaurant</td>\n",
              "      <td>4.5</td>\n",
              "      <td>18</td>\n",
              "      <td>&lt;NA&gt;</td>\n",
              "      <td>sin datos</td>\n",
              "      <td>sin datos</td>\n",
              "      <td>sin datos</td>\n",
              "      <td>sin datos</td>\n",
              "      <td>sin datos</td>\n",
              "      <td>sin datos</td>\n",
              "      <td>sin datos</td>\n",
              "      <td>Florida</td>\n",
              "      <td>Grant-Valkaria</td>\n",
              "    </tr>\n",
              "    <tr>\n",
              "      <th>11</th>\n",
              "      <td>15844</td>\n",
              "      <td>xkTjLbBC7uB-rAIDqAm-sw</td>\n",
              "      <td>Los Comparres</td>\n",
              "      <td>5305 N Armenia Ave</td>\n",
              "      <td>27.995155</td>\n",
              "      <td>-82.48414</td>\n",
              "      <td>Restaurant</td>\n",
              "      <td>4.5</td>\n",
              "      <td>339</td>\n",
              "      <td>&lt;NA&gt;</td>\n",
              "      <td>average</td>\n",
              "      <td>True</td>\n",
              "      <td>True</td>\n",
              "      <td>No</td>\n",
              "      <td>True</td>\n",
              "      <td>True</td>\n",
              "      <td>True</td>\n",
              "      <td>Florida</td>\n",
              "      <td>Egypt Lake-Leto</td>\n",
              "    </tr>\n",
              "    <tr>\n",
              "      <th>12</th>\n",
              "      <td>14269</td>\n",
              "      <td>0x88c2fb8575d8d323:0xbdf137cfc5058888</td>\n",
              "      <td>Starbucks</td>\n",
              "      <td>Starbucks, 7398 Seminole Blvd, Seminole, FL 33...</td>\n",
              "      <td>27.839167</td>\n",
              "      <td>-82.787516</td>\n",
              "      <td>Restaurant</td>\n",
              "      <td>4.2</td>\n",
              "      <td>662</td>\n",
              "      <td>2.0</td>\n",
              "      <td>sin datos</td>\n",
              "      <td>sin datos</td>\n",
              "      <td>sin datos</td>\n",
              "      <td>sin datos</td>\n",
              "      <td>sin datos</td>\n",
              "      <td>sin datos</td>\n",
              "      <td>sin datos</td>\n",
              "      <td>Florida</td>\n",
              "      <td>Seminole</td>\n",
              "    </tr>\n",
              "    <tr>\n",
              "      <th>13</th>\n",
              "      <td>3153</td>\n",
              "      <td>0x80dce7fc62fa7acb:0xe842a7b6d2f9c952</td>\n",
              "      <td>Pressed Juicery</td>\n",
              "      <td>Pressed Juicery, 808 Spectrum Center Dr, Irvin...</td>\n",
              "      <td>33.648948</td>\n",
              "      <td>-117.742303</td>\n",
              "      <td>Restaurant</td>\n",
              "      <td>4.4</td>\n",
              "      <td>65</td>\n",
              "      <td>2.0</td>\n",
              "      <td>sin datos</td>\n",
              "      <td>sin datos</td>\n",
              "      <td>sin datos</td>\n",
              "      <td>sin datos</td>\n",
              "      <td>sin datos</td>\n",
              "      <td>sin datos</td>\n",
              "      <td>sin datos</td>\n",
              "      <td>California</td>\n",
              "      <td>Laguna Woods</td>\n",
              "    </tr>\n",
              "    <tr>\n",
              "      <th>14</th>\n",
              "      <td>27098</td>\n",
              "      <td>xOJy0o-qdWh8qFpEwLpooQ</td>\n",
              "      <td>Pizza Hut</td>\n",
              "      <td>33505 US Hwy 19 N</td>\n",
              "      <td>28.077294</td>\n",
              "      <td>-82.738367</td>\n",
              "      <td>Restaurant</td>\n",
              "      <td>2.0</td>\n",
              "      <td>9</td>\n",
              "      <td>&lt;NA&gt;</td>\n",
              "      <td>very_loud</td>\n",
              "      <td>False</td>\n",
              "      <td>True</td>\n",
              "      <td>No</td>\n",
              "      <td>True</td>\n",
              "      <td>True</td>\n",
              "      <td>True</td>\n",
              "      <td>Florida</td>\n",
              "      <td>Saint George</td>\n",
              "    </tr>\n",
              "    <tr>\n",
              "      <th>15</th>\n",
              "      <td>12093</td>\n",
              "      <td>0x80c32f3a13b5bf73:0xa3d41c6c19a833a6</td>\n",
              "      <td>Zendejas Mexican Restaurant</td>\n",
              "      <td>Zendejas Mexican Restaurant, 665 W Arrow Hwy, ...</td>\n",
              "      <td>34.106111</td>\n",
              "      <td>-117.818333</td>\n",
              "      <td>Restaurant</td>\n",
              "      <td>4.0</td>\n",
              "      <td>778</td>\n",
              "      <td>2.0</td>\n",
              "      <td>sin datos</td>\n",
              "      <td>sin datos</td>\n",
              "      <td>sin datos</td>\n",
              "      <td>sin datos</td>\n",
              "      <td>sin datos</td>\n",
              "      <td>sin datos</td>\n",
              "      <td>sin datos</td>\n",
              "      <td>California</td>\n",
              "      <td>San Dimas</td>\n",
              "    </tr>\n",
              "    <tr>\n",
              "      <th>16</th>\n",
              "      <td>10797</td>\n",
              "      <td>0x88d9079238530e57:0x7caae4ce76538b9c</td>\n",
              "      <td>Tijuana Flats</td>\n",
              "      <td>Tijuana Flats, 1371 S University Dr, Plantatio...</td>\n",
              "      <td>26.103018</td>\n",
              "      <td>-80.251341</td>\n",
              "      <td>Restaurant</td>\n",
              "      <td>4.4</td>\n",
              "      <td>438</td>\n",
              "      <td>1.0</td>\n",
              "      <td>sin datos</td>\n",
              "      <td>sin datos</td>\n",
              "      <td>sin datos</td>\n",
              "      <td>sin datos</td>\n",
              "      <td>sin datos</td>\n",
              "      <td>sin datos</td>\n",
              "      <td>sin datos</td>\n",
              "      <td>Florida</td>\n",
              "      <td>Pine Island Ridge</td>\n",
              "    </tr>\n",
              "    <tr>\n",
              "      <th>17</th>\n",
              "      <td>13213</td>\n",
              "      <td>0x80dd285e08bba857:0x8f9e1aaaeb5fcc89</td>\n",
              "      <td>Arabisc Hookah Lounge</td>\n",
              "      <td>Arabisc Hookah Lounge, 9562 Chapman Ave, Garde...</td>\n",
              "      <td>33.788122</td>\n",
              "      <td>-117.966253</td>\n",
              "      <td>Restaurant</td>\n",
              "      <td>3.9</td>\n",
              "      <td>24</td>\n",
              "      <td>2.0</td>\n",
              "      <td>sin datos</td>\n",
              "      <td>sin datos</td>\n",
              "      <td>sin datos</td>\n",
              "      <td>sin datos</td>\n",
              "      <td>sin datos</td>\n",
              "      <td>sin datos</td>\n",
              "      <td>sin datos</td>\n",
              "      <td>California</td>\n",
              "      <td>Garden Grove</td>\n",
              "    </tr>\n",
              "    <tr>\n",
              "      <th>18</th>\n",
              "      <td>20547</td>\n",
              "      <td>RgWE83xEpRBms1HMuxutDw</td>\n",
              "      <td>JB Mapes &amp; Co</td>\n",
              "      <td>50 N Sierra St, Ste 103</td>\n",
              "      <td>39.5252</td>\n",
              "      <td>-119.814042</td>\n",
              "      <td>Restaurant</td>\n",
              "      <td>3.5</td>\n",
              "      <td>39</td>\n",
              "      <td>&lt;NA&gt;</td>\n",
              "      <td>average</td>\n",
              "      <td>True</td>\n",
              "      <td>True</td>\n",
              "      <td>No</td>\n",
              "      <td>False</td>\n",
              "      <td>False</td>\n",
              "      <td>True</td>\n",
              "      <td>Nevada</td>\n",
              "      <td>Reno</td>\n",
              "    </tr>\n",
              "    <tr>\n",
              "      <th>19</th>\n",
              "      <td>20974</td>\n",
              "      <td>f9EcjCMakeDJMRR7nKH6zw</td>\n",
              "      <td>McDonald's</td>\n",
              "      <td>2675 Roosevelt Blvd</td>\n",
              "      <td>27.915742</td>\n",
              "      <td>-82.726435</td>\n",
              "      <td>Restaurant</td>\n",
              "      <td>1.5</td>\n",
              "      <td>38</td>\n",
              "      <td>&lt;NA&gt;</td>\n",
              "      <td>sin datos</td>\n",
              "      <td>False</td>\n",
              "      <td>True</td>\n",
              "      <td>Free</td>\n",
              "      <td>True</td>\n",
              "      <td>True</td>\n",
              "      <td>True</td>\n",
              "      <td>Florida</td>\n",
              "      <td>South Highpoint</td>\n",
              "    </tr>\n",
              "  </tbody>\n",
              "</table>\n",
              "<p>20 rows × 19 columns</p>\n",
              "</div>[20 rows x 19 columns in total]"
            ]
          },
          "metadata": {},
          "execution_count": 63
        }
      ]
    },
    {
      "cell_type": "code",
      "source": [
        "print(df_business_filtered.columns)"
      ],
      "metadata": {
        "colab": {
          "base_uri": "https://localhost:8080/"
        },
        "id": "sSiq6TqhcA9d",
        "executionInfo": {
          "status": "ok",
          "timestamp": 1710461381678,
          "user_tz": 180,
          "elapsed": 7,
          "user": {
            "displayName": "",
            "userId": ""
          }
        },
        "outputId": "5580ac6d-4d72-4a56-b91c-123552b90168"
      },
      "execution_count": 82,
      "outputs": [
        {
          "output_type": "stream",
          "name": "stdout",
          "text": [
            "Index(['business_id', 'stars', 'review_count', 'price'], dtype='object')\n"
          ]
        }
      ]
    },
    {
      "cell_type": "code",
      "source": [
        "import pandas as pd\n",
        "\n",
        "# Cargar los datos de la tabla 'business' desde BigQuery\n",
        "df_business = bf.read_gbq(\"eminent-cycle-415715.prueba_ai_ML.business\")\n",
        "\n",
        "# Seleccionar las columnas relevantes\n",
        "relevant_columns_business = ['business_id', 'stars', 'review_count', 'price']\n",
        "df_business_filtered = df_business[relevant_columns_business]"
      ],
      "metadata": {
        "id": "6fmr_Wi8YGN_",
        "executionInfo": {
          "status": "ok",
          "timestamp": 1710461572515,
          "user_tz": 180,
          "elapsed": 1189,
          "user": {
            "displayName": "",
            "userId": ""
          }
        }
      },
      "execution_count": 85,
      "outputs": []
    },
    {
      "cell_type": "code",
      "source": [
        "# Convertir las columnas numéricas a Int64\n",
        "numeric_columns = ['stars', 'review_count', 'price']\n",
        "for column in numeric_columns:\n",
        "    df_business_filtered[column] = df_business_filtered[column].astype('Int64')"
      ],
      "metadata": {
        "id": "FGWmHwVmdGPD",
        "executionInfo": {
          "status": "ok",
          "timestamp": 1710461584840,
          "user_tz": 180,
          "elapsed": 1081,
          "user": {
            "displayName": "",
            "userId": ""
          }
        }
      },
      "execution_count": 86,
      "outputs": []
    },
    {
      "cell_type": "code",
      "source": [
        "import pandas as pd\n",
        "from pandas.api.types import is_float_dtype\n",
        "\n",
        "for col in numeric_columns:\n",
        "    if is_float_dtype(df_business_filtered[col]):\n",
        "        df_business_filtered[col] = df_business_filtered[col].astype(pd.Float64Dtype())"
      ],
      "metadata": {
        "id": "-z7L4iqldO7U",
        "executionInfo": {
          "status": "ok",
          "timestamp": 1710461840489,
          "user_tz": 180,
          "elapsed": 550,
          "user": {
            "displayName": "",
            "userId": ""
          }
        }
      },
      "execution_count": 90,
      "outputs": []
    },
    {
      "cell_type": "code",
      "source": [
        "# 1. Imprimir tipos de datos antes y después del procesamiento\n",
        "print(\"Tipos de datos antes del preprocesamiento:\")\n",
        "print(df_business_filtered.dtypes)\n",
        "\n",
        "# 2. Verificar valores faltantes después de la imputación\n",
        "missing_values = df_business_filtered[numeric_columns].isnull().sum()\n",
        "print(\"\\nValores faltantes después de la imputación:\")\n",
        "print(missing_values)\n",
        "\n",
        "# 3. Mostrar las primeras filas del DataFrame preprocesado\n",
        "print(\"\\nDataFrame preprocesado:\")\n",
        "print(df_business_filtered.head())"
      ],
      "metadata": {
        "colab": {
          "base_uri": "https://localhost:8080/",
          "height": 503
        },
        "id": "G-Vsi1hqeWp3",
        "executionInfo": {
          "status": "ok",
          "timestamp": 1710461921831,
          "user_tz": 180,
          "elapsed": 12190,
          "user": {
            "displayName": "",
            "userId": ""
          }
        },
        "outputId": "60bd73ee-0688-4a0a-c78f-c976dd8475fd"
      },
      "execution_count": 91,
      "outputs": [
        {
          "output_type": "stream",
          "name": "stdout",
          "text": [
            "Tipos de datos antes del preprocesamiento:\n",
            "business_id     string\n",
            "stars            Int64\n",
            "review_count     Int64\n",
            "price            Int64\n",
            "dtype: object\n",
            "\n",
            "Valores faltantes después de la imputación:\n"
          ]
        },
        {
          "output_type": "display_data",
          "data": {
            "text/plain": [
              "<IPython.core.display.HTML object>"
            ],
            "text/html": [
              "Query job c770f7cd-ba39-485f-8658-6c9984a53b49 is DONE. 508.0 kB processed. <a target=\"_blank\" href=\"https://console.cloud.google.com/bigquery?project=eminent-cycle-415715&j=bq:us-central1:c770f7cd-ba39-485f-8658-6c9984a53b49&page=queryresults\">Open Job</a>"
            ]
          },
          "metadata": {}
        },
        {
          "output_type": "display_data",
          "data": {
            "text/plain": [
              "<IPython.core.display.HTML object>"
            ],
            "text/html": [
              "Query job 5b35228f-f98b-42f4-b96f-22b3f4792bfc is DONE. 0 Bytes processed. <a target=\"_blank\" href=\"https://console.cloud.google.com/bigquery?project=eminent-cycle-415715&j=bq:us-central1:5b35228f-f98b-42f4-b96f-22b3f4792bfc&page=queryresults\">Open Job</a>"
            ]
          },
          "metadata": {}
        },
        {
          "output_type": "display_data",
          "data": {
            "text/plain": [
              "<IPython.core.display.HTML object>"
            ],
            "text/html": [
              "Query job 81f4edcf-844e-4b04-aecf-b8f11223f90e is DONE. 100 Bytes processed. <a target=\"_blank\" href=\"https://console.cloud.google.com/bigquery?project=eminent-cycle-415715&j=bq:us-central1:81f4edcf-844e-4b04-aecf-b8f11223f90e&page=queryresults\">Open Job</a>"
            ]
          },
          "metadata": {}
        },
        {
          "output_type": "stream",
          "name": "stdout",
          "text": [
            "stars               0.0\n",
            "review_count        0.0\n",
            "price           19539.0\n",
            "dtype: Float64\n",
            "\n",
            "DataFrame preprocesado:\n"
          ]
        },
        {
          "output_type": "display_data",
          "data": {
            "text/plain": [
              "<IPython.core.display.HTML object>"
            ],
            "text/html": [
              "Query job 57b56544-e301-469e-8938-d6a6e5bcdfa7 is DONE. 6.5 MB processed. <a target=\"_blank\" href=\"https://console.cloud.google.com/bigquery?project=eminent-cycle-415715&j=bq:us-central1:57b56544-e301-469e-8938-d6a6e5bcdfa7&page=queryresults\">Open Job</a>"
            ]
          },
          "metadata": {}
        },
        {
          "output_type": "display_data",
          "data": {
            "text/plain": [
              "<IPython.core.display.HTML object>"
            ],
            "text/html": [
              "Query job 732967d8-04d2-4722-a5e2-328d012910d9 is DONE. 0 Bytes processed. <a target=\"_blank\" href=\"https://console.cloud.google.com/bigquery?project=eminent-cycle-415715&j=bq:us-central1:732967d8-04d2-4722-a5e2-328d012910d9&page=queryresults\">Open Job</a>"
            ]
          },
          "metadata": {}
        },
        {
          "output_type": "display_data",
          "data": {
            "text/plain": [
              "<IPython.core.display.HTML object>"
            ],
            "text/html": [
              "Query job 2754ecec-c9fd-468c-80a7-6d48307c0f05 is DONE. 333 Bytes processed. <a target=\"_blank\" href=\"https://console.cloud.google.com/bigquery?project=eminent-cycle-415715&j=bq:us-central1:2754ecec-c9fd-468c-80a7-6d48307c0f05&page=queryresults\">Open Job</a>"
            ]
          },
          "metadata": {}
        },
        {
          "output_type": "stream",
          "name": "stdout",
          "text": [
            "                             business_id  stars  review_count  price\n",
            "0  0x88e4277435b92343:0x4b21af8287138210      4            18   <NA>\n",
            "1  0x88d9b75d2c5adaab:0xbc9edce5dcd7e292      4            97      2\n",
            "2                 ekZqjxHCtN1cFkaj-W-8Dg      4           111   <NA>\n",
            "3  0x80dd31a20629ed97:0x5bd1e3c329f56b77      4            48   <NA>\n",
            "4                 L-mMtwcJwHlg4Vt4O1MaXQ      2            29   <NA>\n",
            "\n",
            "[5 rows x 4 columns]\n"
          ]
        }
      ]
    },
    {
      "cell_type": "code",
      "source": [
        "# Reemplazar los valores '<NA>' por 0 en las columnas numéricas\n",
        "numeric_columns = ['stars', 'review_count', 'price']\n",
        "df_business_pd[numeric_columns] = df_business_pd[numeric_columns].fillna(0)"
      ],
      "metadata": {
        "id": "GPurvHqeq0v5",
        "executionInfo": {
          "status": "ok",
          "timestamp": 1710465179614,
          "user_tz": 180,
          "elapsed": 460,
          "user": {
            "displayName": "",
            "userId": ""
          }
        }
      },
      "execution_count": 101,
      "outputs": []
    },
    {
      "cell_type": "code",
      "source": [
        "# Imprimir las primeras filas del DataFrame para verificar el reemplazo de valores NA\n",
        "print(df_business_pd.head())"
      ],
      "metadata": {
        "colab": {
          "base_uri": "https://localhost:8080/"
        },
        "id": "WmeilKguq-7I",
        "executionInfo": {
          "status": "ok",
          "timestamp": 1710465221790,
          "user_tz": 180,
          "elapsed": 1085,
          "user": {
            "displayName": "",
            "userId": ""
          }
        },
        "outputId": "b08bbe2f-7fd8-46ca-b3e6-a250c81c4b36"
      },
      "execution_count": 102,
      "outputs": [
        {
          "output_type": "stream",
          "name": "stdout",
          "text": [
            "                             business_id  stars  review_count  price parking  \\\n",
            "0  0x88e4277435b92343:0x4b21af8287138210    4.1          18.0    0.0    <NA>   \n",
            "1  0x88d9b75d2c5adaab:0xbc9edce5dcd7e292    4.8          97.0    2.0    <NA>   \n",
            "2                 ekZqjxHCtN1cFkaj-W-8Dg    4.0         111.0    0.0    True   \n",
            "3  0x80dd31a20629ed97:0x5bd1e3c329f56b77    4.6          48.0    0.0    <NA>   \n",
            "4                 L-mMtwcJwHlg4Vt4O1MaXQ    2.5          29.0    0.0   False   \n",
            "\n",
            "   wifi  \n",
            "0  <NA>  \n",
            "1  <NA>  \n",
            "2  Free  \n",
            "3  <NA>  \n",
            "4  Free  \n"
          ]
        }
      ]
    },
    {
      "cell_type": "code",
      "source": [
        "print(X.info())"
      ],
      "metadata": {
        "colab": {
          "base_uri": "https://localhost:8080/"
        },
        "id": "pUoHk1FMtufW",
        "executionInfo": {
          "status": "ok",
          "timestamp": 1710465940628,
          "user_tz": 180,
          "elapsed": 1162,
          "user": {
            "displayName": "",
            "userId": ""
          }
        },
        "outputId": "818d1d82-256a-4f53-bf81-0490894cb9af"
      },
      "execution_count": 109,
      "outputs": [
        {
          "output_type": "stream",
          "name": "stdout",
          "text": [
            "<class 'pandas.core.frame.DataFrame'>\n",
            "Int64Index: 350696 entries, 0 to 350695\n",
            "Data columns (total 5 columns):\n",
            " #   Column        Non-Null Count   Dtype  \n",
            "---  ------        --------------   -----  \n",
            " 0   stars_x       350696 non-null  Float64\n",
            " 1   review_count  350696 non-null  Int64  \n",
            " 2   price         350696 non-null  Float64\n",
            " 3   parking       335338 non-null  string \n",
            " 4   wifi          335338 non-null  string \n",
            "dtypes: Float64(2), Int64(1), string(2)\n",
            "memory usage: 16.8 MB\n",
            "None\n"
          ]
        }
      ]
    },
    {
      "cell_type": "code",
      "source": [
        "print(X.head())"
      ],
      "metadata": {
        "colab": {
          "base_uri": "https://localhost:8080/"
        },
        "id": "ict6ps9Ot81W",
        "executionInfo": {
          "status": "ok",
          "timestamp": 1710466103627,
          "user_tz": 180,
          "elapsed": 1168,
          "user": {
            "displayName": "",
            "userId": ""
          }
        },
        "outputId": "8740d35a-b9ea-413c-8d68-fd89776a7be4"
      },
      "execution_count": 112,
      "outputs": [
        {
          "output_type": "stream",
          "name": "stdout",
          "text": [
            "   stars_x  review_count  price  parking_False  parking_True  wifi_Free  \\\n",
            "0      4.1            18    0.0              0             0          0   \n",
            "1      4.8            97    2.0              0             0          0   \n",
            "2      4.0           111    0.0              0             1          1   \n",
            "3      4.0           111    0.0              0             1          1   \n",
            "4      4.0           111    0.0              0             1          1   \n",
            "\n",
            "   wifi_No  wifi_Paid  \n",
            "0        0          0  \n",
            "1        0          0  \n",
            "2        0          0  \n",
            "3        0          0  \n",
            "4        0          0  \n"
          ]
        }
      ]
    },
    {
      "cell_type": "code",
      "source": [
        "# Verificar si las columnas 'parking' y 'wifi' existen en el DataFrame X\n",
        "if 'parking' in X.columns and 'wifi' in X.columns:\n",
        "    # Convertir las columnas 'parking' y 'wifi' en variables dummy\n",
        "    X = pd.get_dummies(X, columns=['parking', 'wifi'])\n",
        "else:\n",
        "    print(\"Las columnas 'parking' y/o 'wifi' no están presentes en el DataFrame X.\")"
      ],
      "metadata": {
        "colab": {
          "base_uri": "https://localhost:8080/"
        },
        "id": "ItQ6ktU_ukO3",
        "executionInfo": {
          "status": "ok",
          "timestamp": 1710466213568,
          "user_tz": 180,
          "elapsed": 1069,
          "user": {
            "displayName": "",
            "userId": ""
          }
        },
        "outputId": "980d4665-2fe1-4a3d-b929-7f18c4a943ca"
      },
      "execution_count": 114,
      "outputs": [
        {
          "output_type": "stream",
          "name": "stdout",
          "text": [
            "Las columnas 'parking' y/o 'wifi' no están presentes en el DataFrame X.\n"
          ]
        }
      ]
    },
    {
      "cell_type": "code",
      "source": [
        "# Convertir las columnas 'parking' y 'wifi' en variables dummy si existen en df_merged\n",
        "if 'parking' in df_merged.columns and 'wifi' in df_merged.columns:\n",
        "    # Convertir las columnas 'parking' y 'wifi' en variables dummy\n",
        "    df_merged = pd.get_dummies(df_merged, columns=['parking', 'wifi'])\n",
        "\n",
        "    # Eliminar los valores duplicados después de convertir las columnas en variables dummy\n",
        "    df_merged.drop_duplicates(inplace=True)\n",
        "\n",
        "    # Verificar si las columnas 'parking' y 'wifi' existen en el DataFrame df_merged después de la eliminación de duplicados\n",
        "    if 'parking' in df_merged.columns and 'wifi' in df_merged.columns:\n",
        "        # Separar las variables predictoras (X) y la variable objetivo (y)\n",
        "        X = df_merged.drop(columns=['business_id', 'stars_y', 'pos', 'neg', 'neu', 'successful'])\n",
        "        y = df_merged['successful']\n",
        "    else:\n",
        "        print(\"Las columnas 'parking' y/o 'wifi' no están presentes en el DataFrame df_merged después de la eliminación de duplicados.\")\n",
        "else:\n",
        "    print(\"Las columnas 'parking' y/o 'wifi' no están presentes en el DataFrame df_merged.\")"
      ],
      "metadata": {
        "colab": {
          "base_uri": "https://localhost:8080/"
        },
        "id": "bfnDK536vKuV",
        "executionInfo": {
          "status": "ok",
          "timestamp": 1710466318620,
          "user_tz": 180,
          "elapsed": 7,
          "user": {
            "displayName": "",
            "userId": ""
          }
        },
        "outputId": "c2df4863-a273-4025-a956-026a3519353c"
      },
      "execution_count": 115,
      "outputs": [
        {
          "output_type": "stream",
          "name": "stdout",
          "text": [
            "Las columnas 'parking' y/o 'wifi' no están presentes en el DataFrame df_merged después de la eliminación de duplicados.\n"
          ]
        }
      ]
    },
    {
      "cell_type": "code",
      "source": [
        "import bigframes.pandas as bf\n",
        "from sklearn.impute import SimpleImputer\n",
        "from sklearn.linear_model import LogisticRegression\n",
        "import pandas as pd\n",
        "\n",
        "# Configurar opciones de BigQuery\n",
        "bf.options.bigquery.location = \"us-central1\"\n",
        "bf.options.bigquery.project = \"eminent-cycle-415715\"\n",
        "\n",
        "# Cargar los datos de la tabla 'business'\n",
        "df_business = bf.read_gbq(\"eminent-cycle-415715.prueba_ai_ML.business\")\n",
        "\n",
        "# Seleccionar las columnas relevantes\n",
        "relevant_columns_business = ['business_id', 'stars', 'review_count', 'price', 'parking', 'wifi']\n",
        "df_business_filtered = df_business[relevant_columns_business]\n",
        "\n",
        "# Convertir DataFrames de bigframes a DataFrames de Pandas\n",
        "df_business_pd = df_business_filtered.to_pandas()\n",
        "\n",
        "# Reemplazar valores 'sin datos' por NaN\n",
        "df_business_pd.replace('sin datos', pd.NA, inplace=True)\n",
        "\n",
        "# Reemplazar valores NA por 0 en columnas numéricas\n",
        "numeric_columns = ['stars', 'review_count', 'price']\n",
        "df_business_pd[numeric_columns] = df_business_pd[numeric_columns].fillna(0)\n",
        "\n",
        "# Cargar los datos de la tabla 'review'\n",
        "df_review = bf.read_gbq(\"eminent-cycle-415715.prueba_ai_ML.review\")\n",
        "\n",
        "# Seleccionar las columnas relevantes\n",
        "relevant_columns_review = ['business_id', 'stars', 'pos', 'neg', 'neu']\n",
        "df_review_filtered = df_review[relevant_columns_review]\n",
        "\n",
        "# Convertir DataFrames de bigframes a DataFrames de Pandas\n",
        "df_review_pd = df_review_filtered.to_pandas()\n",
        "\n",
        "# Fusionar los DataFrames de Pandas en función de 'business_id'\n",
        "df_merged = pd.merge(df_business_pd, df_review_pd, on='business_id', how='inner')\n",
        "\n",
        "# Definir la variable objetivo 'successful'\n",
        "df_merged['successful'] = (df_merged['stars_x'] >= 4) & (df_merged['review_count'] >= 100)\n",
        "\n",
        "# Definir el modelo de regresión logística\n",
        "logistic_regression_model = LogisticRegression(max_iter=1000)\n",
        "\n",
        "# Separar las variables predictoras (X) y la variable objetivo (y)\n",
        "X = df_merged.drop(columns=['business_id', 'stars_y', 'pos', 'neg', 'neu', 'successful', 'parking', 'wifi'])\n",
        "y = df_merged['successful']\n",
        "\n",
        "# Entrenar el modelo de regresión logística\n",
        "logistic_regression_model.fit(X, y)\n",
        "\n",
        "# Definir la función predict_success que toma un business_id como entrada y devuelve la predicción de éxito del negocio\n",
        "def predict_success(business_id):\n",
        "    # Obtener los datos del negocio utilizando el business_id proporcionado\n",
        "    business_data = df_merged[df_merged['business_id'] == business_id]\n",
        "\n",
        "    # Verificar si el business_id existe en el DataFrame\n",
        "    if business_data.empty:\n",
        "        return \"El negocio con el ID proporcionado no se encuentra en la base de datos.\"\n",
        "\n",
        "    # Realizar la predicción utilizando el modelo entrenado\n",
        "    prediction = logistic_regression_model.predict(business_data.drop(columns=['business_id', 'stars_y', 'pos', 'neg', 'neu', 'successful', 'parking', 'wifi']))\n",
        "\n",
        "    # Convertir la predicción a un mensaje descriptivo\n",
        "    if 0 in prediction:\n",
        "        return \"El negocio no será exitoso.\"\n",
        "    else:\n",
        "        return \"El negocio será exitoso.\"\n",
        "\n",
        "# Ejemplo de uso de la función predict_success con el business_id proporcionado\n",
        "business_id_input = input(\"Ingresa el ID del negocio: \")\n",
        "prediction = predict_success(business_id_input)\n",
        "print(\"Predicción de éxito del negocio:\", prediction)"
      ],
      "metadata": {
        "colab": {
          "base_uri": "https://localhost:8080/",
          "height": 86
        },
        "id": "UOg_CiZtrcnI",
        "executionInfo": {
          "status": "ok",
          "timestamp": 1710524431231,
          "user_tz": 180,
          "elapsed": 22214,
          "user": {
            "displayName": "",
            "userId": ""
          }
        },
        "outputId": "f7e97cf1-3448-459a-b3f8-20c3c29c0cc6"
      },
      "execution_count": 2,
      "outputs": [
        {
          "output_type": "display_data",
          "data": {
            "text/plain": [
              "<IPython.core.display.HTML object>"
            ],
            "text/html": [
              "Query job 50a67744-0c26-44a3-a241-31a5c9e371cf is DONE. 6.5 MB processed. <a target=\"_blank\" href=\"https://console.cloud.google.com/bigquery?project=eminent-cycle-415715&j=bq:us-central1:50a67744-0c26-44a3-a241-31a5c9e371cf&page=queryresults\">Open Job</a>"
            ]
          },
          "metadata": {}
        },
        {
          "output_type": "display_data",
          "data": {
            "text/plain": [
              "<IPython.core.display.HTML object>"
            ],
            "text/html": [
              "Query job 2a3df32c-1abb-448d-b650-af8220eb7e5d is DONE. 172.1 MB processed. <a target=\"_blank\" href=\"https://console.cloud.google.com/bigquery?project=eminent-cycle-415715&j=bq:us-central1:2a3df32c-1abb-448d-b650-af8220eb7e5d&page=queryresults\">Open Job</a>"
            ]
          },
          "metadata": {}
        },
        {
          "output_type": "stream",
          "name": "stdout",
          "text": [
            "Ingresa el ID del negocio: 9EoNx6yHsmiCe43XscJzDA\n",
            "Predicción de éxito del negocio: El negocio será exitoso.\n"
          ]
        }
      ]
    },
    {
      "cell_type": "code",
      "source": [
        "import pandas as pd\n",
        "import numpy as np\n",
        "from sklearn.impute import SimpleImputer\n",
        "from sklearn.linear_model import LogisticRegression\n",
        "\n",
        "# Función para predecir el éxito de un negocio\n",
        "def predict_success(business_ids):\n",
        "    # Verificar si la lista de IDs de negocios está vacía\n",
        "    if len(business_ids) == 0:\n",
        "        return [], []\n",
        "\n",
        "    # Crear un DataFrame para almacenar las predicciones exitosas y no exitosas\n",
        "    successful_businesses = []\n",
        "    unsuccessful_businesses = []\n",
        "\n",
        "    # Iterar sobre los IDs de negocios y realizar predicciones\n",
        "    for business_id in business_ids:\n",
        "        # Obtener los datos del negocio utilizando el business_id proporcionado\n",
        "        business_data = df_merged[df_merged['business_id'] == business_id]\n",
        "\n",
        "        # Verificar si el business_id existe en el DataFrame\n",
        "        if not business_data.empty:\n",
        "            # Eliminar las columnas 'parking' y 'wifi' del DataFrame X\n",
        "            X_pred = business_data.drop(columns=['business_id', 'stars_y', 'pos', 'neg', 'neu', 'successful', 'parking', 'wifi'])\n",
        "            # Realizar la predicción utilizando el modelo entrenado\n",
        "            prediction = logistic_regression_model.predict(X_pred)\n",
        "            # Agregar el business_id a la lista correspondiente según la predicción\n",
        "            if prediction.any() == 1:\n",
        "                successful_businesses.append(business_id)\n",
        "            else:\n",
        "                unsuccessful_businesses.append(business_id)\n",
        "\n",
        "    return successful_businesses, unsuccessful_businesses\n",
        "\n",
        "# Obtener 10 business IDs aleatorios del DataFrame\n",
        "random_business_ids = df_merged['business_id'].sample(n=10, random_state=42).tolist()\n",
        "\n",
        "# Ejecutar la función predict_success con los IDs de negocios aleatorios\n",
        "successful_businesses, unsuccessful_businesses = predict_success(random_business_ids)\n",
        "\n",
        "print(\"Negocios exitosos:\", successful_businesses)\n",
        "print(\"Negocios no exitosos:\", unsuccessful_businesses)"
      ],
      "metadata": {
        "colab": {
          "base_uri": "https://localhost:8080/"
        },
        "id": "ledlEa4Ex6dS",
        "executionInfo": {
          "status": "ok",
          "timestamp": 1710524459287,
          "user_tz": 180,
          "elapsed": 1293,
          "user": {
            "displayName": "",
            "userId": ""
          }
        },
        "outputId": "cecd2a76-6dc6-4f01-972b-3f0f84f63994"
      },
      "execution_count": 5,
      "outputs": [
        {
          "output_type": "stream",
          "name": "stdout",
          "text": [
            "Negocios exitosos: ['c_MsK_ra1MB1Q9KvZgNwww', '9EoNx6yHsmiCe43XscJzDA', 'n5i09tgSuzv9ZeIN9Qe5oQ', 'GBaQ9lWAlHhPIaO-XfQ4tw', 'pKONQc8eYlnF0L54YpJdQQ']\n",
            "Negocios no exitosos: ['V1gD0xHd6J_15hVN1EGvlA', '292kNklhFCqx2te2UE0OrA', 'j6PM9ytgXF5uEKN9QjetmQ', '-jkc-0YYvwkBaNnNyiUHNg', 'A6mvg7BufgYX-ghyULRScg']\n"
          ]
        }
      ]
    }
  ]
}