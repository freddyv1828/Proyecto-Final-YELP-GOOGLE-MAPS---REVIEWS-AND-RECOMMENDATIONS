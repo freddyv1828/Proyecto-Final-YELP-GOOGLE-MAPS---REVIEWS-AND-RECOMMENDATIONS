{
 "cells": [
  {
   "cell_type": "code",
   "execution_count": 1,
   "metadata": {},
   "outputs": [],
   "source": [
    "import pandas as pd\n",
    "import numpy as np\n",
    "import seaborn as sns\n",
    "import matplotlib.pyplot as plt"
   ]
  },
  {
   "cell_type": "code",
   "execution_count": 2,
   "metadata": {},
   "outputs": [],
   "source": [
    "ruta = '../DATASETS/YELP/user_clean.csv'"
   ]
  },
  {
   "cell_type": "code",
   "execution_count": 3,
   "metadata": {},
   "outputs": [],
   "source": [
    "# abrir archivo\n",
    "df_user = pd.read_csv(ruta)\n",
    "df_user"
   ]
  },
  {
   "cell_type": "code",
   "execution_count": null,
   "metadata": {},
   "outputs": [],
   "source": [
    "import pandas as pd\n",
    "\n",
    "# Función para calcular el KPI trimestral de un negocio\n",
    "def calcular_kpi_engagement(business_id, df):\n",
    "    # Filtrar datos por negocio\n",
    "    business_data = df[df[\"name\"] == business_id]\n",
    "\n",
    "    # Convertir la columna 'yelping_since' a datetime\n",
    "    business_data[\"yelping_since\"] = pd.to_datetime(business_data[\"yelping_since\"])\n",
    "\n",
    "    # Extraer el trimestre del año\n",
    "    business_data[\"trimestre\"] = business_data[\"yelping_since\"].dt.quarter\n",
    "\n",
    "    # Agrupar por trimestre y calcular el KPI\n",
    "    kpi_por_trimestre = (\n",
    "        business_data.groupby(\"trimestre\")\n",
    "        .agg(\n",
    "            total_resenas=(\"review_count\", \"sum\"),\n",
    "            votos_interaccion=(\"useful\", \"sum\") + (\"funny\", \"sum\") + (\"cool\", \"sum\"),\n",
    "        )\n",
    "        .reset_index()\n",
    "    )\n",
    "\n",
    "    # Calcular el KPI trimestral\n",
    "    kpi_por_trimestre[\"kpi\"] = (\n",
    "        kpi_por_trimestre[\"votos_interaccion\"] / kpi_por_trimestre[\"total_resenas\"]\n",
    "    )\n",
    "\n",
    "    return kpi_por_trimestre\n",
    "\n",
    "# Ejemplo de uso\n",
    "# Suponiendo que el nombre de la columna con el ID del negocio es \"name\"\n",
    "kpi_data = calcular_kpi_engagement(\"Negocios A\", df)\n",
    "\n",
    "# Imprimir los resultados trimestrales\n",
    "print(kpi_data)\n"
   ]
  }
 ],
 "metadata": {
  "kernelspec": {
   "display_name": "Python 3",
   "language": "python",
   "name": "python3"
  },
  "language_info": {
   "codemirror_mode": {
    "name": "ipython",
    "version": 3
   },
   "file_extension": ".py",
   "mimetype": "text/x-python",
   "name": "python",
   "nbconvert_exporter": "python",
   "pygments_lexer": "ipython3",
   "version": "3.11.8"
  }
 },
 "nbformat": 4,
 "nbformat_minor": 2
}
