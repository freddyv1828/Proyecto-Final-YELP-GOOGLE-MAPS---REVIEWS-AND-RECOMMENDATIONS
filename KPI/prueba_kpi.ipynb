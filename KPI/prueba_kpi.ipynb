{
 "cells": [
  {
   "cell_type": "code",
   "execution_count": 10,
   "metadata": {},
   "outputs": [],
   "source": [
    "import pandas as pd\n",
    "import numpy as np\n",
    "import seaborn as sns\n",
    "import matplotlib.pyplot as plt\n",
    "from vaderSentiment.vaderSentiment import SentimentIntensityAnalyzer\n",
    "from nltk.stem import WordNetLemmatizer\n",
    "import nltk"
   ]
  },
  {
   "cell_type": "code",
   "execution_count": 2,
   "metadata": {},
   "outputs": [],
   "source": [
    "df_reviewa = pd.read_csv('../DATASETS/review_clean.csv')"
   ]
  },
  {
   "cell_type": "code",
   "execution_count": 11,
   "metadata": {},
   "outputs": [
    {
     "name": "stderr",
     "output_type": "stream",
     "text": [
      "[nltk_data] Downloading package stopwords to\n",
      "[nltk_data]     C:\\Users\\Dell\\AppData\\Roaming\\nltk_data...\n",
      "[nltk_data]   Package stopwords is already up-to-date!\n",
      "[nltk_data] Downloading package wordnet to\n",
      "[nltk_data]     C:\\Users\\Dell\\AppData\\Roaming\\nltk_data...\n",
      "[nltk_data]   Package wordnet is already up-to-date!\n"
     ]
    },
    {
     "data": {
      "text/plain": [
       "True"
      ]
     },
     "execution_count": 11,
     "metadata": {},
     "output_type": "execute_result"
    }
   ],
   "source": [
    "\n",
    "nltk.download('stopwords')\n",
    "nltk.download('wordnet')"
   ]
  },
  {
   "cell_type": "code",
   "execution_count": 12,
   "metadata": {},
   "outputs": [],
   "source": [
    "def process_text_and_analyze_sentiment(df, column_name):\n",
    "    \"\"\"Preprocesa el texto en la columna especificada y añade la información de análisis de sentimiento.\n",
    "\n",
    "    Args:\n",
    "        df (pandas.DataFrame): DataFrame que contiene la columna de texto.\n",
    "        column_name (str): Nombre de la columna de texto que se procesará.\n",
    "\n",
    "    Returns:\n",
    "        pandas.DataFrame: DataFrame con columnas adicionales para el texto procesado y el análisis de sentimiento.\n",
    "    \"\"\"\n",
    "\n",
    "    stop_words = stopwords.words('english')\n",
    "    lemmatizer = WordNetLemmatizer()\n",
    "    analyzer = SentimentIntensityAnalyzer()\n",
    "\n",
    "    df[column_name] = df[column_name].str.lower()  # Convertir a minúsculas\n",
    "    df[column_name] = df[column_name].str.replace(\"[^\\w\\s]\", \"\")  # Eliminar puntuación y símbolos\n",
    "\n",
    "    df[column_name] = df[column_name].apply(\n",
    "        lambda x: ' '.join([word for word in x.split() if word not in stop_words])\n",
    "    )  # Eliminar stopwords\n",
    "\n",
    "    df[column_name] = df[column_name].apply(\n",
    "        lambda x: ' '.join([lemmatizer.lemmatize(word) for word in x.split()])\n",
    "    )  # Lematización\n",
    "\n",
    "    df[\"sentiment\"] = df[column_name].apply(analyzer.polarity_scores)  # Análisis de sentimiento\n",
    "\n",
    "    df[\"compound\"] = df[\"sentiment\"].apply(lambda x: x[\"compound\"])\n",
    "    df[\"pos\"] = df[\"sentiment\"].apply(lambda x: x[\"pos\"])\n",
    "    df[\"neg\"] = df[\"sentiment\"].apply(lambda x: x[\"neg\"])\n",
    "    df[\"neu\"] = df[\"sentiment\"].apply(lambda x: x[\"neu\"])\n",
    "\n",
    "    return df"
   ]
  },
  {
   "cell_type": "code",
   "execution_count": 13,
   "metadata": {},
   "outputs": [],
   "source": [
    "df_sentiment = process_text_and_analyze_sentiment(df_reviewa, 'text')"
   ]
  }
 ],
 "metadata": {
  "kernelspec": {
   "display_name": "Python 3",
   "language": "python",
   "name": "python3"
  },
  "language_info": {
   "codemirror_mode": {
    "name": "ipython",
    "version": 3
   },
   "file_extension": ".py",
   "mimetype": "text/x-python",
   "name": "python",
   "nbconvert_exporter": "python",
   "pygments_lexer": "ipython3",
   "version": "3.11.8"
  }
 },
 "nbformat": 4,
 "nbformat_minor": 2
}
