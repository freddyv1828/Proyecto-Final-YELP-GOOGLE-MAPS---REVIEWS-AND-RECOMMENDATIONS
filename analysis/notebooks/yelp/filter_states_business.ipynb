{
 "cells": [
  {
   "cell_type": "code",
   "execution_count": 62,
   "metadata": {},
   "outputs": [],
   "source": [
    "import pandas as pd\n",
    "from google.cloud import storage\n",
    "from google.oauth2 import service_account\n",
    "import io\n",
    "import importlib\n",
    "\n",
    "import utils as ut"
   ]
  },
  {
   "cell_type": "code",
   "execution_count": null,
   "metadata": {},
   "outputs": [],
   "source": [
    "importlib.reload(ut)"
   ]
  },
  {
   "cell_type": "code",
   "execution_count": 63,
   "metadata": {},
   "outputs": [],
   "source": [
    "# Descargar los datos del blob y cargarlos en un DataFrame\n",
    "bucket = ut.set_config\n",
    "\n",
    "original_blob_path = \"webapp/business_reduced.csv\"\n",
    "original_blob = bucket.blob(original_blob_path)\n",
    "data = original_blob.download_as_bytes()\n",
    "\n",
    "# Crear el DataFrame\n",
    "df_bus = pd.read_csv(io.BytesIO(data))"
   ]
  },
  {
   "cell_type": "code",
   "execution_count": 64,
   "metadata": {},
   "outputs": [
    {
     "name": "stdout",
     "output_type": "stream",
     "text": [
      "<class 'pandas.core.frame.DataFrame'>\n",
      "RangeIndex: 2000 entries, 0 to 1999\n",
      "Data columns (total 28 columns):\n",
      " #   Column          Non-Null Count  Dtype  \n",
      "---  ------          --------------  -----  \n",
      " 0   business_id     2000 non-null   object \n",
      " 1   name            2000 non-null   object \n",
      " 2   address         1925 non-null   object \n",
      " 3   city            2000 non-null   object \n",
      " 4   state           2000 non-null   object \n",
      " 5   postal_code     2000 non-null   object \n",
      " 6   latitude        2000 non-null   float64\n",
      " 7   longitude       2000 non-null   float64\n",
      " 8   stars           2000 non-null   float64\n",
      " 9   review_count    2000 non-null   int64  \n",
      " 10  is_open         2000 non-null   int64  \n",
      " 11  attributes      1792 non-null   object \n",
      " 12  categories      2000 non-null   object \n",
      " 13  hours           1687 non-null   object \n",
      " 14  business_id.1   0 non-null      float64\n",
      " 15  name.1          0 non-null      float64\n",
      " 16  address.1       0 non-null      float64\n",
      " 17  city.1          0 non-null      float64\n",
      " 18  state.1         0 non-null      float64\n",
      " 19  postal_code.1   0 non-null      float64\n",
      " 20  latitude.1      0 non-null      float64\n",
      " 21  longitude.1     0 non-null      float64\n",
      " 22  stars.1         0 non-null      float64\n",
      " 23  review_count.1  0 non-null      float64\n",
      " 24  is_open.1       0 non-null      float64\n",
      " 25  attributes.1    0 non-null      float64\n",
      " 26  categories.1    0 non-null      float64\n",
      " 27  hours.1         0 non-null      float64\n",
      "dtypes: float64(17), int64(2), object(9)\n",
      "memory usage: 437.6+ KB\n",
      "None\n",
      "              business_id                                       name  \\\n",
      "0  ezh8ZxOKYVK9PYPHZNtEkQ                  Bistro At Maison De Ville   \n",
      "1  isE7wQG4qxxm9mynzeBARQ  Goodwill Thrift Store and Donation Center   \n",
      "2  PChYWaFQSXA-ZWkGwnLZvw                           Chef Jean Pierre   \n",
      "3  1NQ2tjNj3qQt1sXXSGSsiA                   Members Only Barber Shop   \n",
      "4  EDm3KWvGdERKcr3e2CPe1w                    Wild Garlic Pizza & Pub   \n",
      "\n",
      "                 address           city state postal_code   latitude  \\\n",
      "0        733 Toulouse St    New Orleans    NV       70130  29.957825   \n",
      "1  10240 E Golf Links Rd         Tucson    PA       85730  32.190210   \n",
      "2      117 S Sycamore St        Newtown    FL       18940  40.227200   \n",
      "3          2005 State St  Santa Barbara    NV       93101  34.430900   \n",
      "4      670 Mount Rose St           Reno    TN       89509  39.509022   \n",
      "\n",
      "    longitude  stars  review_count  ...  state.1 postal_code.1 latitude.1  \\\n",
      "0  -90.065984    4.0            11  ...      NaN           NaN        NaN   \n",
      "1 -110.773604    2.5            10  ...      NaN           NaN        NaN   \n",
      "2  -74.938643    4.0            18  ...      NaN           NaN        NaN   \n",
      "3 -119.715001    4.0             9  ...      NaN           NaN        NaN   \n",
      "4 -119.814860    4.0           348  ...      NaN           NaN        NaN   \n",
      "\n",
      "  longitude.1  stars.1  review_count.1  is_open.1  attributes.1  categories.1  \\\n",
      "0         NaN      NaN             NaN        NaN           NaN           NaN   \n",
      "1         NaN      NaN             NaN        NaN           NaN           NaN   \n",
      "2         NaN      NaN             NaN        NaN           NaN           NaN   \n",
      "3         NaN      NaN             NaN        NaN           NaN           NaN   \n",
      "4         NaN      NaN             NaN        NaN           NaN           NaN   \n",
      "\n",
      "   hours.1  \n",
      "0      NaN  \n",
      "1      NaN  \n",
      "2      NaN  \n",
      "3      NaN  \n",
      "4      NaN  \n",
      "\n",
      "[5 rows x 28 columns]\n"
     ]
    }
   ],
   "source": [
    "# Imprimir información sobre el DataFrame después de aplicar los filtros\n",
    "print(df_bus.info())\n",
    "\n",
    "# Imprimir las primeras filas del DataFrame después de aplicar los filtros\n",
    "print(df_bus.head())"
   ]
  },
  {
   "cell_type": "code",
   "execution_count": 65,
   "metadata": {},
   "outputs": [],
   "source": [
    "#Filtrar el DataFrame para obtener solo las columnas que necesitamos\n",
    "df_bus = df_bus.iloc[:, :14]"
   ]
  },
  {
   "cell_type": "code",
   "execution_count": 66,
   "metadata": {},
   "outputs": [],
   "source": [
    "#Filtrar los establecimientos por estados específicos\n",
    "df_bus = df_bus[(df_bus['state'] == 'FL') | (df_bus['state'] == 'CA') | (df_bus['state'] == 'NV')]"
   ]
  },
  {
   "cell_type": "code",
   "execution_count": 67,
   "metadata": {},
   "outputs": [],
   "source": [
    "#Guardar los distintos establecimientos de los estados ya filtrados\n",
    "business = df_bus['business_id']"
   ]
  },
  {
   "cell_type": "code",
   "execution_count": 68,
   "metadata": {},
   "outputs": [
    {
     "name": "stdout",
     "output_type": "stream",
     "text": [
      "El DF se guardó correctamente en processed/business/business_filtered_by_state.csv\n"
     ]
    }
   ],
   "source": [
    "#Exportar / Guardar el DataFrame filtrado ya definito / procesado\n",
    "processed_blob_path = \"processed/business/business_filtered_by_state.csv\"\n",
    "processed_blob = bucket.blob(processed_blob_path)\n",
    "csv_data = df_bus.to_csv(index=False).encode('utf-8')\n",
    "\n",
    "processed_blob.upload_from_string(csv_data, content_type='text/csv')\n",
    "\n",
    "print(f\"El DF se guardó correctamente en {processed_blob_path}\")"
   ]
  },
  {
   "cell_type": "code",
   "execution_count": 69,
   "metadata": {},
   "outputs": [],
   "source": [
    "#Eliminar el DataFrame para ahorrar recursos en la memoria\n",
    "del df_bus"
   ]
  }
 ],
 "metadata": {
  "kernelspec": {
   "display_name": "Python 3",
   "language": "python",
   "name": "python3"
  },
  "language_info": {
   "codemirror_mode": {
    "name": "ipython",
    "version": 3
   },
   "file_extension": ".py",
   "mimetype": "text/x-python",
   "name": "python",
   "nbconvert_exporter": "python",
   "pygments_lexer": "ipython3",
   "version": "3.12.1"
  }
 },
 "nbformat": 4,
 "nbformat_minor": 2
}
