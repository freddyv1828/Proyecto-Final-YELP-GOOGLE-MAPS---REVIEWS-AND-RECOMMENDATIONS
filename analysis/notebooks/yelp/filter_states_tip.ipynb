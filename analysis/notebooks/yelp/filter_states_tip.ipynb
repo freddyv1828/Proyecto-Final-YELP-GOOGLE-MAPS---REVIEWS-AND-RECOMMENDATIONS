{
 "cells": [
  {
   "cell_type": "code",
   "execution_count": null,
   "metadata": {},
   "outputs": [],
   "source": [
    "import pandas as pd\n",
    "from google.cloud import storage\n",
    "from google.oauth2 import service_account\n",
    "import io\n",
    "import importlib\n",
    "\n",
    "import utils as ut"
   ]
  },
  {
   "cell_type": "code",
   "execution_count": null,
   "metadata": {},
   "outputs": [],
   "source": [
    "importlib.reload(ut)"
   ]
  },
  {
   "cell_type": "code",
   "execution_count": null,
   "metadata": {},
   "outputs": [],
   "source": [
    "# Descargar los datos del blob y cargarlos en un DataFrame\n",
    "bucket = ut.set_config\n",
    "\n",
    "original_blob_path = \"webapp/business_reduced.csv\" # MODIFICAR SEGUN CORRESPONDA\n",
    "original_blob = bucket.blob(original_blob_path)\n",
    "data = original_blob.download_as_bytes()\n",
    "\n",
    "# Crear el DataFrame\n",
    "df_tip = pd.read_csv(io.BytesIO(data)) # MODIFICAR SEGUN CORRESPONDA"
   ]
  },
  {
   "cell_type": "code",
   "execution_count": null,
   "metadata": {},
   "outputs": [],
   "source": [
    "df_tip.shape()"
   ]
  },
  {
   "cell_type": "code",
   "execution_count": null,
   "metadata": {},
   "outputs": [],
   "source": [
    "df_tip.info()"
   ]
  },
  {
   "cell_type": "code",
   "execution_count": null,
   "metadata": {},
   "outputs": [],
   "source": [
    "df_tip = df_tip[df_tip['business_id'].isin(business)]# generar un archivo que mantenga los negocios filtrados y consumirlo. Actualizarlo cada vez que se actualiza bussiness"
   ]
  },
  {
   "cell_type": "code",
   "execution_count": null,
   "metadata": {},
   "outputs": [],
   "source": [
    "df_tip.shape()"
   ]
  },
  {
   "cell_type": "code",
   "execution_count": null,
   "metadata": {},
   "outputs": [],
   "source": [
    "#Exportar / Guardar el DataFrame filtrado ya definito / procesado\n",
    "processed_blob_path = \"processed/checkin/tip_filtered_by_state.csv\"\n",
    "processed_blob = bucket.blob(processed_blob_path)\n",
    "csv_data = df_tip.to_csv(index=False).encode('utf-8')\n",
    "\n",
    "processed_blob.upload_from_string(csv_data, content_type='text/csv')\n",
    "\n",
    "print(f\"El DF se guardó correctamente en {processed_blob_path}\")"
   ]
  }
 ],
 "metadata": {
  "language_info": {
   "name": "python"
  }
 },
 "nbformat": 4,
 "nbformat_minor": 2
}
