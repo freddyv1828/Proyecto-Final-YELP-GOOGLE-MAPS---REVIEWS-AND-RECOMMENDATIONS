{
 "cells": [
  {
   "cell_type": "code",
   "execution_count": 2,
   "metadata": {},
   "outputs": [],
   "source": [
    "import pandas as pd"
   ]
  },
  {
   "cell_type": "code",
   "execution_count": 3,
   "metadata": {},
   "outputs": [],
   "source": [
    "from tabulate import tabulate\n",
    "\n",
    "def informacion_dataframe(df):\n",
    "    # Lista para almacenar información por columna\n",
    "    info_columnas = []\n",
    "    \n",
    "    # Iterar sobre cada columna\n",
    "    for columna in df.columns:\n",
    "        # Tipo de dato de la columna\n",
    "        tipo_dato = df[columna].dtype\n",
    "        \n",
    "        # Contar valores nulos\n",
    "        nulos = df[columna].isnull().sum()\n",
    "        # Calcular porcentaje de nulos\n",
    "        porcentaje_nulos = (nulos / len(df)) * 100\n",
    "        \n",
    "        # Contar valores duplicados\n",
    "        duplicados = df.duplicated(subset=columna).sum()\n",
    "        # Calcular porcentaje de duplicados\n",
    "        porcentaje_duplicados = (duplicados / len(df)) * 100\n",
    "        \n",
    "        # Cantidad de filas de esa columna\n",
    "        cantidad_filas = len(df[columna])\n",
    "        \n",
    "        # Agregar información a la lista\n",
    "        info_columnas.append([columna, tipo_dato, cantidad_filas, nulos, porcentaje_nulos, duplicados, porcentaje_duplicados])\n",
    "    \n",
    "    # Crear DataFrame con la información\n",
    "    df_info = pd.DataFrame(info_columnas, columns=[\"Columna\", \"Tipo de Dato\", \"Cantidad de Filas\", \"Nulos\", \"% Nulos\", \"Duplicados\", \"% Duplicados\"])\n",
    "    \n",
    "    # Imprimir la tabla\n",
    "    print(tabulate(df_info, headers='keys', tablefmt='fancy_grid', showindex=False))\n"
   ]
  },
  {
   "cell_type": "markdown",
   "metadata": {},
   "source": [
    "#### Se crean los dataframes a partir de los datasets"
   ]
  },
  {
   "cell_type": "code",
   "execution_count": 7,
   "metadata": {},
   "outputs": [],
   "source": [
    "# Especifica la ruta donde se encuentran los archivos\n",
    "ruta = \"Data/Yelp/\"\n"
   ]
  },
  {
   "cell_type": "markdown",
   "metadata": {},
   "source": [
    "### Vista preliminar de dataset bussiness"
   ]
  },
  {
   "cell_type": "code",
   "execution_count": 13,
   "metadata": {},
   "outputs": [],
   "source": [
    "# Cargar el dataframe de business\n",
    "df_business = pd.read_csv(ruta + \"business_filtered_by_state.csv\")"
   ]
  },
  {
   "cell_type": "code",
   "execution_count": 11,
   "metadata": {},
   "outputs": [],
   "source": [
    "## FORMA AUXILIAR DE ELIMINAR EL INDEX\n",
    "# Eliminar la primera columna\n",
    "df_business_sin_primera_columna = df_business.iloc[:, 1:]\n",
    "\n",
    "# Guardar el DataFrame sin la primera columna en un nuevo archivo CSV\n",
    "ruta_nueva = ruta + \"business_filtered_by_state.csv\"\n",
    "df_business_sin_primera_columna.to_csv(ruta_nueva, index=False)"
   ]
  },
  {
   "cell_type": "code",
   "execution_count": 23,
   "metadata": {},
   "outputs": [
    {
     "data": {
      "text/plain": [
       "(39247, 14)"
      ]
     },
     "execution_count": 23,
     "metadata": {},
     "output_type": "execute_result"
    }
   ],
   "source": [
    "df_business.shape"
   ]
  },
  {
   "cell_type": "code",
   "execution_count": 24,
   "metadata": {},
   "outputs": [
    {
     "data": {
      "text/plain": [
       "Index(['business_id', 'name', 'address', 'city', 'state', 'postal_code',\n",
       "       'latitude', 'longitude', 'stars', 'review_count', 'is_open',\n",
       "       'attributes', 'categories', 'hours'],\n",
       "      dtype='object')"
      ]
     },
     "execution_count": 24,
     "metadata": {},
     "output_type": "execute_result"
    }
   ],
   "source": [
    "df_business.columns"
   ]
  },
  {
   "cell_type": "code",
   "execution_count": 14,
   "metadata": {},
   "outputs": [
    {
     "name": "stdout",
     "output_type": "stream",
     "text": [
      "╒══════════════╤════════════════╤═════════════════════╤═════════╤════════════╤══════════════╤════════════════╕\n",
      "│ Columna      │ Tipo de Dato   │   Cantidad de Filas │   Nulos │    % Nulos │   Duplicados │   % Duplicados │\n",
      "╞══════════════╪════════════════╪═════════════════════╪═════════╪════════════╪══════════════╪════════════════╡\n",
      "│ business_id  │ object         │               39247 │       0 │  0         │            0 │        0       │\n",
      "├──────────────┼────────────────┼─────────────────────┼─────────┼────────────┼──────────────┼────────────────┤\n",
      "│ name         │ object         │               39247 │       0 │  0         │         6940 │       17.6829  │\n",
      "├──────────────┼────────────────┼─────────────────────┼─────────┼────────────┼──────────────┼────────────────┤\n",
      "│ address      │ object         │               39247 │    1341 │  3.41682   │         3550 │        9.04528 │\n",
      "├──────────────┼────────────────┼─────────────────────┼─────────┼────────────┼──────────────┼────────────────┤\n",
      "│ city         │ object         │               39247 │       0 │  0         │        38389 │       97.8138  │\n",
      "├──────────────┼────────────────┼─────────────────────┼─────────┼────────────┼──────────────┼────────────────┤\n",
      "│ state        │ object         │               39247 │       0 │  0         │        39244 │       99.9924  │\n",
      "├──────────────┼────────────────┼─────────────────────┼─────────┼────────────┼──────────────┼────────────────┤\n",
      "│ postal_code  │ object         │               39247 │      17 │  0.0433154 │        37394 │       95.2786  │\n",
      "├──────────────┼────────────────┼─────────────────────┼─────────┼────────────┼──────────────┼────────────────┤\n",
      "│ latitude     │ float64        │               39247 │       0 │  0         │         1701 │        4.33409 │\n",
      "├──────────────┼────────────────┼─────────────────────┼─────────┼────────────┼──────────────┼────────────────┤\n",
      "│ longitude    │ float64        │               39247 │       0 │  0         │         2107 │        5.36856 │\n",
      "├──────────────┼────────────────┼─────────────────────┼─────────┼────────────┼──────────────┼────────────────┤\n",
      "│ stars        │ float64        │               39247 │       0 │  0         │        39238 │       99.9771  │\n",
      "├──────────────┼────────────────┼─────────────────────┼─────────┼────────────┼──────────────┼────────────────┤\n",
      "│ review_count │ int64          │               39247 │       0 │  0         │        38494 │       98.0814  │\n",
      "├──────────────┼────────────────┼─────────────────────┼─────────┼────────────┼──────────────┼────────────────┤\n",
      "│ is_open      │ int64          │               39247 │       0 │  0         │        39245 │       99.9949  │\n",
      "├──────────────┼────────────────┼─────────────────────┼─────────┼────────────┼──────────────┼────────────────┤\n",
      "│ attributes   │ object         │               39247 │    3636 │  9.2644    │        14778 │       37.6538  │\n",
      "├──────────────┼────────────────┼─────────────────────┼─────────┼────────────┼──────────────┼────────────────┤\n",
      "│ categories   │ object         │               39247 │      23 │  0.0586032 │        14296 │       36.4257  │\n",
      "├──────────────┼────────────────┼─────────────────────┼─────────┼────────────┼──────────────┼────────────────┤\n",
      "│ hours        │ object         │               39247 │    6144 │ 15.6547    │        22774 │       58.0274  │\n",
      "╘══════════════╧════════════════╧═════════════════════╧═════════╧════════════╧══════════════╧════════════════╛\n"
     ]
    }
   ],
   "source": [
    "informacion_dataframe(df_business)"
   ]
  },
  {
   "cell_type": "markdown",
   "metadata": {},
   "source": [
    "###\n",
    "* Los elementos duplicados, en principio no presentan un problema en la mayoría de las columnas, ya que tiene sentido que haya varios negocios en la misma ciudad o estado al igual que es posible que se repitan categorias, esrellas, horarios, atributos, conteo de reseñas o codigo postal para un mismo negocio. Sin embargo, podemos ver que ocurre en filas con nombres o ubicaciones repetidas."
   ]
  },
  {
   "cell_type": "markdown",
   "metadata": {},
   "source": [
    "#### Revisamos que las duplicaciones en nombres sean efectivamente locales con el mismo nombre ubicados en distintos lugares"
   ]
  },
  {
   "cell_type": "code",
   "execution_count": 21,
   "metadata": {},
   "outputs": [
    {
     "data": {
      "text/html": [
       "<div>\n",
       "<style scoped>\n",
       "    .dataframe tbody tr th:only-of-type {\n",
       "        vertical-align: middle;\n",
       "    }\n",
       "\n",
       "    .dataframe tbody tr th {\n",
       "        vertical-align: top;\n",
       "    }\n",
       "\n",
       "    .dataframe thead th {\n",
       "        text-align: right;\n",
       "    }\n",
       "</style>\n",
       "<table border=\"1\" class=\"dataframe\">\n",
       "  <thead>\n",
       "    <tr style=\"text-align: right;\">\n",
       "      <th></th>\n",
       "      <th>business_id</th>\n",
       "      <th>name</th>\n",
       "      <th>address</th>\n",
       "      <th>city</th>\n",
       "      <th>state</th>\n",
       "      <th>postal_code</th>\n",
       "      <th>latitude</th>\n",
       "      <th>longitude</th>\n",
       "      <th>stars</th>\n",
       "      <th>review_count</th>\n",
       "      <th>is_open</th>\n",
       "      <th>attributes</th>\n",
       "      <th>categories</th>\n",
       "      <th>hours</th>\n",
       "    </tr>\n",
       "  </thead>\n",
       "  <tbody>\n",
       "    <tr>\n",
       "      <th>18404</th>\n",
       "      <td>nsh6p0WVqGB8OhnM6_CKLg</td>\n",
       "      <td>Century 20 El Con and XD</td>\n",
       "      <td>3601 E Broadway</td>\n",
       "      <td>Tucson</td>\n",
       "      <td>FL</td>\n",
       "      <td>85716</td>\n",
       "      <td>32.224841</td>\n",
       "      <td>-110.916351</td>\n",
       "      <td>3.0</td>\n",
       "      <td>19</td>\n",
       "      <td>1</td>\n",
       "      <td>{'GoodForKids': 'True', 'HappyHour': 'False', ...</td>\n",
       "      <td>Arts &amp; Entertainment, Cinema</td>\n",
       "      <td>NaN</td>\n",
       "    </tr>\n",
       "    <tr>\n",
       "      <th>28240</th>\n",
       "      <td>3uLgwr0qeCNMjKenHJwPGQ</td>\n",
       "      <td>Century 20 El Con and XD</td>\n",
       "      <td>3601 E Broadway Blvd</td>\n",
       "      <td>Tucson</td>\n",
       "      <td>FL</td>\n",
       "      <td>85716</td>\n",
       "      <td>32.224841</td>\n",
       "      <td>-110.916351</td>\n",
       "      <td>3.5</td>\n",
       "      <td>72</td>\n",
       "      <td>1</td>\n",
       "      <td>{'GoodForKids': 'True'}</td>\n",
       "      <td>Cinema, Event Planning &amp; Services, Arts &amp; Ente...</td>\n",
       "      <td>NaN</td>\n",
       "    </tr>\n",
       "    <tr>\n",
       "      <th>27153</th>\n",
       "      <td>BcErXCI_VKfkSfpdgzsOYw</td>\n",
       "      <td>Chimney Safe</td>\n",
       "      <td>NaN</td>\n",
       "      <td>Reno</td>\n",
       "      <td>FL</td>\n",
       "      <td>89509</td>\n",
       "      <td>39.495379</td>\n",
       "      <td>-119.823655</td>\n",
       "      <td>4.0</td>\n",
       "      <td>5</td>\n",
       "      <td>1</td>\n",
       "      <td>{'BusinessAcceptsCreditCards': 'True', 'ByAppo...</td>\n",
       "      <td>Home Inspectors, Chimney Sweeps, Home Services</td>\n",
       "      <td>{'Monday': '8:0-18:0', 'Tuesday': '8:0-18:0', ...</td>\n",
       "    </tr>\n",
       "    <tr>\n",
       "      <th>28494</th>\n",
       "      <td>ZwkO9bkvXwbtTJ1DfGFzKg</td>\n",
       "      <td>Chimney Safe</td>\n",
       "      <td>NaN</td>\n",
       "      <td>Reno</td>\n",
       "      <td>FL</td>\n",
       "      <td>89509</td>\n",
       "      <td>39.495379</td>\n",
       "      <td>-119.823655</td>\n",
       "      <td>3.0</td>\n",
       "      <td>6</td>\n",
       "      <td>0</td>\n",
       "      <td>NaN</td>\n",
       "      <td>Chimney Sweeps, Home Services</td>\n",
       "      <td>{'Monday': '8:0-18:0', 'Tuesday': '8:0-18:0', ...</td>\n",
       "    </tr>\n",
       "    <tr>\n",
       "      <th>8606</th>\n",
       "      <td>Mk2184ZyG1PcS1rMFxvrUA</td>\n",
       "      <td>Tap Room On 19th</td>\n",
       "      <td>2400 S 19th St</td>\n",
       "      <td>Philadelphia</td>\n",
       "      <td>NV</td>\n",
       "      <td>19145</td>\n",
       "      <td>39.921596</td>\n",
       "      <td>-75.178679</td>\n",
       "      <td>4.0</td>\n",
       "      <td>16</td>\n",
       "      <td>0</td>\n",
       "      <td>{'RestaurantsGoodForGroups': 'True', 'OutdoorS...</td>\n",
       "      <td>Pubs, Comfort Food, Restaurants, Gastropubs, N...</td>\n",
       "      <td>{'Monday': '11:0-2:0', 'Tuesday': '11:0-2:0', ...</td>\n",
       "    </tr>\n",
       "    <tr>\n",
       "      <th>14530</th>\n",
       "      <td>kL98j83h3QFUoSBBevCHOw</td>\n",
       "      <td>Tap Room On 19th</td>\n",
       "      <td>2400 S 19th St</td>\n",
       "      <td>Philadelphia</td>\n",
       "      <td>FL</td>\n",
       "      <td>19145</td>\n",
       "      <td>39.921596</td>\n",
       "      <td>-75.178679</td>\n",
       "      <td>4.0</td>\n",
       "      <td>183</td>\n",
       "      <td>1</td>\n",
       "      <td>{'HasTV': 'True', 'RestaurantsGoodForGroups': ...</td>\n",
       "      <td>Restaurants, Gastropubs, American (New)</td>\n",
       "      <td>{'Monday': '0:0-0:0', 'Tuesday': '15:0-22:0', ...</td>\n",
       "    </tr>\n",
       "  </tbody>\n",
       "</table>\n",
       "</div>"
      ],
      "text/plain": [
       "                  business_id                      name               address  \\\n",
       "18404  nsh6p0WVqGB8OhnM6_CKLg  Century 20 El Con and XD       3601 E Broadway   \n",
       "28240  3uLgwr0qeCNMjKenHJwPGQ  Century 20 El Con and XD  3601 E Broadway Blvd   \n",
       "27153  BcErXCI_VKfkSfpdgzsOYw              Chimney Safe                   NaN   \n",
       "28494  ZwkO9bkvXwbtTJ1DfGFzKg              Chimney Safe                   NaN   \n",
       "8606   Mk2184ZyG1PcS1rMFxvrUA          Tap Room On 19th        2400 S 19th St   \n",
       "14530  kL98j83h3QFUoSBBevCHOw          Tap Room On 19th        2400 S 19th St   \n",
       "\n",
       "               city state postal_code   latitude   longitude  stars  \\\n",
       "18404        Tucson    FL       85716  32.224841 -110.916351    3.0   \n",
       "28240        Tucson    FL       85716  32.224841 -110.916351    3.5   \n",
       "27153          Reno    FL       89509  39.495379 -119.823655    4.0   \n",
       "28494          Reno    FL       89509  39.495379 -119.823655    3.0   \n",
       "8606   Philadelphia    NV       19145  39.921596  -75.178679    4.0   \n",
       "14530  Philadelphia    FL       19145  39.921596  -75.178679    4.0   \n",
       "\n",
       "       review_count  is_open  \\\n",
       "18404            19        1   \n",
       "28240            72        1   \n",
       "27153             5        1   \n",
       "28494             6        0   \n",
       "8606             16        0   \n",
       "14530           183        1   \n",
       "\n",
       "                                              attributes  \\\n",
       "18404  {'GoodForKids': 'True', 'HappyHour': 'False', ...   \n",
       "28240                            {'GoodForKids': 'True'}   \n",
       "27153  {'BusinessAcceptsCreditCards': 'True', 'ByAppo...   \n",
       "28494                                                NaN   \n",
       "8606   {'RestaurantsGoodForGroups': 'True', 'OutdoorS...   \n",
       "14530  {'HasTV': 'True', 'RestaurantsGoodForGroups': ...   \n",
       "\n",
       "                                              categories  \\\n",
       "18404                       Arts & Entertainment, Cinema   \n",
       "28240  Cinema, Event Planning & Services, Arts & Ente...   \n",
       "27153     Home Inspectors, Chimney Sweeps, Home Services   \n",
       "28494                      Chimney Sweeps, Home Services   \n",
       "8606   Pubs, Comfort Food, Restaurants, Gastropubs, N...   \n",
       "14530            Restaurants, Gastropubs, American (New)   \n",
       "\n",
       "                                                   hours  \n",
       "18404                                                NaN  \n",
       "28240                                                NaN  \n",
       "27153  {'Monday': '8:0-18:0', 'Tuesday': '8:0-18:0', ...  \n",
       "28494  {'Monday': '8:0-18:0', 'Tuesday': '8:0-18:0', ...  \n",
       "8606   {'Monday': '11:0-2:0', 'Tuesday': '11:0-2:0', ...  \n",
       "14530  {'Monday': '0:0-0:0', 'Tuesday': '15:0-22:0', ...  "
      ]
     },
     "execution_count": 21,
     "metadata": {},
     "output_type": "execute_result"
    }
   ],
   "source": [
    "# Identificar filas duplicadas basadas en las columnas \"name\" y \"city\"\n",
    "filas_duplicadas = df_business[df_business.duplicated(subset=[\"name\", \"latitude\", \"longitude\"], keep=False)]\n",
    "\n",
    "# Ordenar el resultado por el nombre y la ciudad para facilitar la comparación\n",
    "filas_duplicadas_ordenadas = filas_duplicadas.sort_values(by=[\"name\", \"city\"])\n",
    "\n",
    "filas_duplicadas_ordenadas"
   ]
  },
  {
   "cell_type": "markdown",
   "metadata": {},
   "source": [
    "Notamos que hay unas pocas filas que parecen referir al mismo restaurante ya que el nombre y su ubicacion (lat y long) es exactamente la misma, a pesar de estar registrados con un id de negocio distinto. Ya que son pocos casos, nos quedaremos con las filas que tengan mayor conteo de reviews asociadas para resolver estos duplicados de manera simple preservando la mayor cantidad de reviews posibles."
   ]
  },
  {
   "cell_type": "code",
   "execution_count": 27,
   "metadata": {},
   "outputs": [],
   "source": [
    "# Ordenar las filas duplicadas por el número de revisiones en orden descendente\n",
    "filas_duplicadas_ordenadas = filas_duplicadas.sort_values(by=\"review_count\", ascending=False)\n",
    "\n",
    "# Identificar las filas a eliminar (todas excepto la primera ocurrencia)\n",
    "filas_a_eliminar = filas_duplicadas_ordenadas.drop_duplicates(subset=[\"name\", \"latitude\", \"longitude\"], keep=\"first\")\n",
    "\n",
    "# Eliminar las filas duplicadas del DataFrame original\n",
    "df_business_sin_duplicados = df_business.drop(filas_a_eliminar.index)\n",
    "\n",
    "df_business = df_business_sin_duplicados"
   ]
  },
  {
   "cell_type": "code",
   "execution_count": 28,
   "metadata": {},
   "outputs": [
    {
     "data": {
      "text/html": [
       "<div>\n",
       "<style scoped>\n",
       "    .dataframe tbody tr th:only-of-type {\n",
       "        vertical-align: middle;\n",
       "    }\n",
       "\n",
       "    .dataframe tbody tr th {\n",
       "        vertical-align: top;\n",
       "    }\n",
       "\n",
       "    .dataframe thead th {\n",
       "        text-align: right;\n",
       "    }\n",
       "</style>\n",
       "<table border=\"1\" class=\"dataframe\">\n",
       "  <thead>\n",
       "    <tr style=\"text-align: right;\">\n",
       "      <th></th>\n",
       "      <th>business_id</th>\n",
       "      <th>name</th>\n",
       "      <th>address</th>\n",
       "      <th>city</th>\n",
       "      <th>state</th>\n",
       "      <th>postal_code</th>\n",
       "      <th>latitude</th>\n",
       "      <th>longitude</th>\n",
       "      <th>stars</th>\n",
       "      <th>review_count</th>\n",
       "      <th>is_open</th>\n",
       "      <th>attributes</th>\n",
       "      <th>categories</th>\n",
       "      <th>hours</th>\n",
       "    </tr>\n",
       "  </thead>\n",
       "  <tbody>\n",
       "  </tbody>\n",
       "</table>\n",
       "</div>"
      ],
      "text/plain": [
       "Empty DataFrame\n",
       "Columns: [business_id, name, address, city, state, postal_code, latitude, longitude, stars, review_count, is_open, attributes, categories, hours]\n",
       "Index: []"
      ]
     },
     "execution_count": 28,
     "metadata": {},
     "output_type": "execute_result"
    }
   ],
   "source": [
    "# Identificar filas duplicadas basadas en las columnas \"name\" y \"city\"\n",
    "filas_duplicadas = df_business[df_business.duplicated(subset=[\"name\", \"latitude\", \"longitude\"], keep=False)]\n",
    "\n",
    "# Ordenar el resultado por el nombre y la ciudad para facilitar la comparación\n",
    "filas_duplicadas_ordenadas = filas_duplicadas.sort_values(by=[\"name\", \"city\"])\n",
    "\n",
    "filas_duplicadas_ordenadas"
   ]
  },
  {
   "cell_type": "markdown",
   "metadata": {},
   "source": [
    "Ahora revisamos que ocurre en filas con latitud y longitud iguales simultaneamente"
   ]
  },
  {
   "cell_type": "code",
   "execution_count": 33,
   "metadata": {},
   "outputs": [
    {
     "data": {
      "text/html": [
       "<div>\n",
       "<style scoped>\n",
       "    .dataframe tbody tr th:only-of-type {\n",
       "        vertical-align: middle;\n",
       "    }\n",
       "\n",
       "    .dataframe tbody tr th {\n",
       "        vertical-align: top;\n",
       "    }\n",
       "\n",
       "    .dataframe thead th {\n",
       "        text-align: right;\n",
       "    }\n",
       "</style>\n",
       "<table border=\"1\" class=\"dataframe\">\n",
       "  <thead>\n",
       "    <tr style=\"text-align: right;\">\n",
       "      <th></th>\n",
       "      <th>business_id</th>\n",
       "      <th>name</th>\n",
       "      <th>address</th>\n",
       "      <th>city</th>\n",
       "      <th>state</th>\n",
       "      <th>postal_code</th>\n",
       "      <th>latitude</th>\n",
       "      <th>longitude</th>\n",
       "      <th>stars</th>\n",
       "      <th>review_count</th>\n",
       "      <th>is_open</th>\n",
       "      <th>attributes</th>\n",
       "      <th>categories</th>\n",
       "      <th>hours</th>\n",
       "    </tr>\n",
       "  </thead>\n",
       "  <tbody>\n",
       "    <tr>\n",
       "      <th>12037</th>\n",
       "      <td>aYrmK2xwh2iIZB4taWNwtg</td>\n",
       "      <td>Sea Worthy Fish + Bar</td>\n",
       "      <td>1110 Pinellas Bayway S</td>\n",
       "      <td>Tierra Verde</td>\n",
       "      <td>FL</td>\n",
       "      <td>33715</td>\n",
       "      <td>27.675726</td>\n",
       "      <td>-82.726385</td>\n",
       "      <td>4.5</td>\n",
       "      <td>58</td>\n",
       "      <td>1</td>\n",
       "      <td>{'Ambience': \"{'touristy': None, 'hipster': No...</td>\n",
       "      <td>Bars, Breakfast &amp; Brunch, Restaurants, Cocktai...</td>\n",
       "      <td>{'Tuesday': '16:30-21:0', 'Wednesday': '16:30-...</td>\n",
       "    </tr>\n",
       "    <tr>\n",
       "      <th>18338</th>\n",
       "      <td>cEAjDyP3Zwdz-c3jU0Oq3w</td>\n",
       "      <td>Tierra Verde Property Management</td>\n",
       "      <td>1110 Pinellas Bayway S</td>\n",
       "      <td>Saint Petersburg</td>\n",
       "      <td>FL</td>\n",
       "      <td>33715</td>\n",
       "      <td>27.675726</td>\n",
       "      <td>-82.726385</td>\n",
       "      <td>1.5</td>\n",
       "      <td>6</td>\n",
       "      <td>1</td>\n",
       "      <td>{'ByAppointmentOnly': 'True', 'BusinessAccepts...</td>\n",
       "      <td>Property Management, Real Estate, Home Services</td>\n",
       "      <td>NaN</td>\n",
       "    </tr>\n",
       "    <tr>\n",
       "      <th>1825</th>\n",
       "      <td>9qccR7IOPYKgjEOOqT8PdQ</td>\n",
       "      <td>Lil Swimmers Aquatics</td>\n",
       "      <td>NaN</td>\n",
       "      <td>Ruskin</td>\n",
       "      <td>NV</td>\n",
       "      <td>33570</td>\n",
       "      <td>27.695851</td>\n",
       "      <td>-82.453611</td>\n",
       "      <td>4.5</td>\n",
       "      <td>7</td>\n",
       "      <td>1</td>\n",
       "      <td>{'GoodForKids': 'True', 'ByAppointmentOnly': '...</td>\n",
       "      <td>Education, Local Services, Specialty Schools, ...</td>\n",
       "      <td>NaN</td>\n",
       "    </tr>\n",
       "    <tr>\n",
       "      <th>33281</th>\n",
       "      <td>hDtwZPO-GFAjrJw2kizgtQ</td>\n",
       "      <td>A Breathe of Fresh Aire</td>\n",
       "      <td>NaN</td>\n",
       "      <td>Ruskin</td>\n",
       "      <td>FL</td>\n",
       "      <td>33570</td>\n",
       "      <td>27.695851</td>\n",
       "      <td>-82.453611</td>\n",
       "      <td>3.5</td>\n",
       "      <td>9</td>\n",
       "      <td>1</td>\n",
       "      <td>{'BusinessAcceptsCreditCards': 'True', 'ByAppo...</td>\n",
       "      <td>Heating &amp; Air Conditioning/HVAC, Local Service...</td>\n",
       "      <td>{'Monday': '0:0-0:0', 'Tuesday': '0:0-0:0', 'W...</td>\n",
       "    </tr>\n",
       "    <tr>\n",
       "      <th>19747</th>\n",
       "      <td>DiJ1u1svwBK8SE59UTAhug</td>\n",
       "      <td>Nava Yoga Studio</td>\n",
       "      <td>5901 Sun Blvd W, Ste 120</td>\n",
       "      <td>St. Petersburg</td>\n",
       "      <td>FL</td>\n",
       "      <td>33715</td>\n",
       "      <td>27.713162</td>\n",
       "      <td>-82.714213</td>\n",
       "      <td>5.0</td>\n",
       "      <td>5</td>\n",
       "      <td>1</td>\n",
       "      <td>{'ByAppointmentOnly': 'False', 'BikeParking': ...</td>\n",
       "      <td>Yoga, Meditation Centers, Active Life, Medical...</td>\n",
       "      <td>{'Monday': '0:0-0:0', 'Tuesday': '6:30-20:30',...</td>\n",
       "    </tr>\n",
       "    <tr>\n",
       "      <th>...</th>\n",
       "      <td>...</td>\n",
       "      <td>...</td>\n",
       "      <td>...</td>\n",
       "      <td>...</td>\n",
       "      <td>...</td>\n",
       "      <td>...</td>\n",
       "      <td>...</td>\n",
       "      <td>...</td>\n",
       "      <td>...</td>\n",
       "      <td>...</td>\n",
       "      <td>...</td>\n",
       "      <td>...</td>\n",
       "      <td>...</td>\n",
       "      <td>...</td>\n",
       "    </tr>\n",
       "    <tr>\n",
       "      <th>31543</th>\n",
       "      <td>tVJCBzthLTqe7FlFv6WLAA</td>\n",
       "      <td>Golden Dumpling Restaurant</td>\n",
       "      <td>10939-101 Street</td>\n",
       "      <td>Edmonton</td>\n",
       "      <td>CA</td>\n",
       "      <td>T5H 2S7</td>\n",
       "      <td>53.555712</td>\n",
       "      <td>-113.493526</td>\n",
       "      <td>3.5</td>\n",
       "      <td>7</td>\n",
       "      <td>1</td>\n",
       "      <td>{'RestaurantsGoodForGroups': 'True', 'GoodForM...</td>\n",
       "      <td>Restaurants, Chinese, Noodles, Dumplings</td>\n",
       "      <td>{'Monday': '11:0-21:0', 'Wednesday': '11:0-21:...</td>\n",
       "    </tr>\n",
       "    <tr>\n",
       "      <th>11265</th>\n",
       "      <td>Wc2dOe5VdFoYwc-0wvkhwg</td>\n",
       "      <td>Italian Centre Shop</td>\n",
       "      <td>10878 95 Street NW</td>\n",
       "      <td>Edmonton</td>\n",
       "      <td>FL</td>\n",
       "      <td>T5H 2E4</td>\n",
       "      <td>53.556265</td>\n",
       "      <td>-113.485181</td>\n",
       "      <td>4.5</td>\n",
       "      <td>114</td>\n",
       "      <td>1</td>\n",
       "      <td>{'RestaurantsReservations': 'False', 'HasTV': ...</td>\n",
       "      <td>Italian, Grocery, Delis, Restaurants, Food, In...</td>\n",
       "      <td>{'Monday': '0:0-0:0', 'Tuesday': '9:0-21:0', '...</td>\n",
       "    </tr>\n",
       "    <tr>\n",
       "      <th>17874</th>\n",
       "      <td>dq-02omJz_ufg1F-BME0kg</td>\n",
       "      <td>Spinelli's Bar Italia</td>\n",
       "      <td>10878 95 St</td>\n",
       "      <td>Edmonton</td>\n",
       "      <td>FL</td>\n",
       "      <td>T5H 2E4</td>\n",
       "      <td>53.556265</td>\n",
       "      <td>-113.485181</td>\n",
       "      <td>4.0</td>\n",
       "      <td>25</td>\n",
       "      <td>1</td>\n",
       "      <td>{'RestaurantsTakeOut': 'True', 'Alcohol': \"'be...</td>\n",
       "      <td>Coffee &amp; Tea, Desserts, Restaurants, Sandwiche...</td>\n",
       "      <td>{'Monday': '9:0-21:0', 'Tuesday': '9:0-21:0', ...</td>\n",
       "    </tr>\n",
       "    <tr>\n",
       "      <th>10641</th>\n",
       "      <td>25uEEaWkWO5PHg_bh9BZwg</td>\n",
       "      <td>Thai Express</td>\n",
       "      <td>109 Street &amp; Princess Elizabeth Avenue, Suite ...</td>\n",
       "      <td>Edmonton</td>\n",
       "      <td>CA</td>\n",
       "      <td>T5G 3A6</td>\n",
       "      <td>53.564194</td>\n",
       "      <td>-113.508499</td>\n",
       "      <td>2.5</td>\n",
       "      <td>8</td>\n",
       "      <td>1</td>\n",
       "      <td>{'RestaurantsTakeOut': 'True', 'RestaurantsDel...</td>\n",
       "      <td>Restaurants, Thai</td>\n",
       "      <td>NaN</td>\n",
       "    </tr>\n",
       "    <tr>\n",
       "      <th>30406</th>\n",
       "      <td>Paoz_eMXP7dodUBUD8n6Sg</td>\n",
       "      <td>Jimmy The Greek</td>\n",
       "      <td>Kingsway Mall, 109 St &amp; Princess Elizabeth Ave</td>\n",
       "      <td>Edmonton</td>\n",
       "      <td>FL</td>\n",
       "      <td>T5G 3A6</td>\n",
       "      <td>53.564194</td>\n",
       "      <td>-113.508499</td>\n",
       "      <td>3.5</td>\n",
       "      <td>11</td>\n",
       "      <td>1</td>\n",
       "      <td>{'RestaurantsReservations': 'False', 'GoodForK...</td>\n",
       "      <td>Fast Food, Greek, Restaurants</td>\n",
       "      <td>NaN</td>\n",
       "    </tr>\n",
       "  </tbody>\n",
       "</table>\n",
       "<p>2546 rows × 14 columns</p>\n",
       "</div>"
      ],
      "text/plain": [
       "                  business_id                              name  \\\n",
       "12037  aYrmK2xwh2iIZB4taWNwtg             Sea Worthy Fish + Bar   \n",
       "18338  cEAjDyP3Zwdz-c3jU0Oq3w  Tierra Verde Property Management   \n",
       "1825   9qccR7IOPYKgjEOOqT8PdQ             Lil Swimmers Aquatics   \n",
       "33281  hDtwZPO-GFAjrJw2kizgtQ           A Breathe of Fresh Aire   \n",
       "19747  DiJ1u1svwBK8SE59UTAhug                  Nava Yoga Studio   \n",
       "...                       ...                               ...   \n",
       "31543  tVJCBzthLTqe7FlFv6WLAA        Golden Dumpling Restaurant   \n",
       "11265  Wc2dOe5VdFoYwc-0wvkhwg               Italian Centre Shop   \n",
       "17874  dq-02omJz_ufg1F-BME0kg             Spinelli's Bar Italia   \n",
       "10641  25uEEaWkWO5PHg_bh9BZwg                      Thai Express   \n",
       "30406  Paoz_eMXP7dodUBUD8n6Sg                   Jimmy The Greek   \n",
       "\n",
       "                                                 address              city  \\\n",
       "12037                             1110 Pinellas Bayway S      Tierra Verde   \n",
       "18338                             1110 Pinellas Bayway S  Saint Petersburg   \n",
       "1825                                                 NaN            Ruskin   \n",
       "33281                                                NaN            Ruskin   \n",
       "19747                           5901 Sun Blvd W, Ste 120    St. Petersburg   \n",
       "...                                                  ...               ...   \n",
       "31543                                   10939-101 Street          Edmonton   \n",
       "11265                                 10878 95 Street NW          Edmonton   \n",
       "17874                                        10878 95 St          Edmonton   \n",
       "10641  109 Street & Princess Elizabeth Avenue, Suite ...          Edmonton   \n",
       "30406     Kingsway Mall, 109 St & Princess Elizabeth Ave          Edmonton   \n",
       "\n",
       "      state postal_code   latitude   longitude  stars  review_count  is_open  \\\n",
       "12037    FL       33715  27.675726  -82.726385    4.5            58        1   \n",
       "18338    FL       33715  27.675726  -82.726385    1.5             6        1   \n",
       "1825     NV       33570  27.695851  -82.453611    4.5             7        1   \n",
       "33281    FL       33570  27.695851  -82.453611    3.5             9        1   \n",
       "19747    FL       33715  27.713162  -82.714213    5.0             5        1   \n",
       "...     ...         ...        ...         ...    ...           ...      ...   \n",
       "31543    CA     T5H 2S7  53.555712 -113.493526    3.5             7        1   \n",
       "11265    FL     T5H 2E4  53.556265 -113.485181    4.5           114        1   \n",
       "17874    FL     T5H 2E4  53.556265 -113.485181    4.0            25        1   \n",
       "10641    CA     T5G 3A6  53.564194 -113.508499    2.5             8        1   \n",
       "30406    FL     T5G 3A6  53.564194 -113.508499    3.5            11        1   \n",
       "\n",
       "                                              attributes  \\\n",
       "12037  {'Ambience': \"{'touristy': None, 'hipster': No...   \n",
       "18338  {'ByAppointmentOnly': 'True', 'BusinessAccepts...   \n",
       "1825   {'GoodForKids': 'True', 'ByAppointmentOnly': '...   \n",
       "33281  {'BusinessAcceptsCreditCards': 'True', 'ByAppo...   \n",
       "19747  {'ByAppointmentOnly': 'False', 'BikeParking': ...   \n",
       "...                                                  ...   \n",
       "31543  {'RestaurantsGoodForGroups': 'True', 'GoodForM...   \n",
       "11265  {'RestaurantsReservations': 'False', 'HasTV': ...   \n",
       "17874  {'RestaurantsTakeOut': 'True', 'Alcohol': \"'be...   \n",
       "10641  {'RestaurantsTakeOut': 'True', 'RestaurantsDel...   \n",
       "30406  {'RestaurantsReservations': 'False', 'GoodForK...   \n",
       "\n",
       "                                              categories  \\\n",
       "12037  Bars, Breakfast & Brunch, Restaurants, Cocktai...   \n",
       "18338    Property Management, Real Estate, Home Services   \n",
       "1825   Education, Local Services, Specialty Schools, ...   \n",
       "33281  Heating & Air Conditioning/HVAC, Local Service...   \n",
       "19747  Yoga, Meditation Centers, Active Life, Medical...   \n",
       "...                                                  ...   \n",
       "31543           Restaurants, Chinese, Noodles, Dumplings   \n",
       "11265  Italian, Grocery, Delis, Restaurants, Food, In...   \n",
       "17874  Coffee & Tea, Desserts, Restaurants, Sandwiche...   \n",
       "10641                                  Restaurants, Thai   \n",
       "30406                      Fast Food, Greek, Restaurants   \n",
       "\n",
       "                                                   hours  \n",
       "12037  {'Tuesday': '16:30-21:0', 'Wednesday': '16:30-...  \n",
       "18338                                                NaN  \n",
       "1825                                                 NaN  \n",
       "33281  {'Monday': '0:0-0:0', 'Tuesday': '0:0-0:0', 'W...  \n",
       "19747  {'Monday': '0:0-0:0', 'Tuesday': '6:30-20:30',...  \n",
       "...                                                  ...  \n",
       "31543  {'Monday': '11:0-21:0', 'Wednesday': '11:0-21:...  \n",
       "11265  {'Monday': '0:0-0:0', 'Tuesday': '9:0-21:0', '...  \n",
       "17874  {'Monday': '9:0-21:0', 'Tuesday': '9:0-21:0', ...  \n",
       "10641                                                NaN  \n",
       "30406                                                NaN  \n",
       "\n",
       "[2546 rows x 14 columns]"
      ]
     },
     "execution_count": 33,
     "metadata": {},
     "output_type": "execute_result"
    }
   ],
   "source": [
    "# Filtrar filas duplicadas basadas en las columnas \"latitude\" y \"longitude\"\n",
    "filas_duplicadas_lat_long = df_business[df_business.duplicated(subset=[\"latitude\", \"longitude\"], keep=False)]\n",
    "# Ordenar el resultado por el nombre y la ciudad para facilitar la comparación\n",
    "filas_duplicadas_ordenadas = filas_duplicadas_lat_long.sort_values(by=[\"latitude\", \"longitude\"])\n",
    "filas_duplicadas_ordenadas"
   ]
  },
  {
   "cell_type": "markdown",
   "metadata": {},
   "source": [
    "Observamos que es posible que se comparta la latitud y longitud y referir a negocios distintos, ubicados dentrode un conglomerado. Por lo que en principio no hacemos nada con estas duplicaciones de latitud y longitud simultaneas."
   ]
  },
  {
   "cell_type": "markdown",
   "metadata": {},
   "source": [
    "Ahora tomaremos una decision respecto a los elementos nulos."
   ]
  },
  {
   "cell_type": "markdown",
   "metadata": {},
   "source": [
    "### Vista preliminar de dataset de checkin"
   ]
  },
  {
   "cell_type": "code",
   "execution_count": null,
   "metadata": {},
   "outputs": [],
   "source": [
    "# Cargar el dataframe de checkin\n",
    "df_checkin =  pd.read_csv(ruta + \"checkin.csv\")"
   ]
  },
  {
   "cell_type": "code",
   "execution_count": null,
   "metadata": {},
   "outputs": [],
   "source": [
    "informacion_dataframe(df_checkin)"
   ]
  },
  {
   "cell_type": "markdown",
   "metadata": {},
   "source": [
    "### Vista preliminar de dataset review"
   ]
  },
  {
   "cell_type": "code",
   "execution_count": 35,
   "metadata": {},
   "outputs": [],
   "source": [
    "# Cargar el dataframe de review\n",
    "df_review =  pd.read_csv(\"Data/Yelp/reviews_filtered_by_state.csv\")"
   ]
  },
  {
   "cell_type": "code",
   "execution_count": 36,
   "metadata": {},
   "outputs": [
    {
     "name": "stdout",
     "output_type": "stream",
     "text": [
      "╒═════════════╤════════════════╤═════════════════════╤═════════╤═══════════╤══════════════╤════════════════╕\n",
      "│ Columna     │ Tipo de Dato   │   Cantidad de Filas │   Nulos │   % Nulos │   Duplicados │   % Duplicados │\n",
      "╞═════════════╪════════════════╪═════════════════════╪═════════╪═══════════╪══════════════╪════════════════╡\n",
      "│ review_id   │ object         │             1820145 │       0 │         0 │            0 │       0        │\n",
      "├─────────────┼────────────────┼─────────────────────┼─────────┼───────────┼──────────────┼────────────────┤\n",
      "│ user_id     │ object         │             1820145 │       0 │         0 │       975179 │      53.577    │\n",
      "├─────────────┼────────────────┼─────────────────────┼─────────┼───────────┼──────────────┼────────────────┤\n",
      "│ business_id │ object         │             1820145 │       0 │         0 │      1780898 │      97.8437   │\n",
      "├─────────────┼────────────────┼─────────────────────┼─────────┼───────────┼──────────────┼────────────────┤\n",
      "│ stars       │ int64          │             1820145 │       0 │         0 │      1820140 │      99.9997   │\n",
      "├─────────────┼────────────────┼─────────────────────┼─────────┼───────────┼──────────────┼────────────────┤\n",
      "│ useful      │ int64          │             1820145 │       0 │         0 │      1819952 │      99.9894   │\n",
      "├─────────────┼────────────────┼─────────────────────┼─────────┼───────────┼──────────────┼────────────────┤\n",
      "│ text        │ object         │             1820145 │       0 │         0 │         3639 │       0.199929 │\n",
      "├─────────────┼────────────────┼─────────────────────┼─────────┼───────────┼──────────────┼────────────────┤\n",
      "│ date        │ object         │             1820145 │       0 │         0 │         7203 │       0.395738 │\n",
      "╘═════════════╧════════════════╧═════════════════════╧═════════╧═══════════╧══════════════╧════════════════╛\n"
     ]
    }
   ],
   "source": [
    "informacion_dataframe(df_review)"
   ]
  },
  {
   "cell_type": "markdown",
   "metadata": {},
   "source": [
    "* No se observan nulos en los datos.\n",
    "* En las columnas \"user_id\", \"bussiness_id\", \"stars\", \"useful\", \"funny\", \"cool\", \"text\" y \"date\" se observan elementos duplicados. Esto no se trata de un error, ya que los valores de estas columnas pueden repetirse en cada reseña. Por ejemplo, puede haber un mismo usuario que hizo reseñas para distintos negocios. O un mismo negocio fue reseñado por distintos usuarios. Las columnas asociadas a las opiniones, texto y fecha tampoco presentan ningun problema respecto a su repeticion.\n",
    "\n"
   ]
  },
  {
   "cell_type": "markdown",
   "metadata": {},
   "source": [
    "Optamos por eliminar las columnas \"funny\" y \"cool\" ya que solo representan una caracteristica que se le da a una reseña y no presentan valor para los objetivos del proyecto."
   ]
  },
  {
   "cell_type": "code",
   "execution_count": 37,
   "metadata": {},
   "outputs": [],
   "source": [
    "# Utiliza iloc para seleccionar todas las columnas excepto \"funny\" y \"cool\"\n",
    "df_review = df_review.iloc[:, ~df_review.columns.isin(['funny', 'cool'])]"
   ]
  },
  {
   "cell_type": "code",
   "execution_count": 38,
   "metadata": {},
   "outputs": [
    {
     "name": "stdout",
     "output_type": "stream",
     "text": [
      "╒═════════════╤════════════════╤═════════════════════╤═════════╤═══════════╤══════════════╤════════════════╕\n",
      "│ Columna     │ Tipo de Dato   │   Cantidad de Filas │   Nulos │   % Nulos │   Duplicados │   % Duplicados │\n",
      "╞═════════════╪════════════════╪═════════════════════╪═════════╪═══════════╪══════════════╪════════════════╡\n",
      "│ review_id   │ object         │             1820145 │       0 │         0 │            0 │       0        │\n",
      "├─────────────┼────────────────┼─────────────────────┼─────────┼───────────┼──────────────┼────────────────┤\n",
      "│ user_id     │ object         │             1820145 │       0 │         0 │       975179 │      53.577    │\n",
      "├─────────────┼────────────────┼─────────────────────┼─────────┼───────────┼──────────────┼────────────────┤\n",
      "│ business_id │ object         │             1820145 │       0 │         0 │      1780898 │      97.8437   │\n",
      "├─────────────┼────────────────┼─────────────────────┼─────────┼───────────┼──────────────┼────────────────┤\n",
      "│ stars       │ int64          │             1820145 │       0 │         0 │      1820140 │      99.9997   │\n",
      "├─────────────┼────────────────┼─────────────────────┼─────────┼───────────┼──────────────┼────────────────┤\n",
      "│ useful      │ int64          │             1820145 │       0 │         0 │      1819952 │      99.9894   │\n",
      "├─────────────┼────────────────┼─────────────────────┼─────────┼───────────┼──────────────┼────────────────┤\n",
      "│ text        │ object         │             1820145 │       0 │         0 │         3639 │       0.199929 │\n",
      "├─────────────┼────────────────┼─────────────────────┼─────────┼───────────┼──────────────┼────────────────┤\n",
      "│ date        │ object         │             1820145 │       0 │         0 │         7203 │       0.395738 │\n",
      "╘═════════════╧════════════════╧═════════════════════╧═════════╧═══════════╧══════════════╧════════════════╛\n"
     ]
    }
   ],
   "source": [
    "informacion_dataframe(df_review)"
   ]
  },
  {
   "cell_type": "markdown",
   "metadata": {},
   "source": [
    "Viendo el \"review_id\", a pesar de no haber duplicados de forma aparente, notamos que puede haber reviews iguales hechas por el mismo usuario, pero que se diferencien solo en alguna/s categoría/s, manteniendo el mismo \"review_id\". Procedemos a ver esta situación."
   ]
  },
  {
   "cell_type": "code",
   "execution_count": 39,
   "metadata": {},
   "outputs": [
    {
     "data": {
      "text/html": [
       "<div>\n",
       "<style scoped>\n",
       "    .dataframe tbody tr th:only-of-type {\n",
       "        vertical-align: middle;\n",
       "    }\n",
       "\n",
       "    .dataframe tbody tr th {\n",
       "        vertical-align: top;\n",
       "    }\n",
       "\n",
       "    .dataframe thead th {\n",
       "        text-align: right;\n",
       "    }\n",
       "</style>\n",
       "<table border=\"1\" class=\"dataframe\">\n",
       "  <thead>\n",
       "    <tr style=\"text-align: right;\">\n",
       "      <th></th>\n",
       "      <th>review_id</th>\n",
       "      <th>user_id</th>\n",
       "      <th>business_id</th>\n",
       "      <th>stars</th>\n",
       "      <th>useful</th>\n",
       "      <th>text</th>\n",
       "      <th>date</th>\n",
       "    </tr>\n",
       "  </thead>\n",
       "  <tbody>\n",
       "    <tr>\n",
       "      <th>325423</th>\n",
       "      <td>gZU6syBqLk210QhnwWbSyw</td>\n",
       "      <td>6d4TXsdOZAsw8_h1r730uA</td>\n",
       "      <td>t1H2xPVsbTRu48bZ5TgItw</td>\n",
       "      <td>1</td>\n",
       "      <td>0</td>\n",
       "      <td>I was home for the holidays and staying with m...</td>\n",
       "      <td>2010-12-27 23:22:50</td>\n",
       "    </tr>\n",
       "    <tr>\n",
       "      <th>332032</th>\n",
       "      <td>6FJ-pUVQsMFHhW4RJltm6w</td>\n",
       "      <td>6d4TXsdOZAsw8_h1r730uA</td>\n",
       "      <td>t1H2xPVsbTRu48bZ5TgItw</td>\n",
       "      <td>1</td>\n",
       "      <td>3</td>\n",
       "      <td>I was home for the holidays and staying with m...</td>\n",
       "      <td>2010-12-27 23:22:50</td>\n",
       "    </tr>\n",
       "    <tr>\n",
       "      <th>362085</th>\n",
       "      <td>uN7sRdsxIJgmD5REegSpBA</td>\n",
       "      <td>6d4TXsdOZAsw8_h1r730uA</td>\n",
       "      <td>t1H2xPVsbTRu48bZ5TgItw</td>\n",
       "      <td>1</td>\n",
       "      <td>1</td>\n",
       "      <td>I was home for the holidays and staying with m...</td>\n",
       "      <td>2010-12-27 23:22:50</td>\n",
       "    </tr>\n",
       "    <tr>\n",
       "      <th>693106</th>\n",
       "      <td>lzBHkMZayoGSpIPDOIIEug</td>\n",
       "      <td>3B5wkOgsrjBjXRpGdrmTSA</td>\n",
       "      <td>n3Q7DXPyBzGjPK1l09SomQ</td>\n",
       "      <td>4</td>\n",
       "      <td>0</td>\n",
       "      <td>Fox Rehab at-home in Virgina-Northern, Fairfax...</td>\n",
       "      <td>2021-02-01 17:04:06</td>\n",
       "    </tr>\n",
       "    <tr>\n",
       "      <th>722113</th>\n",
       "      <td>QacdXke_oZAD662oeFyUxg</td>\n",
       "      <td>3B5wkOgsrjBjXRpGdrmTSA</td>\n",
       "      <td>n3Q7DXPyBzGjPK1l09SomQ</td>\n",
       "      <td>4</td>\n",
       "      <td>0</td>\n",
       "      <td>Fox Rehab at-home in Virgina-Northern, Fairfax...</td>\n",
       "      <td>2021-02-01 17:04:06</td>\n",
       "    </tr>\n",
       "    <tr>\n",
       "      <th>1425452</th>\n",
       "      <td>XjlaQ5ImGg1uL2XelQA2xw</td>\n",
       "      <td>xZ0ioQJ0Jyo_Uc0FzmyFQQ</td>\n",
       "      <td>O_kAd89gPls-dXda40NWzA</td>\n",
       "      <td>5</td>\n",
       "      <td>0</td>\n",
       "      <td>My son and I moved here from South Carolina a ...</td>\n",
       "      <td>2019-11-22 07:18:46</td>\n",
       "    </tr>\n",
       "    <tr>\n",
       "      <th>1438330</th>\n",
       "      <td>8JcvaBpFPAe7lIVSazi0hQ</td>\n",
       "      <td>xZ0ioQJ0Jyo_Uc0FzmyFQQ</td>\n",
       "      <td>O_kAd89gPls-dXda40NWzA</td>\n",
       "      <td>5</td>\n",
       "      <td>0</td>\n",
       "      <td>My son and I moved here from South Carolina a ...</td>\n",
       "      <td>2019-11-22 07:18:46</td>\n",
       "    </tr>\n",
       "  </tbody>\n",
       "</table>\n",
       "</div>"
      ],
      "text/plain": [
       "                      review_id                 user_id  \\\n",
       "325423   gZU6syBqLk210QhnwWbSyw  6d4TXsdOZAsw8_h1r730uA   \n",
       "332032   6FJ-pUVQsMFHhW4RJltm6w  6d4TXsdOZAsw8_h1r730uA   \n",
       "362085   uN7sRdsxIJgmD5REegSpBA  6d4TXsdOZAsw8_h1r730uA   \n",
       "693106   lzBHkMZayoGSpIPDOIIEug  3B5wkOgsrjBjXRpGdrmTSA   \n",
       "722113   QacdXke_oZAD662oeFyUxg  3B5wkOgsrjBjXRpGdrmTSA   \n",
       "1425452  XjlaQ5ImGg1uL2XelQA2xw  xZ0ioQJ0Jyo_Uc0FzmyFQQ   \n",
       "1438330  8JcvaBpFPAe7lIVSazi0hQ  xZ0ioQJ0Jyo_Uc0FzmyFQQ   \n",
       "\n",
       "                    business_id  stars  useful  \\\n",
       "325423   t1H2xPVsbTRu48bZ5TgItw      1       0   \n",
       "332032   t1H2xPVsbTRu48bZ5TgItw      1       3   \n",
       "362085   t1H2xPVsbTRu48bZ5TgItw      1       1   \n",
       "693106   n3Q7DXPyBzGjPK1l09SomQ      4       0   \n",
       "722113   n3Q7DXPyBzGjPK1l09SomQ      4       0   \n",
       "1425452  O_kAd89gPls-dXda40NWzA      5       0   \n",
       "1438330  O_kAd89gPls-dXda40NWzA      5       0   \n",
       "\n",
       "                                                      text  \\\n",
       "325423   I was home for the holidays and staying with m...   \n",
       "332032   I was home for the holidays and staying with m...   \n",
       "362085   I was home for the holidays and staying with m...   \n",
       "693106   Fox Rehab at-home in Virgina-Northern, Fairfax...   \n",
       "722113   Fox Rehab at-home in Virgina-Northern, Fairfax...   \n",
       "1425452  My son and I moved here from South Carolina a ...   \n",
       "1438330  My son and I moved here from South Carolina a ...   \n",
       "\n",
       "                        date  \n",
       "325423   2010-12-27 23:22:50  \n",
       "332032   2010-12-27 23:22:50  \n",
       "362085   2010-12-27 23:22:50  \n",
       "693106   2021-02-01 17:04:06  \n",
       "722113   2021-02-01 17:04:06  \n",
       "1425452  2019-11-22 07:18:46  \n",
       "1438330  2019-11-22 07:18:46  "
      ]
     },
     "execution_count": 39,
     "metadata": {},
     "output_type": "execute_result"
    }
   ],
   "source": [
    "duplicated_rows = df_review[df_review.duplicated(subset=['user_id', 'text', 'date', 'business_id', 'stars'], keep=False)]\n",
    "duplicated_rows"
   ]
  },
  {
   "cell_type": "markdown",
   "metadata": {},
   "source": [
    "De esta forma podemos ver que hay reseñas repetidas, probablemente por errores del servidor en capturar las reviews o incluso por algun comportamiento del usuario."
   ]
  },
  {
   "cell_type": "markdown",
   "metadata": {},
   "source": [
    "Procedemos a eliminar las reseñas repetidas"
   ]
  },
  {
   "cell_type": "code",
   "execution_count": 40,
   "metadata": {},
   "outputs": [],
   "source": [
    "# Eliminar las filas duplicadas conservando solo la primera ocurrencia\n",
    "df_review = df_review.drop_duplicates(subset=['user_id', 'text', 'date', 'business_id', 'stars'], keep='first')"
   ]
  },
  {
   "cell_type": "code",
   "execution_count": 41,
   "metadata": {},
   "outputs": [
    {
     "name": "stdout",
     "output_type": "stream",
     "text": [
      "╒═════════════╤════════════════╤═════════════════════╤═════════╤═══════════╤══════════════╤════════════════╕\n",
      "│ Columna     │ Tipo de Dato   │   Cantidad de Filas │   Nulos │   % Nulos │   Duplicados │   % Duplicados │\n",
      "╞═════════════╪════════════════╪═════════════════════╪═════════╪═══════════╪══════════════╪════════════════╡\n",
      "│ review_id   │ object         │             1820141 │       0 │         0 │            0 │       0        │\n",
      "├─────────────┼────────────────┼─────────────────────┼─────────┼───────────┼──────────────┼────────────────┤\n",
      "│ user_id     │ object         │             1820141 │       0 │         0 │       975175 │      53.5769   │\n",
      "├─────────────┼────────────────┼─────────────────────┼─────────┼───────────┼──────────────┼────────────────┤\n",
      "│ business_id │ object         │             1820141 │       0 │         0 │      1780894 │      97.8437   │\n",
      "├─────────────┼────────────────┼─────────────────────┼─────────┼───────────┼──────────────┼────────────────┤\n",
      "│ stars       │ int64          │             1820141 │       0 │         0 │      1820136 │      99.9997   │\n",
      "├─────────────┼────────────────┼─────────────────────┼─────────┼───────────┼──────────────┼────────────────┤\n",
      "│ useful      │ int64          │             1820141 │       0 │         0 │      1819948 │      99.9894   │\n",
      "├─────────────┼────────────────┼─────────────────────┼─────────┼───────────┼──────────────┼────────────────┤\n",
      "│ text        │ object         │             1820141 │       0 │         0 │         3635 │       0.19971  │\n",
      "├─────────────┼────────────────┼─────────────────────┼─────────┼───────────┼──────────────┼────────────────┤\n",
      "│ date        │ object         │             1820141 │       0 │         0 │         7199 │       0.395519 │\n",
      "╘═════════════╧════════════════╧═════════════════════╧═════════╧═══════════╧══════════════╧════════════════╛\n"
     ]
    }
   ],
   "source": [
    "informacion_dataframe(df_review)"
   ]
  },
  {
   "cell_type": "markdown",
   "metadata": {},
   "source": [
    "Se exporta el dataframe limpio como csv"
   ]
  },
  {
   "cell_type": "code",
   "execution_count": 42,
   "metadata": {},
   "outputs": [],
   "source": [
    "df_review.to_csv(ruta+'df_review_clean.csv', index=False)"
   ]
  },
  {
   "cell_type": "markdown",
   "metadata": {},
   "source": [
    "### Vista preliminar de dataset tip"
   ]
  },
  {
   "cell_type": "code",
   "execution_count": null,
   "metadata": {},
   "outputs": [],
   "source": [
    "# Cargar el dataframe tip\n",
    "df_tip =  pd.read_csv(ruta + \"tip.csv\")"
   ]
  },
  {
   "cell_type": "code",
   "execution_count": null,
   "metadata": {},
   "outputs": [],
   "source": [
    "informacion_dataframe(df_tip)"
   ]
  },
  {
   "cell_type": "markdown",
   "metadata": {},
   "source": [
    "### Vista preliminar de dataset user"
   ]
  },
  {
   "cell_type": "code",
   "execution_count": null,
   "metadata": {},
   "outputs": [],
   "source": [
    "# Cargar el dataframe de user\n",
    "df_user =  pd.read_csv(ruta + \"user.csv\")"
   ]
  },
  {
   "cell_type": "code",
   "execution_count": null,
   "metadata": {},
   "outputs": [],
   "source": [
    "informacion_dataframe(df_user)"
   ]
  }
 ],
 "metadata": {
  "kernelspec": {
   "display_name": "Python 3",
   "language": "python",
   "name": "python3"
  },
  "language_info": {
   "codemirror_mode": {
    "name": "ipython",
    "version": 3
   },
   "file_extension": ".py",
   "mimetype": "text/x-python",
   "name": "python",
   "nbconvert_exporter": "python",
   "pygments_lexer": "ipython3",
   "version": "3.11.8"
  }
 },
 "nbformat": 4,
 "nbformat_minor": 2
}
